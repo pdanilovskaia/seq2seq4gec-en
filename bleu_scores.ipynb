{
 "cells": [
  {
   "cell_type": "code",
   "id": "initial_id",
   "metadata": {
    "collapsed": true,
    "ExecuteTime": {
     "end_time": "2024-09-02T11:17:17.233935Z",
     "start_time": "2024-09-02T11:17:04.810054Z"
    }
   },
   "source": [
    "import evaluate\n",
    "google_bleu = evaluate.load(\"google_bleu\")"
   ],
   "outputs": [],
   "execution_count": 3
  },
  {
   "metadata": {},
   "cell_type": "markdown",
   "source": "Gleu scores on one example across all eight models:",
   "id": "4e5d69b4bd0be15b"
  },
  {
   "metadata": {
    "ExecuteTime": {
     "end_time": "2024-09-02T11:20:17.372020Z",
     "start_time": "2024-09-02T11:20:17.366637Z"
    }
   },
   "cell_type": "code",
   "source": [
    "sentence1 = [\"I think that should be be a a of of of in the the of of the of of the of of                   the of the\",\n",
    "             \"However , there there have the of of our food 's lives , it is the , , the the , the the ,\",\n",
    "             \"In the past , the world of the are the the the the the the the the of the and and , , and ,\",\n",
    "             \"On you , you can have a a a the and , and the the , , the the , and the the the of\",\n",
    "             \"From a point of view , the professor of the thes , the the the the the the the the the the the the\",\n",
    "             \"If thaty has a a of ofs ,ingingsss , , , , , , , , ,'\",\n",
    "             \"Tcraation of the of the of thes , they are beeneded by the the and the the\",\n",
    "             \"In the beginning of the questionnaire , they of thess , thes , thes and thes and thes\"\n",
    "             ]\n",
    "sentence2 = \"Although such a show of strength by these works ' characters is sometimes viewed as a violent and therefore negative contribution to the otherwise insightful thought of the author , it is this conflict upon which many stories of ethnic American literature are based .\""
   ],
   "id": "5519c950990c4512",
   "outputs": [],
   "execution_count": 11
  },
  {
   "metadata": {
    "ExecuteTime": {
     "end_time": "2024-09-02T11:29:02.499882Z",
     "start_time": "2024-09-02T11:29:02.472768Z"
    }
   },
   "cell_type": "code",
   "source": [
    "i=1\n",
    "for sentence in sentence1:\n",
    "    result = google_bleu.compute(predictions=[sentence], references=[[sentence2]])\n",
    "    print(f\"model_{i}: GLEU score = {result['google_bleu']:.4f}\")\n",
    "    i += 1"
   ],
   "id": "96f609d428b8207b",
   "outputs": [
    {
     "name": "stdout",
     "output_type": "stream",
     "text": [
      "model_1: GLEU score = 0.0402\n",
      "model_2: GLEU score = 0.0575\n",
      "model_3: GLEU score = 0.0460\n",
      "model_4: GLEU score = 0.0402\n",
      "model_5: GLEU score = 0.0402\n",
      "model_6: GLEU score = 0.0287\n",
      "model_7: GLEU score = 0.0575\n",
      "model_8: GLEU score = 0.0402\n"
     ]
    }
   ],
   "execution_count": 15
  },
  {
   "metadata": {},
   "cell_type": "markdown",
   "source": "Second example",
   "id": "3fa85341ecf0dd7b"
  },
  {
   "metadata": {
    "ExecuteTime": {
     "end_time": "2024-09-02T12:50:47.247874Z",
     "start_time": "2024-09-02T12:50:47.242130Z"
    }
   },
   "cell_type": "code",
   "source": [
    "sentence1 = [\n",
    "    \"I is aed , a a .\",\n",
    "    \"The is a a a called . .\",\n",
    "    \"and a is a a of sword . .\",\n",
    "    \"It pain of the the . .\",\n",
    "    \"Life ares a a a and and . .\",\n",
    "    \"After ainginging ase . .\",\n",
    "    \"Thisone has a very long and . .\",\n",
    "    \"and verymental and , and a very .\"\n",
    "]\n",
    "sentence2 = 'Two cats is catching a butterfly.'"
   ],
   "id": "b8e02b77aebdd782",
   "outputs": [],
   "execution_count": 18
  },
  {
   "metadata": {
    "ExecuteTime": {
     "end_time": "2024-09-02T12:50:47.752314Z",
     "start_time": "2024-09-02T12:50:47.724439Z"
    }
   },
   "cell_type": "code",
   "source": [
    "i=1\n",
    "for sentence in sentence1:\n",
    "    result = google_bleu.compute(predictions=[sentence], references=[[sentence2]])\n",
    "    print(f\"model_{i}: GLEU score = {result['google_bleu']:.4f}\")\n",
    "    i += 1"
   ],
   "id": "1719e0a157218ef4",
   "outputs": [
    {
     "name": "stdout",
     "output_type": "stream",
     "text": [
      "model_1: GLEU score = 0.1364\n",
      "model_2: GLEU score = 0.1154\n",
      "model_3: GLEU score = 0.1000\n",
      "model_4: GLEU score = 0.0455\n",
      "model_5: GLEU score = 0.0667\n",
      "model_6: GLEU score = 0.0455\n",
      "model_7: GLEU score = 0.0769\n",
      "model_8: GLEU score = 0.0769\n"
     ]
    }
   ],
   "execution_count": 19
  },
  {
   "metadata": {},
   "cell_type": "code",
   "outputs": [],
   "execution_count": null,
   "source": "",
   "id": "74eeb4827cfde819"
  }
 ],
 "metadata": {
  "kernelspec": {
   "display_name": "Python 3",
   "language": "python",
   "name": "python3"
  },
  "language_info": {
   "codemirror_mode": {
    "name": "ipython",
    "version": 2
   },
   "file_extension": ".py",
   "mimetype": "text/x-python",
   "name": "python",
   "nbconvert_exporter": "python",
   "pygments_lexer": "ipython2",
   "version": "2.7.6"
  }
 },
 "nbformat": 4,
 "nbformat_minor": 5
}
