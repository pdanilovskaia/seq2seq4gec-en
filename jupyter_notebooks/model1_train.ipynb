{
 "cells": [
  {
   "cell_type": "markdown",
   "id": "1cfec7ae913db671",
   "metadata": {
    "id": "1cfec7ae913db671"
   },
   "source": [
    "## Seq2Seq Model\n",
    "\n",
    "In this notebook, we finally construct our an encoder-decoder model for Grammatical Error Correction, modifying the hyperparameters, visualising the training and validation processes, and examining a selection of examples from the test data.\n",
    "\n",
    " The following notebook was developed based on the teaching unit at the University of Potsdam of Meng Li, which in turn was inspired by  [Ben Trevett's Seq2seq tutorial](https://github.com/bentrevett/pytorch-seq2seq/). "
   ]
  },
  {
   "cell_type": "code",
   "execution_count": 10,
   "id": "Sy-rLnJCyBR7",
   "metadata": {
    "colab": {
     "base_uri": "https://localhost:8080/"
    },
    "executionInfo": {
     "elapsed": 3077,
     "status": "ok",
     "timestamp": 1725277155745,
     "user": {
      "displayName": "Polina Danilovskaia",
      "userId": "10456728383422716320"
     },
     "user_tz": -120
    },
    "id": "Sy-rLnJCyBR7",
    "outputId": "3d2ed7b2-ab6d-4166-93f9-4409c44173d0"
   },
   "outputs": [
    {
     "name": "stdout",
     "output_type": "stream",
     "text": [
      "Drive already mounted at /content/gdrive; to attempt to forcibly remount, call drive.mount(\"/content/gdrive\", force_remount=True).\n"
     ]
    }
   ],
   "source": [
    "from google.colab import drive\n",
    "drive.mount('/content/gdrive')"
   ]
  },
  {
   "cell_type": "code",
   "execution_count": 11,
   "id": "kT-XG_oRyE7x",
   "metadata": {
    "executionInfo": {
     "elapsed": 9,
     "status": "ok",
     "timestamp": 1725277155746,
     "user": {
      "displayName": "Polina Danilovskaia",
      "userId": "10456728383422716320"
     },
     "user_tz": -120
    },
    "id": "kT-XG_oRyE7x"
   },
   "outputs": [],
   "source": [
    "import os\n",
    "PATH = r\"/content/gdrive/My Drive/Colab Notebooks/gec24\"\n",
    "os.chdir(PATH)"
   ]
  },
  {
   "cell_type": "code",
   "execution_count": 12,
   "id": "d916dd2b9945a8a0",
   "metadata": {
    "executionInfo": {
     "elapsed": 9,
     "status": "ok",
     "timestamp": 1725277155746,
     "user": {
      "displayName": "Polina Danilovskaia",
      "userId": "10456728383422716320"
     },
     "user_tz": -120
    },
    "id": "d916dd2b9945a8a0"
   },
   "outputs": [],
   "source": [
    "import torch\n",
    "import torch.nn as nn\n",
    "import matplotlib.pyplot as plt\n",
    "import random\n",
    "import tqdm\n",
    "import numpy as np\n",
    "import sentencepiece as spm"
   ]
  },
  {
   "metadata": {},
   "cell_type": "markdown",
   "source": "Let's start by creating a function that will pad our sequences to the desired length.",
   "id": "57c9970ba76d93ff"
  },
  {
   "cell_type": "code",
   "execution_count": 13,
   "id": "77f82a4c70b6f8ba",
   "metadata": {
    "executionInfo": {
     "elapsed": 8,
     "status": "ok",
     "timestamp": 1725277155746,
     "user": {
      "displayName": "Polina Danilovskaia",
      "userId": "10456728383422716320"
     },
     "user_tz": -120
    },
    "id": "77f82a4c70b6f8ba"
   },
   "outputs": [],
   "source": [
    "def get_collate_fn(pad_index):\n",
    "    def collate_fn(batch):\n",
    "        batch_src_ids = [example[\"src_ids\"] for example in batch]\n",
    "        batch_tgt_ids = [example[\"tgt_ids\"] for example in batch]\n",
    "        batch_src_ids = nn.utils.rnn.pad_sequence(batch_src_ids, padding_value=pad_index)\n",
    "        batch_tgt_ids = nn.utils.rnn.pad_sequence(batch_tgt_ids, padding_value=pad_index)\n",
    "        batch = {\n",
    "            \"src_ids\": batch_src_ids,\n",
    "            \"tgt_ids\": batch_tgt_ids,\n",
    "        }\n",
    "        return batch\n",
    "\n",
    "    return collate_fn"
   ]
  },
  {
   "cell_type": "markdown",
   "id": "1f5ee17c9da7b060",
   "metadata": {
    "id": "1f5ee17c9da7b060"
   },
   "source": [
    "Next, we write the functions which give us our data loaders creating using PyTorch's DataLoader class.\n",
    "get_data_loader is created using a Dataset, the batch size, the padding token index (which is used for creating the batches in the collate_fn, and a boolean deciding if the examples should be shuffled at the time the data loader is iterated over.\n",
    "The batch size defines the maximum amount of examples within a batch. If the length of the dataset is not evenly divisible by the batch size then the last batch will be smaller."
   ]
  },
  {
   "cell_type": "code",
   "execution_count": 14,
   "id": "68f07d33bc08875f",
   "metadata": {
    "executionInfo": {
     "elapsed": 8,
     "status": "ok",
     "timestamp": 1725277155746,
     "user": {
      "displayName": "Polina Danilovskaia",
      "userId": "10456728383422716320"
     },
     "user_tz": -120
    },
    "id": "68f07d33bc08875f"
   },
   "outputs": [],
   "source": [
    "def get_data_loader(dataset, batch_size, pad_index, shuffle=False):\n",
    "    collate_fn = get_collate_fn(pad_index)\n",
    "    data_loader = torch.utils.data.DataLoader(\n",
    "        dataset=dataset,\n",
    "        batch_size=batch_size,\n",
    "        collate_fn=collate_fn,\n",
    "        shuffle=shuffle,\n",
    "    )\n",
    "    return data_loader"
   ]
  },
  {
   "cell_type": "code",
   "execution_count": 15,
   "id": "cdccc46c1e8cd4dc",
   "metadata": {
    "executionInfo": {
     "elapsed": 8,
     "status": "ok",
     "timestamp": 1725277155746,
     "user": {
      "displayName": "Polina Danilovskaia",
      "userId": "10456728383422716320"
     },
     "user_tz": -120
    },
    "id": "cdccc46c1e8cd4dc"
   },
   "outputs": [],
   "source": [
    "model_name = 'bpe_8000'"
   ]
  },
  {
   "metadata": {},
   "cell_type": "markdown",
   "source": "Loading data:",
   "id": "5f1893a5a497b060"
  },
  {
   "cell_type": "code",
   "id": "552f4b859db744f8",
   "metadata": {
    "colab": {
     "base_uri": "https://localhost:8080/"
    },
    "executionInfo": {
     "elapsed": 4557,
     "status": "ok",
     "timestamp": 1725277160295,
     "user": {
      "displayName": "Polina Danilovskaia",
      "userId": "10456728383422716320"
     },
     "user_tz": -120
    },
    "id": "552f4b859db744f8",
    "outputId": "5fd866e5-1072-49ac-8015-c16f54d0639e"
   },
   "source": [
    "train_data = torch.load(\"/content/gdrive/My Drive/Colab Notebooks/gec24/data/tokenized_data/bpe_8000_train.pt\")\n",
    "dev_data = torch.load(\"/content/gdrive/My Drive/Colab Notebooks/gec24/data/tokenized_data/bpe_8000_dev.pt\")\n",
    "test_data = torch.load(\"/content/gdrive/My Drive/Colab Notebooks/gec24/data/tokenized_data/bpe_8000_test.pt\")"
   ],
   "outputs": [],
   "execution_count": null
  },
  {
   "cell_type": "code",
   "execution_count": 17,
   "id": "80decdf60398939",
   "metadata": {
    "executionInfo": {
     "elapsed": 21,
     "status": "ok",
     "timestamp": 1725277160295,
     "user": {
      "displayName": "Polina Danilovskaia",
      "userId": "10456728383422716320"
     },
     "user_tz": -120
    },
    "id": "80decdf60398939"
   },
   "outputs": [],
   "source": [
    "model_filename = 'tokenizer_models/' + model_name + '.model'\n",
    "sp = spm.SentencePieceProcessor(model_file=model_filename)"
   ]
  },
  {
   "cell_type": "markdown",
   "id": "acd0ea57630cad83",
   "metadata": {
    "id": "acd0ea57630cad83"
   },
   "source": [
    "Finally, we create our data loaders.\n",
    "\n",
    "Shuffling of data makes training more stable and potentially improves the final performance of the model, however only needs to be done on the training set."
   ]
  },
  {
   "cell_type": "code",
   "execution_count": 18,
   "id": "9790cdc191017a0b",
   "metadata": {
    "executionInfo": {
     "elapsed": 17,
     "status": "ok",
     "timestamp": 1725277160295,
     "user": {
      "displayName": "Polina Danilovskaia",
      "userId": "10456728383422716320"
     },
     "user_tz": -120
    },
    "id": "9790cdc191017a0b"
   },
   "outputs": [],
   "source": [
    "batch_size = 128\n",
    "pad_index = 0\n",
    "\n",
    "train_data_loader = get_data_loader(train_data, batch_size, pad_index, shuffle=True)\n",
    "dev_data_loader = get_data_loader(dev_data, batch_size, pad_index)\n",
    "test_data_loader = get_data_loader(test_data, batch_size, pad_index)"
   ]
  },
  {
   "cell_type": "markdown",
   "id": "b452bafe84aa74b0",
   "metadata": {
    "id": "b452bafe84aa74b0"
   },
   "source": "### Building  a model"
  },
  {
   "cell_type": "code",
   "execution_count": 19,
   "id": "333d2c5448e31110",
   "metadata": {
    "executionInfo": {
     "elapsed": 16,
     "status": "ok",
     "timestamp": 1725277160295,
     "user": {
      "displayName": "Polina Danilovskaia",
      "userId": "10456728383422716320"
     },
     "user_tz": -120
    },
    "id": "333d2c5448e31110"
   },
   "outputs": [],
   "source": [
    "class Encoder(nn.Module):\n",
    "    def __init__(self, input_dim, embedding_dim, hidden_dim, n_layers, dropout):\n",
    "        super().__init__()\n",
    "        self.hidden_dim = hidden_dim\n",
    "        self.n_layers = n_layers\n",
    "        self.embedding = nn.Embedding(input_dim, embedding_dim)\n",
    "        self.rnn = nn.LSTM(embedding_dim, hidden_dim, n_layers, dropout=dropout)\n",
    "        self.dropout = nn.Dropout(dropout)\n",
    "\n",
    "    def forward(self, src):\n",
    "        # src = [src length, batch size]\n",
    "        embedded = self.dropout(self.embedding(src))\n",
    "        # embedded = [src length, batch size, embedding dim]\n",
    "        outputs, (hidden, cell) = self.rnn(embedded)\n",
    "        # outputs = [src length, batch size, hidden dim * n directions]\n",
    "        # hidden = [n layers * n directions, batch size, hidden dim]\n",
    "        # cell = [n layers * n directions, batch size, hidden dim]\n",
    "        # outputs are always from the top hidden layer\n",
    "        return hidden, cell"
   ]
  },
  {
   "cell_type": "code",
   "execution_count": 20,
   "id": "cbd807ef8a026cae",
   "metadata": {
    "executionInfo": {
     "elapsed": 16,
     "status": "ok",
     "timestamp": 1725277160295,
     "user": {
      "displayName": "Polina Danilovskaia",
      "userId": "10456728383422716320"
     },
     "user_tz": -120
    },
    "id": "cbd807ef8a026cae"
   },
   "outputs": [],
   "source": [
    "class Decoder(nn.Module):\n",
    "    def __init__(self, output_dim, embedding_dim, hidden_dim, n_layers, dropout):\n",
    "        super().__init__()\n",
    "        self.output_dim = output_dim\n",
    "        self.hidden_dim = hidden_dim\n",
    "        self.n_layers = n_layers\n",
    "        self.embedding = nn.Embedding(output_dim, embedding_dim)\n",
    "        self.rnn = nn.LSTM(embedding_dim, hidden_dim, n_layers, dropout=dropout)\n",
    "        self.fc_out = nn.Linear(hidden_dim, output_dim)\n",
    "        self.dropout = nn.Dropout(dropout)\n",
    "\n",
    "    def forward(self, input, hidden, cell):\n",
    "        # input = [batch size]\n",
    "        # hidden = [n layers * n directions, batch size, hidden dim]\n",
    "        # cell = [n layers * n directions, batch size, hidden dim]\n",
    "        # n directions in the decoder will both always be 1, therefore:\n",
    "        # hidden = [n layers, batch size, hidden dim]\n",
    "        # context = [n layers, batch size, hidden dim]\n",
    "        input = input.unsqueeze(0)\n",
    "        # input = [1, batch size]\n",
    "        embedded = self.dropout(self.embedding(input))\n",
    "        # embedded = [1, batch size, embedding dim]\n",
    "        output, (hidden, cell) = self.rnn(embedded, (hidden, cell))\n",
    "        # output = [seq length, batch size, hidden dim * n directions]\n",
    "        # hidden = [n layers * n directions, batch size, hidden dim]\n",
    "        # cell = [n layers * n directions, batch size, hidden dim]\n",
    "        # seq length and n directions will always be 1 in this decoder, therefore:\n",
    "        # output = [1, batch size, hidden dim]\n",
    "        # hidden = [n layers, batch size, hidden dim]\n",
    "        # cell = [n layers, batch size, hidden dim]\n",
    "        prediction = self.fc_out(output.squeeze(0))\n",
    "        # prediction = [batch size, output dim]\n",
    "        return prediction, hidden, cell"
   ]
  },
  {
   "cell_type": "code",
   "execution_count": 21,
   "id": "94f8f70283fdfb6b",
   "metadata": {
    "executionInfo": {
     "elapsed": 16,
     "status": "ok",
     "timestamp": 1725277160296,
     "user": {
      "displayName": "Polina Danilovskaia",
      "userId": "10456728383422716320"
     },
     "user_tz": -120
    },
    "id": "94f8f70283fdfb6b"
   },
   "outputs": [],
   "source": [
    "class Seq2Seq(nn.Module):\n",
    "    def __init__(self, encoder, decoder, device):\n",
    "        super().__init__()\n",
    "        self.encoder = encoder\n",
    "        self.decoder = decoder\n",
    "        self.device = device\n",
    "        assert (\n",
    "            encoder.hidden_dim == decoder.hidden_dim\n",
    "        ), \"Hidden dimensions of encoder and decoder must be equal!\"\n",
    "        assert (\n",
    "            encoder.n_layers == decoder.n_layers\n",
    "        ), \"Encoder and decoder must have equal number of layers!\"\n",
    "\n",
    "    def forward(self, src, tgt, teacher_forcing_ratio):\n",
    "        # src = [src length, batch size]\n",
    "        # tgt = [tgt length, batch size]\n",
    "        # teacher_forcing_ratio is probability to use teacher forcing\n",
    "        # e.g. if teacher_forcing_ratio is 0.75 we use ground-truth inputs 75% of the time\n",
    "        batch_size = tgt.shape[1]\n",
    "        tgt_length = tgt.shape[0]\n",
    "        tgt_vocab_size = self.decoder.output_dim\n",
    "        # tensor to store decoder outputs\n",
    "        outputs = torch.zeros(tgt_length, batch_size, tgt_vocab_size).to(self.device)\n",
    "        # last hidden state of the encoder is used as the initial hidden state of the decoder\n",
    "        hidden, cell = self.encoder(src)\n",
    "        # hidden = [n layers * n directions, batch size, hidden dim]\n",
    "        # cell = [n layers * n directions, batch size, hidden dim]\n",
    "        # first input to the decoder is the <sos> tokens\n",
    "        input = tgt[0, :]\n",
    "        # input = [batch size]\n",
    "        for t in range(1, tgt_length):\n",
    "            # insert input token embedding, previous hidden and previous cell states\n",
    "            # receive output tensor (predictions) and new hidden and cell states\n",
    "            output, hidden, cell = self.decoder(input, hidden, cell)\n",
    "            # output = [batch size, output dim]\n",
    "            # hidden = [n layers, batch size, hidden dim]\n",
    "            # cell = [n layers, batch size, hidden dim]\n",
    "            # place predictions in a tensor holding predictions for each token\n",
    "            outputs[t] = output\n",
    "            # decide if we are going to use teacher forcing or not\n",
    "            teacher_force = random.random() < teacher_forcing_ratio\n",
    "            # get the highest predicted token from our predictions\n",
    "            top1 = output.argmax(1)\n",
    "            # if teacher forcing, use actual next token as next input\n",
    "            # if not, use predicted token\n",
    "            input = tgt[t] if teacher_force else top1\n",
    "            # input = [batch size]\n",
    "        return outputs"
   ]
  },
  {
   "metadata": {},
   "cell_type": "markdown",
   "source": "Setting up the model",
   "id": "67a34d8da20f44e5"
  },
  {
   "cell_type": "code",
   "execution_count": 22,
   "id": "6aeb28606ff0c91d",
   "metadata": {
    "executionInfo": {
     "elapsed": 1001,
     "status": "ok",
     "timestamp": 1725277161282,
     "user": {
      "displayName": "Polina Danilovskaia",
      "userId": "10456728383422716320"
     },
     "user_tz": -120
    },
    "id": "6aeb28606ff0c91d"
   },
   "outputs": [],
   "source": [
    "input_dim = sp.get_piece_size()\n",
    "output_dim = sp.get_piece_size()\n",
    "encoder_embedding_dim = 256\n",
    "decoder_embedding_dim = 256\n",
    "hidden_dim = 512\n",
    "n_layers = 2\n",
    "encoder_dropout = 0.5\n",
    "decoder_dropout = 0.5\n",
    "device = torch.device(\"cuda\" if torch.cuda.is_available() else \"cpu\")\n",
    "\n",
    "encoder = Encoder(\n",
    "    input_dim,\n",
    "    encoder_embedding_dim,\n",
    "    hidden_dim,\n",
    "    n_layers,\n",
    "    encoder_dropout,\n",
    ")\n",
    "\n",
    "decoder = Decoder(\n",
    "    output_dim,\n",
    "    decoder_embedding_dim,\n",
    "    hidden_dim,\n",
    "    n_layers,\n",
    "    decoder_dropout,\n",
    ")\n",
    "\n",
    "model = Seq2Seq(encoder, decoder, device).to(device)"
   ]
  },
  {
   "cell_type": "code",
   "execution_count": 23,
   "id": "55d985b695967ac3",
   "metadata": {
    "colab": {
     "base_uri": "https://localhost:8080/"
    },
    "executionInfo": {
     "elapsed": 11,
     "status": "ok",
     "timestamp": 1725277161282,
     "user": {
      "displayName": "Polina Danilovskaia",
      "userId": "10456728383422716320"
     },
     "user_tz": -120
    },
    "id": "55d985b695967ac3",
    "outputId": "5fb717d9-368f-4e77-ff56-c31073c2676b"
   },
   "outputs": [
    {
     "data": {
      "text/plain": [
       "Seq2Seq(\n",
       "  (encoder): Encoder(\n",
       "    (embedding): Embedding(8000, 256)\n",
       "    (rnn): LSTM(256, 512, num_layers=2, dropout=0.5)\n",
       "    (dropout): Dropout(p=0.5, inplace=False)\n",
       "  )\n",
       "  (decoder): Decoder(\n",
       "    (embedding): Embedding(8000, 256)\n",
       "    (rnn): LSTM(256, 512, num_layers=2, dropout=0.5)\n",
       "    (fc_out): Linear(in_features=512, out_features=8000, bias=True)\n",
       "    (dropout): Dropout(p=0.5, inplace=False)\n",
       "  )\n",
       ")"
      ]
     },
     "execution_count": 23,
     "metadata": {},
     "output_type": "execute_result"
    }
   ],
   "source": [
    "def init_weights(m):\n",
    "    for name, param in m.named_parameters():\n",
    "        nn.init.uniform_(param.data, -0.08, 0.08)\n",
    "\n",
    "\n",
    "model.apply(init_weights)"
   ]
  },
  {
   "cell_type": "code",
   "execution_count": 24,
   "id": "13ae498d465b850d",
   "metadata": {
    "colab": {
     "base_uri": "https://localhost:8080/"
    },
    "executionInfo": {
     "elapsed": 9,
     "status": "ok",
     "timestamp": 1725277161282,
     "user": {
      "displayName": "Polina Danilovskaia",
      "userId": "10456728383422716320"
     },
     "user_tz": -120
    },
    "id": "13ae498d465b850d",
    "outputId": "7aef547a-7eb8-4d6a-b2f5-53eae23e424b"
   },
   "outputs": [
    {
     "name": "stdout",
     "output_type": "stream",
     "text": [
      "The model has 15,556,416 trainable parameters\n"
     ]
    }
   ],
   "source": [
    "def count_parameters(model):\n",
    "    return sum(p.numel() for p in model.parameters() if p.requires_grad)\n",
    "\n",
    "\n",
    "print(f\"The model has {count_parameters(model):,} trainable parameters\")"
   ]
  },
  {
   "cell_type": "code",
   "execution_count": 25,
   "id": "a4262b5d61db250",
   "metadata": {
    "executionInfo": {
     "elapsed": 428,
     "status": "ok",
     "timestamp": 1725277161704,
     "user": {
      "displayName": "Polina Danilovskaia",
      "userId": "10456728383422716320"
     },
     "user_tz": -120
    },
    "id": "a4262b5d61db250"
   },
   "outputs": [],
   "source": [
    "import torch.optim as optim\n",
    "optimizer = optim.Adam(model.parameters())"
   ]
  },
  {
   "cell_type": "code",
   "execution_count": 26,
   "id": "16716a9bb375c138",
   "metadata": {
    "executionInfo": {
     "elapsed": 7,
     "status": "ok",
     "timestamp": 1725277161704,
     "user": {
      "displayName": "Polina Danilovskaia",
      "userId": "10456728383422716320"
     },
     "user_tz": -120
    },
    "id": "16716a9bb375c138"
   },
   "outputs": [],
   "source": [
    "import torch.nn as nn\n",
    "criterion = nn.CrossEntropyLoss(ignore_index=pad_index)"
   ]
  },
  {
   "cell_type": "code",
   "execution_count": 27,
   "id": "33656d484447460f",
   "metadata": {
    "executionInfo": {
     "elapsed": 6,
     "status": "ok",
     "timestamp": 1725277161704,
     "user": {
      "displayName": "Polina Danilovskaia",
      "userId": "10456728383422716320"
     },
     "user_tz": -120
    },
    "id": "33656d484447460f"
   },
   "outputs": [],
   "source": [
    "def train_fn(\n",
    "    model, data_loader, optimizer, criterion, clip, teacher_forcing_ratio, device\n",
    "):\n",
    "    model.train()\n",
    "    epoch_loss = 0\n",
    "    for i, batch in enumerate(data_loader):\n",
    "        src = batch[\"src_ids\"].to(device)\n",
    "        tgt = batch[\"tgt_ids\"].to(device)\n",
    "        # src = [src length, batch size]\n",
    "        # tgt = [tgt length, batch size]\n",
    "        optimizer.zero_grad()\n",
    "        output = model(src, tgt, teacher_forcing_ratio)\n",
    "        # output = [tgt length, batch size, tgt vocab size]\n",
    "        output_dim = output.shape[-1]\n",
    "        output = output[1:].view(-1, output_dim)\n",
    "        # output = [(tgt length - 1) * batch size, tgt vocab size]\n",
    "        tgt = tgt[1:].view(-1)\n",
    "        # tgt = [(tgt length - 1) * batch size]\n",
    "        loss = criterion(output, tgt)\n",
    "        loss.backward()\n",
    "        torch.nn.utils.clip_grad_norm_(model.parameters(), clip)\n",
    "        optimizer.step()\n",
    "        epoch_loss += loss.item()\n",
    "    return epoch_loss / len(data_loader)"
   ]
  },
  {
   "cell_type": "code",
   "execution_count": 28,
   "id": "d808dc880d30b239",
   "metadata": {
    "executionInfo": {
     "elapsed": 6,
     "status": "ok",
     "timestamp": 1725277161704,
     "user": {
      "displayName": "Polina Danilovskaia",
      "userId": "10456728383422716320"
     },
     "user_tz": -120
    },
    "id": "d808dc880d30b239"
   },
   "outputs": [],
   "source": [
    "def evaluate_fn(model, data_loader, criterion, device):\n",
    "    model.eval()\n",
    "    epoch_loss = 0\n",
    "    with torch.no_grad():\n",
    "        for i, batch in enumerate(data_loader):\n",
    "            src = batch[\"src_ids\"].to(device)\n",
    "            tgt = batch[\"tgt_ids\"].to(device)\n",
    "            # src = [src length, batch size]\n",
    "            # tgt = [tgt length, batch size]\n",
    "            output = model(src, tgt, 0)  # turn off teacher forcing\n",
    "            # output = [tgt length, batch size, tgt vocab size]\n",
    "            output_dim = output.shape[-1]\n",
    "            output = output[1:].view(-1, output_dim)\n",
    "            # output = [(tgt length - 1) * batch size, tgt vocab size]\n",
    "            tgt = tgt[1:].view(-1)\n",
    "            # tgt = [(tgt length - 1) * batch size]\n",
    "            loss = criterion(output, tgt)\n",
    "            epoch_loss += loss.item()\n",
    "    return epoch_loss / len(data_loader)"
   ]
  },
  {
   "cell_type": "code",
   "execution_count": null,
   "id": "10b0d46e3397edb4",
   "metadata": {
    "colab": {
     "background_save": true,
     "base_uri": "https://localhost:8080/"
    },
    "id": "10b0d46e3397edb4"
   },
   "outputs": [
    {
     "name": "stderr",
     "output_type": "stream",
     "text": [
      "  5%|▌         | 1/20 [02:54<55:13, 174.39s/it]"
     ]
    },
    {
     "name": "stdout",
     "output_type": "stream",
     "text": [
      "\tTrain Loss:   6.423 | Train PPL: 615.842\n",
      "\tValid Loss:   6.339 | Valid PPL: 566.360\n"
     ]
    },
    {
     "name": "stderr",
     "output_type": "stream",
     "text": [
      "\r 10%|█         | 2/20 [05:48<52:17, 174.32s/it]"
     ]
    },
    {
     "name": "stdout",
     "output_type": "stream",
     "text": [
      "\tTrain Loss:   6.208 | Train PPL: 496.663\n",
      "\tValid Loss:   6.256 | Valid PPL: 521.158\n"
     ]
    },
    {
     "name": "stderr",
     "output_type": "stream",
     "text": [
      "\r 15%|█▌        | 3/20 [08:42<49:20, 174.13s/it]"
     ]
    },
    {
     "name": "stdout",
     "output_type": "stream",
     "text": [
      "\tTrain Loss:   5.922 | Train PPL: 372.998\n",
      "\tValid Loss:   5.988 | Valid PPL: 398.585\n"
     ]
    },
    {
     "name": "stderr",
     "output_type": "stream",
     "text": [
      "\r 20%|██        | 4/20 [11:34<46:10, 173.18s/it]"
     ]
    },
    {
     "name": "stdout",
     "output_type": "stream",
     "text": [
      "\tTrain Loss:   5.702 | Train PPL: 299.389\n",
      "\tValid Loss:   5.870 | Valid PPL: 354.287\n"
     ]
    },
    {
     "name": "stderr",
     "output_type": "stream",
     "text": [
      "\r 25%|██▌       | 5/20 [14:28<43:21, 173.46s/it]"
     ]
    },
    {
     "name": "stdout",
     "output_type": "stream",
     "text": [
      "\tTrain Loss:   5.589 | Train PPL: 267.379\n",
      "\tValid Loss:   5.786 | Valid PPL: 325.870\n"
     ]
    },
    {
     "name": "stderr",
     "output_type": "stream",
     "text": [
      "\r 30%|███       | 6/20 [17:21<40:28, 173.44s/it]"
     ]
    },
    {
     "name": "stdout",
     "output_type": "stream",
     "text": [
      "\tTrain Loss:   5.450 | Train PPL: 232.751\n",
      "\tValid Loss:   5.720 | Valid PPL: 304.998\n"
     ]
    },
    {
     "name": "stderr",
     "output_type": "stream",
     "text": [
      "\r 35%|███▌      | 7/20 [20:13<37:29, 173.03s/it]"
     ]
    },
    {
     "name": "stdout",
     "output_type": "stream",
     "text": [
      "\tTrain Loss:   5.330 | Train PPL: 206.433\n",
      "\tValid Loss:   5.619 | Valid PPL: 275.611\n"
     ]
    },
    {
     "name": "stderr",
     "output_type": "stream",
     "text": [
      "\r 40%|████      | 8/20 [23:08<34:41, 173.43s/it]"
     ]
    },
    {
     "name": "stdout",
     "output_type": "stream",
     "text": [
      "\tTrain Loss:   5.236 | Train PPL: 187.916\n",
      "\tValid Loss:   5.549 | Valid PPL: 257.079\n"
     ]
    },
    {
     "name": "stderr",
     "output_type": "stream",
     "text": [
      "\r 45%|████▌     | 9/20 [26:00<31:44, 173.12s/it]"
     ]
    },
    {
     "name": "stdout",
     "output_type": "stream",
     "text": [
      "\tTrain Loss:   5.134 | Train PPL: 169.751\n",
      "\tValid Loss:   5.493 | Valid PPL: 242.923\n"
     ]
    },
    {
     "name": "stderr",
     "output_type": "stream",
     "text": [
      "\r 50%|█████     | 10/20 [28:53<28:50, 173.09s/it]"
     ]
    },
    {
     "name": "stdout",
     "output_type": "stream",
     "text": [
      "\tTrain Loss:   5.075 | Train PPL: 159.967\n",
      "\tValid Loss:   5.474 | Valid PPL: 238.322\n"
     ]
    },
    {
     "name": "stderr",
     "output_type": "stream",
     "text": [
      "\r 55%|█████▌    | 11/20 [31:46<25:57, 173.04s/it]"
     ]
    },
    {
     "name": "stdout",
     "output_type": "stream",
     "text": [
      "\tTrain Loss:   5.015 | Train PPL: 150.703\n",
      "\tValid Loss:   5.424 | Valid PPL: 226.853\n"
     ]
    },
    {
     "name": "stderr",
     "output_type": "stream",
     "text": [
      "\r 60%|██████    | 12/20 [34:40<23:06, 173.35s/it]"
     ]
    },
    {
     "name": "stdout",
     "output_type": "stream",
     "text": [
      "\tTrain Loss:   4.936 | Train PPL: 139.254\n",
      "\tValid Loss:   5.370 | Valid PPL: 214.778\n"
     ]
    },
    {
     "name": "stderr",
     "output_type": "stream",
     "text": [
      "\r 65%|██████▌   | 13/20 [37:34<20:14, 173.54s/it]"
     ]
    },
    {
     "name": "stdout",
     "output_type": "stream",
     "text": [
      "\tTrain Loss:   4.863 | Train PPL: 129.396\n",
      "\tValid Loss:   5.336 | Valid PPL: 207.585\n"
     ]
    },
    {
     "name": "stderr",
     "output_type": "stream",
     "text": [
      "\r 70%|███████   | 14/20 [40:31<17:27, 174.62s/it]"
     ]
    },
    {
     "name": "stdout",
     "output_type": "stream",
     "text": [
      "\tTrain Loss:   4.787 | Train PPL: 119.927\n",
      "\tValid Loss:   5.298 | Valid PPL: 200.021\n"
     ]
    },
    {
     "name": "stderr",
     "output_type": "stream",
     "text": [
      "\r 75%|███████▌  | 15/20 [43:25<14:31, 174.30s/it]"
     ]
    },
    {
     "name": "stdout",
     "output_type": "stream",
     "text": [
      "\tTrain Loss:   4.726 | Train PPL: 112.849\n",
      "\tValid Loss:   5.258 | Valid PPL: 192.061\n"
     ]
    },
    {
     "name": "stderr",
     "output_type": "stream",
     "text": [
      "\r 80%|████████  | 16/20 [46:19<11:36, 174.17s/it]"
     ]
    },
    {
     "name": "stdout",
     "output_type": "stream",
     "text": [
      "\tTrain Loss:   4.640 | Train PPL: 103.558\n",
      "\tValid Loss:   5.233 | Valid PPL: 187.404\n"
     ]
    },
    {
     "name": "stderr",
     "output_type": "stream",
     "text": [
      "\r 85%|████████▌ | 17/20 [49:12<08:41, 173.94s/it]"
     ]
    },
    {
     "name": "stdout",
     "output_type": "stream",
     "text": [
      "\tTrain Loss:   4.588 | Train PPL:  98.283\n",
      "\tValid Loss:   5.202 | Valid PPL: 181.686\n"
     ]
    },
    {
     "name": "stderr",
     "output_type": "stream",
     "text": [
      "\r 90%|█████████ | 18/20 [52:07<05:48, 174.40s/it]"
     ]
    },
    {
     "name": "stdout",
     "output_type": "stream",
     "text": [
      "\tTrain Loss:   4.520 | Train PPL:  91.837\n",
      "\tValid Loss:   5.183 | Valid PPL: 178.212\n"
     ]
    },
    {
     "name": "stderr",
     "output_type": "stream",
     "text": [
      "\r 95%|█████████▌| 19/20 [55:02<02:54, 174.37s/it]"
     ]
    },
    {
     "name": "stdout",
     "output_type": "stream",
     "text": [
      "\tTrain Loss:   4.458 | Train PPL:  86.320\n",
      "\tValid Loss:   5.185 | Valid PPL: 178.582\n"
     ]
    },
    {
     "name": "stderr",
     "output_type": "stream",
     "text": [
      "100%|██████████| 20/20 [57:57<00:00, 173.90s/it]"
     ]
    },
    {
     "name": "stdout",
     "output_type": "stream",
     "text": [
      "\tTrain Loss:   4.412 | Train PPL:  82.403\n",
      "\tValid Loss:   5.152 | Valid PPL: 172.761\n"
     ]
    },
    {
     "name": "stderr",
     "output_type": "stream",
     "text": [
      "\n"
     ]
    }
   ],
   "source": [
    "n_epochs = 20\n",
    "clip = 1.0\n",
    "teacher_forcing_ratio = 0.25\n",
    "output_model = '/content/gdrive/My Drive/Colab Notebooks/gec24/models/' + model_name + '.pt'\n",
    "\n",
    "best_valid_loss = float(\"inf\")\n",
    "train_losses = []\n",
    "valid_losses = []\n",
    "\n",
    "for epoch in tqdm.tqdm(range(n_epochs)):\n",
    "    train_loss = train_fn(\n",
    "        model,\n",
    "        train_data_loader,\n",
    "        optimizer,\n",
    "        criterion,\n",
    "        clip,\n",
    "        teacher_forcing_ratio,\n",
    "        device,\n",
    "    )\n",
    "    valid_loss = evaluate_fn(\n",
    "        model,\n",
    "        dev_data_loader,\n",
    "        criterion,\n",
    "        device,\n",
    "    )\n",
    "\n",
    "    train_losses.append(train_loss)\n",
    "    valid_losses.append(valid_loss)\n",
    "\n",
    "    if valid_loss < best_valid_loss:\n",
    "        best_valid_loss = valid_loss\n",
    "        torch.save(model.state_dict(), output_model)\n",
    "    print(f\"\\tTrain Loss: {train_loss:7.3f} | Train PPL: {np.exp(train_loss):7.3f}\")\n",
    "    print(f\"\\tValid Loss: {valid_loss:7.3f} | Valid PPL: {np.exp(valid_loss):7.3f}\")"
   ]
  },
  {
   "metadata": {},
   "cell_type": "markdown",
   "source": "Visualizing the training:",
   "id": "7d3fd7f52bf81461"
  },
  {
   "cell_type": "code",
   "execution_count": null,
   "id": "1e61bd3aa73c9b5b",
   "metadata": {
    "colab": {
     "background_save": true
    },
    "id": "1e61bd3aa73c9b5b"
   },
   "outputs": [
    {
     "data": {
      "image/png": "[encoded data removed]",
      "text/plain": [
       "<Figure size 1000x500 with 1 Axes>"
      ]
     },
     "metadata": {},
     "output_type": "display_data"
    }
   ],
   "source": [
    "plt.figure(figsize=(10, 5))\n",
    "plt.plot(train_losses, label='Train Loss')\n",
    "plt.plot(valid_losses, label='Validation Loss')\n",
    "plt.xlabel('Epochs')\n",
    "plt.ylabel('Loss')\n",
    "plt.title('Training and Validation Loss')\n",
    "plt.legend()\n",
    "plt.show()"
   ]
  },
  {
   "metadata": {},
   "cell_type": "markdown",
   "source": "Computing test loss:",
   "id": "e39f030d57e62a34"
  },
  {
   "cell_type": "code",
   "execution_count": null,
   "id": "efdcd1a03e480ad8",
   "metadata": {
    "colab": {
     "background_save": true
    },
    "id": "efdcd1a03e480ad8"
   },
   "outputs": [
    {
     "name": "stderr",
     "output_type": "stream",
     "text": [
      "<ipython-input-31-b6432cffebb1>:1: FutureWarning: You are using `torch.load` with `weights_only=False` (the current default value), which uses the default pickle module implicitly. It is possible to construct malicious pickle data which will execute arbitrary code during unpickling (See https://github.com/pytorch/pytorch/blob/main/SECURITY.md#untrusted-models for more details). In a future release, the default value for `weights_only` will be flipped to `True`. This limits the functions that could be executed during unpickling. Arbitrary objects will no longer be allowed to be loaded via this mode unless they are explicitly allowlisted by the user via `torch.serialization.add_safe_globals`. We recommend you start setting `weights_only=True` for any use case where you don't have full control of the loaded file. Please open an issue on GitHub for any issues related to this experimental feature.\n",
      "  model.load_state_dict(torch.load(output_model))\n"
     ]
    },
    {
     "name": "stdout",
     "output_type": "stream",
     "text": [
      "| Test Loss: 6.038 | Test PPL: 418.994 |\n"
     ]
    }
   ],
   "source": [
    "model.load_state_dict(torch.load(output_model))\n",
    "\n",
    "test_loss = evaluate_fn(model, test_data_loader, criterion, device)\n",
    "\n",
    "print(f\"| Test Loss: {test_loss:.3f} | Test PPL: {np.exp(test_loss):7.3f} |\")"
   ]
  },
  {
   "metadata": {},
   "cell_type": "markdown",
   "source": "At last, we can see how our model makes corrections to three sentences in practice.",
   "id": "3761e5b901211b85"
  },
  {
   "cell_type": "code",
   "execution_count": null,
   "id": "3eWS_vbeBMjB",
   "metadata": {
    "colab": {
     "background_save": true
    },
    "id": "3eWS_vbeBMjB"
   },
   "outputs": [],
   "source": [
    "def correct_sentence(\n",
    "    sentence,\n",
    "    model,\n",
    "    sp,\n",
    "    sos_token,\n",
    "    eos_token,\n",
    "    device,\n",
    "    max_output_length=25,\n",
    "):\n",
    "    model.eval()\n",
    "    with torch.no_grad():\n",
    "        # Tokenize sentence with SentencePiece\n",
    "        tokens = sp.encode_as_pieces(sentence)\n",
    "        tokens = [sos_token] + tokens + [eos_token]  # Add SOS and EOS tokens\n",
    "\n",
    "        # Encode tokens to get IDs\n",
    "        ids = sp.encode_as_ids(sentence)\n",
    "        tensor = torch.LongTensor(ids).unsqueeze(-1).to(device)\n",
    "\n",
    "        hidden, cell = model.encoder(tensor)\n",
    "\n",
    "        inputs = [sp.bos_id()]  # Use BOS token ID\n",
    "        for _ in range(max_output_length):\n",
    "            inputs_tensor = torch.LongTensor([inputs[-1]]).to(device)\n",
    "            output, hidden, cell = model.decoder(inputs_tensor, hidden, cell)\n",
    "            predicted_token_id = output.argmax(-1).item()\n",
    "            inputs.append(predicted_token_id)\n",
    "            if predicted_token_id == sp.eos_id():\n",
    "                break\n",
    "\n",
    "        # Decode predicted token IDs to tokens\n",
    "        predicted_tokens = sp.decode_ids(inputs)\n",
    "\n",
    "    return predicted_tokens"
   ]
  },
  {
   "metadata": {},
   "cell_type": "markdown",
   "source": "First example",
   "id": "16cb16c45a7a7bc"
  },
  {
   "cell_type": "code",
   "execution_count": null,
   "id": "1dm_CfSGB50_",
   "metadata": {
    "colab": {
     "background_save": true
    },
    "id": "1dm_CfSGB50_"
   },
   "outputs": [
    {
     "data": {
      "text/plain": [
       "(\"Although such a show of strength by these works ' characters is sometimes viewed as a violent and therefore negative contribution to the otherwise insightful thought of the author , it is this conflict upon which many stories of ethnic American literature are based .\",\n",
       " \"Although such a show of strength by these works ' characters is sometimes viewed as a violent and therefore negative contribution to the otherwise insightful thought of the author , it is this conflict upon which many stories of ethnic American literature are based .\")"
      ]
     },
     "execution_count": 33,
     "metadata": {},
     "output_type": "execute_result"
    }
   ],
   "source": [
    "sentence = test_data[17][\"src\"]\n",
    "expected_correction = test_data[17][\"tgt\"]\n",
    "sentence, expected_correction"
   ]
  },
  {
   "cell_type": "code",
   "execution_count": null,
   "id": "IE96PTZGBepU",
   "metadata": {
    "colab": {
     "background_save": true
    },
    "id": "IE96PTZGBepU"
   },
   "outputs": [],
   "source": [
    "correction = correct_sentence(\n",
    "    sentence,\n",
    "    model,\n",
    "    sp,\n",
    "    'BOS',\n",
    "    'EOS',\n",
    "    'cuda'\n",
    ")"
   ]
  },
  {
   "cell_type": "code",
   "execution_count": null,
   "id": "NMtswIM0Blu4",
   "metadata": {
    "colab": {
     "background_save": true
    },
    "id": "NMtswIM0Blu4"
   },
   "outputs": [
    {
     "data": {
      "application/vnd.google.colaboratory.intrinsic+json": {
       "type": "string"
      },
      "text/plain": [
       "'I think that should be be a a of of of in the the of of the of of the of of the of the'"
      ]
     },
     "execution_count": 35,
     "metadata": {},
     "output_type": "execute_result"
    }
   ],
   "source": [
    "correction"
   ]
  },
  {
   "metadata": {},
   "cell_type": "markdown",
   "source": "Second example",
   "id": "cee3e9f46c1c6240"
  },
  {
   "cell_type": "code",
   "execution_count": null,
   "id": "x2FzxDUnCIVt",
   "metadata": {
    "colab": {
     "background_save": true
    },
    "id": "x2FzxDUnCIVt"
   },
   "outputs": [
    {
     "data": {
      "text/plain": [
       "('On arrival they see starvation and death .',\n",
       " 'On arrival they see starvation and death .')"
      ]
     },
     "execution_count": 36,
     "metadata": {},
     "output_type": "execute_result"
    }
   ],
   "source": [
    "sentence = test_data[34][\"src\"]\n",
    "expected_correction = test_data[34][\"tgt\"]\n",
    "sentence, expected_correction"
   ]
  },
  {
   "cell_type": "code",
   "execution_count": null,
   "id": "_-iwHjwbCMUm",
   "metadata": {
    "colab": {
     "background_save": true
    },
    "id": "_-iwHjwbCMUm"
   },
   "outputs": [
    {
     "data": {
      "application/vnd.google.colaboratory.intrinsic+json": {
       "type": "string"
      },
      "text/plain": [
       "'I think I am a for for for the job .'"
      ]
     },
     "execution_count": 37,
     "metadata": {},
     "output_type": "execute_result"
    }
   ],
   "source": [
    "correction = correct_sentence(\n",
    "    sentence,\n",
    "    model,\n",
    "    sp,\n",
    "    'BOS',\n",
    "    'EOS',\n",
    "    'cuda'\n",
    ")\n",
    "correction"
   ]
  },
  {
   "metadata": {},
   "cell_type": "markdown",
   "source": "Third example",
   "id": "56173ce8bed6f2b7"
  },
  {
   "cell_type": "code",
   "execution_count": null,
   "id": "QhBTAUqkhqz4",
   "metadata": {
    "colab": {
     "background_save": true
    },
    "id": "QhBTAUqkhqz4"
   },
   "outputs": [
    {
     "data": {
      "application/vnd.google.colaboratory.intrinsic+json": {
       "type": "string"
      },
      "text/plain": [
       "'I is aed , a a .'"
      ]
     },
     "execution_count": 38,
     "metadata": {},
     "output_type": "execute_result"
    }
   ],
   "source": [
    "sentence = 'Two cats is catching a butterfly.'\n",
    "correction = correct_sentence(\n",
    "    sentence,\n",
    "    model,\n",
    "    sp,\n",
    "    'BOS',\n",
    "    'EOS',\n",
    "    'cuda'\n",
    ")\n",
    "correction"
   ]
  }
 ],
 "metadata": {
  "accelerator": "GPU",
  "colab": {
   "gpuType": "A100",
   "name": "",
   "version": ""
  },
  "kernelspec": {
   "display_name": "Python 3",
   "name": "python3"
  },
  "language_info": {
   "codemirror_mode": {
    "name": "ipython",
    "version": 2
   },
   "file_extension": ".py",
   "mimetype": "text/x-python",
   "name": "python",
   "nbconvert_exporter": "python",
   "pygments_lexer": "ipython2",
   "version": "2.7.6"
  }
 },
 "nbformat": 4,
 "nbformat_minor": 5
}
