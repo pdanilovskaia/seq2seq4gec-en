{
 "cells": [
  {
   "metadata": {
    "id": "1cfec7ae913db671"
   },
   "cell_type": "markdown",
   "source": [
    "## Seq2Seq Model\n",
    "\n",
    "In this notebook, we finally construct our an encoder-decoder model for Grammatical Error Correction, modifying the hyperparameters, visualising the training and validation processes, and examining a selection of examples from the test data.\n",
    "\n",
    " The following notebook was developed based on the teaching unit at the University of Potsdam of Meng Li, which in turn was inspired by  [Ben Trevett's Seq2seq tutorial](https://github.com/bentrevett/pytorch-seq2seq/). "
   ],
   "id": "1cfec7ae913db671"
  },
  {
   "cell_type": "code",
   "source": [
    "from google.colab import drive\n",
    "drive.mount('/content/gdrive')"
   ],
   "metadata": {
    "colab": {
     "base_uri": "https://localhost:8080/"
    },
    "id": "Sy-rLnJCyBR7",
    "executionInfo": {
     "status": "ok",
     "timestamp": 1722854695886,
     "user_tz": -120,
     "elapsed": 27744,
     "user": {
      "displayName": "Polina Danilovskaia",
      "userId": "10456728383422716320"
     }
    },
    "outputId": "b63da4f1-f4ed-41ac-8d25-99bb8971815e"
   },
   "id": "Sy-rLnJCyBR7",
   "execution_count": 1,
   "outputs": [
    {
     "output_type": "stream",
     "name": "stdout",
     "text": [
      "Mounted at /content/gdrive\n"
     ]
    }
   ]
  },
  {
   "cell_type": "code",
   "source": [
    "import os\n",
    "PATH = r\"/content/gdrive/My Drive/Colab Notebooks/gec24\"\n",
    "os.chdir(PATH)"
   ],
   "metadata": {
    "id": "kT-XG_oRyE7x",
    "executionInfo": {
     "status": "ok",
     "timestamp": 1722854695887,
     "user_tz": -120,
     "elapsed": 10,
     "user": {
      "displayName": "Polina Danilovskaia",
      "userId": "10456728383422716320"
     }
    }
   },
   "id": "kT-XG_oRyE7x",
   "execution_count": 2,
   "outputs": []
  },
  {
   "metadata": {
    "id": "d916dd2b9945a8a0",
    "executionInfo": {
     "status": "ok",
     "timestamp": 1722854701010,
     "user_tz": -120,
     "elapsed": 5128,
     "user": {
      "displayName": "Polina Danilovskaia",
      "userId": "10456728383422716320"
     }
    }
   },
   "cell_type": "code",
   "outputs": [],
   "execution_count": 3,
   "source": [
    "import torch\n",
    "import torch.nn as nn\n",
    "import matplotlib.pyplot as plt\n",
    "import random\n",
    "import tqdm\n",
    "import numpy as np\n",
    "import sentencepiece as spm"
   ],
   "id": "d916dd2b9945a8a0"
  },
  {
   "metadata": {},
   "cell_type": "markdown",
   "source": "Let's start by creating a function that will pad our sequences to the desired length.",
   "id": "eaea0c672ad5fa0f"
  },
  {
   "metadata": {
    "id": "77f82a4c70b6f8ba",
    "executionInfo": {
     "status": "ok",
     "timestamp": 1722854701011,
     "user_tz": -120,
     "elapsed": 14,
     "user": {
      "displayName": "Polina Danilovskaia",
      "userId": "10456728383422716320"
     }
    }
   },
   "cell_type": "code",
   "outputs": [],
   "execution_count": 4,
   "source": [
    "def get_collate_fn(pad_index):\n",
    "    def collate_fn(batch):\n",
    "        batch_src_ids = [example[\"src_ids\"] for example in batch]\n",
    "        batch_tgt_ids = [example[\"tgt_ids\"] for example in batch]\n",
    "        batch_src_ids = nn.utils.rnn.pad_sequence(batch_src_ids, padding_value=pad_index)\n",
    "        batch_tgt_ids = nn.utils.rnn.pad_sequence(batch_tgt_ids, padding_value=pad_index)\n",
    "        batch = {\n",
    "            \"src_ids\": batch_src_ids,\n",
    "            \"tgt_ids\": batch_tgt_ids,\n",
    "        }\n",
    "        return batch\n",
    "\n",
    "    return collate_fn"
   ],
   "id": "77f82a4c70b6f8ba"
  },
  {
   "metadata": {
    "id": "1f5ee17c9da7b060"
   },
   "cell_type": "markdown",
   "source": [
    "Next, we write the functions which give us our data loaders creating using PyTorch's DataLoader class.\n",
    "get_data_loader is created using a Dataset, the batch size, the padding token index (which is used for creating the batches in the collate_fn, and a boolean deciding if the examples should be shuffled at the time the data loader is iterated over.\n",
    "The batch size defines the maximum amount of examples within a batch. If the length of the dataset is not evenly divisible by the batch size then the last batch will be smaller."
   ],
   "id": "1f5ee17c9da7b060"
  },
  {
   "metadata": {
    "id": "68f07d33bc08875f",
    "executionInfo": {
     "status": "ok",
     "timestamp": 1722854701011,
     "user_tz": -120,
     "elapsed": 11,
     "user": {
      "displayName": "Polina Danilovskaia",
      "userId": "10456728383422716320"
     }
    }
   },
   "cell_type": "code",
   "outputs": [],
   "execution_count": 5,
   "source": [
    "def get_data_loader(dataset, batch_size, pad_index, shuffle=False):\n",
    "    collate_fn = get_collate_fn(pad_index)\n",
    "    data_loader = torch.utils.data.DataLoader(\n",
    "        dataset=dataset,\n",
    "        batch_size=batch_size,\n",
    "        collate_fn=collate_fn,\n",
    "        shuffle=shuffle,\n",
    "    )\n",
    "    return data_loader"
   ],
   "id": "68f07d33bc08875f"
  },
  {
   "metadata": {
    "id": "cdccc46c1e8cd4dc",
    "executionInfo": {
     "status": "ok",
     "timestamp": 1722854703557,
     "user_tz": -120,
     "elapsed": 7,
     "user": {
      "displayName": "Polina Danilovskaia",
      "userId": "10456728383422716320"
     }
    }
   },
   "cell_type": "code",
   "outputs": [],
   "execution_count": 6,
   "source": [
    "model_name = 'bpe_16000'"
   ],
   "id": "cdccc46c1e8cd4dc"
  },
  {
   "cell_type": "markdown",
   "source": "Loading data:",
   "metadata": {
    "id": "yv0m433yyI3Y"
   },
   "id": "yv0m433yyI3Y"
  },
  {
   "metadata": {
    "id": "552f4b859db744f8",
    "executionInfo": {
     "status": "ok",
     "timestamp": 1722854717906,
     "user_tz": -120,
     "elapsed": 12591,
     "user": {
      "displayName": "Polina Danilovskaia",
      "userId": "10456728383422716320"
     }
    }
   },
   "cell_type": "code",
   "outputs": [],
   "execution_count": 7,
   "source": [
    "train_data = torch.load(\"/content/gdrive/My Drive/Colab Notebooks/gec24/data/tokenized_data/bpe_16000_train.pt\")\n",
    "dev_data = torch.load(\"/content/gdrive/My Drive/Colab Notebooks/gec24/data/tokenized_data/bpe_16000_dev.pt\")\n",
    "test_data = torch.load(\"/content/gdrive/My Drive/Colab Notebooks/gec24/data/tokenized_data/bpe_16000_test.pt\")"
   ],
   "id": "552f4b859db744f8"
  },
  {
   "metadata": {
    "id": "80decdf60398939",
    "executionInfo": {
     "status": "ok",
     "timestamp": 1722854718401,
     "user_tz": -120,
     "elapsed": 7,
     "user": {
      "displayName": "Polina Danilovskaia",
      "userId": "10456728383422716320"
     }
    }
   },
   "cell_type": "code",
   "outputs": [],
   "execution_count": 8,
   "source": [
    "model_filename = 'tokenizer_models/' + model_name + '.model'\n",
    "sp = spm.SentencePieceProcessor(model_file=model_filename)"
   ],
   "id": "80decdf60398939"
  },
  {
   "metadata": {
    "id": "acd0ea57630cad83"
   },
   "cell_type": "markdown",
   "source": [
    "Finally, we create our data loaders.\n",
    "\n",
    "Shuffling of data makes training more stable and potentially improves the final performance of the model, however only needs to be done on the training set."
   ],
   "id": "acd0ea57630cad83"
  },
  {
   "metadata": {
    "id": "9790cdc191017a0b",
    "executionInfo": {
     "status": "ok",
     "timestamp": 1722854718401,
     "user_tz": -120,
     "elapsed": 6,
     "user": {
      "displayName": "Polina Danilovskaia",
      "userId": "10456728383422716320"
     }
    }
   },
   "cell_type": "code",
   "outputs": [],
   "execution_count": 9,
   "source": [
    "batch_size = 256\n",
    "pad_index = 0\n",
    "\n",
    "train_data_loader = get_data_loader(train_data, batch_size, pad_index, shuffle=True)\n",
    "dev_data_loader = get_data_loader(dev_data, batch_size, pad_index)\n",
    "test_data_loader = get_data_loader(test_data, batch_size, pad_index)"
   ],
   "id": "9790cdc191017a0b"
  },
  {
   "metadata": {
    "id": "b452bafe84aa74b0"
   },
   "cell_type": "markdown",
   "source": "### Building  a model",
   "id": "b452bafe84aa74b0"
  },
  {
   "metadata": {
    "id": "333d2c5448e31110",
    "executionInfo": {
     "status": "ok",
     "timestamp": 1722854718402,
     "user_tz": -120,
     "elapsed": 7,
     "user": {
      "displayName": "Polina Danilovskaia",
      "userId": "10456728383422716320"
     }
    }
   },
   "cell_type": "code",
   "outputs": [],
   "execution_count": 10,
   "source": [
    "class Encoder(nn.Module):\n",
    "    def __init__(self, input_dim, embedding_dim, hidden_dim, n_layers, dropout):\n",
    "        super().__init__()\n",
    "        self.hidden_dim = hidden_dim\n",
    "        self.n_layers = n_layers\n",
    "        self.embedding = nn.Embedding(input_dim, embedding_dim)\n",
    "        self.rnn = nn.LSTM(embedding_dim, hidden_dim, n_layers, dropout=dropout)\n",
    "        self.dropout = nn.Dropout(dropout)\n",
    "\n",
    "    def forward(self, src):\n",
    "        # src = [src length, batch size]\n",
    "        embedded = self.dropout(self.embedding(src))\n",
    "        # embedded = [src length, batch size, embedding dim]\n",
    "        outputs, (hidden, cell) = self.rnn(embedded)\n",
    "        # outputs = [src length, batch size, hidden dim * n directions]\n",
    "        # hidden = [n layers * n directions, batch size, hidden dim]\n",
    "        # cell = [n layers * n directions, batch size, hidden dim]\n",
    "        # outputs are always from the top hidden layer\n",
    "        return hidden, cell"
   ],
   "id": "333d2c5448e31110"
  },
  {
   "metadata": {
    "id": "cbd807ef8a026cae",
    "executionInfo": {
     "status": "ok",
     "timestamp": 1722854718402,
     "user_tz": -120,
     "elapsed": 6,
     "user": {
      "displayName": "Polina Danilovskaia",
      "userId": "10456728383422716320"
     }
    }
   },
   "cell_type": "code",
   "outputs": [],
   "execution_count": 11,
   "source": [
    "class Decoder(nn.Module):\n",
    "    def __init__(self, output_dim, embedding_dim, hidden_dim, n_layers, dropout):\n",
    "        super().__init__()\n",
    "        self.output_dim = output_dim\n",
    "        self.hidden_dim = hidden_dim\n",
    "        self.n_layers = n_layers\n",
    "        self.embedding = nn.Embedding(output_dim, embedding_dim)\n",
    "        self.rnn = nn.LSTM(embedding_dim, hidden_dim, n_layers, dropout=dropout)\n",
    "        self.fc_out = nn.Linear(hidden_dim, output_dim)\n",
    "        self.dropout = nn.Dropout(dropout)\n",
    "\n",
    "    def forward(self, input, hidden, cell):\n",
    "        # input = [batch size]\n",
    "        # hidden = [n layers * n directions, batch size, hidden dim]\n",
    "        # cell = [n layers * n directions, batch size, hidden dim]\n",
    "        # n directions in the decoder will both always be 1, therefore:\n",
    "        # hidden = [n layers, batch size, hidden dim]\n",
    "        # context = [n layers, batch size, hidden dim]\n",
    "        input = input.unsqueeze(0)\n",
    "        # input = [1, batch size]\n",
    "        embedded = self.dropout(self.embedding(input))\n",
    "        # embedded = [1, batch size, embedding dim]\n",
    "        output, (hidden, cell) = self.rnn(embedded, (hidden, cell))\n",
    "        # output = [seq length, batch size, hidden dim * n directions]\n",
    "        # hidden = [n layers * n directions, batch size, hidden dim]\n",
    "        # cell = [n layers * n directions, batch size, hidden dim]\n",
    "        # seq length and n directions will always be 1 in this decoder, therefore:\n",
    "        # output = [1, batch size, hidden dim]\n",
    "        # hidden = [n layers, batch size, hidden dim]\n",
    "        # cell = [n layers, batch size, hidden dim]\n",
    "        prediction = self.fc_out(output.squeeze(0))\n",
    "        # prediction = [batch size, output dim]\n",
    "        return prediction, hidden, cell"
   ],
   "id": "cbd807ef8a026cae"
  },
  {
   "metadata": {
    "id": "94f8f70283fdfb6b",
    "executionInfo": {
     "status": "ok",
     "timestamp": 1722854720079,
     "user_tz": -120,
     "elapsed": 8,
     "user": {
      "displayName": "Polina Danilovskaia",
      "userId": "10456728383422716320"
     }
    }
   },
   "cell_type": "code",
   "outputs": [],
   "execution_count": 12,
   "source": [
    "class Seq2Seq(nn.Module):\n",
    "    def __init__(self, encoder, decoder, device):\n",
    "        super().__init__()\n",
    "        self.encoder = encoder\n",
    "        self.decoder = decoder\n",
    "        self.device = device\n",
    "        assert (\n",
    "            encoder.hidden_dim == decoder.hidden_dim\n",
    "        ), \"Hidden dimensions of encoder and decoder must be equal!\"\n",
    "        assert (\n",
    "            encoder.n_layers == decoder.n_layers\n",
    "        ), \"Encoder and decoder must have equal number of layers!\"\n",
    "\n",
    "    def forward(self, src, tgt, teacher_forcing_ratio):\n",
    "        # src = [src length, batch size]\n",
    "        # tgt = [tgt length, batch size]\n",
    "        # teacher_forcing_ratio is probability to use teacher forcing\n",
    "        # e.g. if teacher_forcing_ratio is 0.75 we use ground-truth inputs 75% of the time\n",
    "        batch_size = tgt.shape[1]\n",
    "        tgt_length = tgt.shape[0]\n",
    "        tgt_vocab_size = self.decoder.output_dim\n",
    "        # tensor to store decoder outputs\n",
    "        outputs = torch.zeros(tgt_length, batch_size, tgt_vocab_size).to(self.device)\n",
    "        # last hidden state of the encoder is used as the initial hidden state of the decoder\n",
    "        hidden, cell = self.encoder(src)\n",
    "        # hidden = [n layers * n directions, batch size, hidden dim]\n",
    "        # cell = [n layers * n directions, batch size, hidden dim]\n",
    "        # first input to the decoder is the <sos> tokens\n",
    "        input = tgt[0, :]\n",
    "        # input = [batch size]\n",
    "        for t in range(1, tgt_length):\n",
    "            # insert input token embedding, previous hidden and previous cell states\n",
    "            # receive output tensor (predictions) and new hidden and cell states\n",
    "            output, hidden, cell = self.decoder(input, hidden, cell)\n",
    "            # output = [batch size, output dim]\n",
    "            # hidden = [n layers, batch size, hidden dim]\n",
    "            # cell = [n layers, batch size, hidden dim]\n",
    "            # place predictions in a tensor holding predictions for each token\n",
    "            outputs[t] = output\n",
    "            # decide if we are going to use teacher forcing or not\n",
    "            teacher_force = random.random() < teacher_forcing_ratio\n",
    "            # get the highest predicted token from our predictions\n",
    "            top1 = output.argmax(1)\n",
    "            # if teacher forcing, use actual next token as next input\n",
    "            # if not, use predicted token\n",
    "            input = tgt[t] if teacher_force else top1\n",
    "            # input = [batch size]\n",
    "        return outputs"
   ],
   "id": "94f8f70283fdfb6b"
  },
  {
   "metadata": {},
   "cell_type": "markdown",
   "source": "Setting up the model",
   "id": "354ef790c191fe74"
  },
  {
   "metadata": {
    "id": "6aeb28606ff0c91d",
    "executionInfo": {
     "status": "ok",
     "timestamp": 1722854721538,
     "user_tz": -120,
     "elapsed": 1463,
     "user": {
      "displayName": "Polina Danilovskaia",
      "userId": "10456728383422716320"
     }
    }
   },
   "cell_type": "code",
   "outputs": [],
   "execution_count": 13,
   "source": [
    "input_dim = sp.get_piece_size()\n",
    "output_dim = sp.get_piece_size()\n",
    "encoder_embedding_dim = 512\n",
    "decoder_embedding_dim = 512\n",
    "hidden_dim = 512\n",
    "n_layers = 4\n",
    "encoder_dropout = 0.5\n",
    "decoder_dropout = 0.5\n",
    "torch.cuda.empty_cache()\n",
    "device = torch.device(\"cuda\" if torch.cuda.is_available() else \"cpu\")\n",
    "\n",
    "encoder = Encoder(\n",
    "    input_dim,\n",
    "    encoder_embedding_dim,\n",
    "    hidden_dim,\n",
    "    n_layers,\n",
    "    encoder_dropout,\n",
    ")\n",
    "\n",
    "decoder = Decoder(\n",
    "    output_dim,\n",
    "    decoder_embedding_dim,\n",
    "    hidden_dim,\n",
    "    n_layers,\n",
    "    decoder_dropout,\n",
    ")\n",
    "\n",
    "model = Seq2Seq(encoder, decoder, device).to(device)"
   ],
   "id": "6aeb28606ff0c91d"
  },
  {
   "metadata": {
    "colab": {
     "base_uri": "https://localhost:8080/"
    },
    "id": "55d985b695967ac3",
    "executionInfo": {
     "status": "ok",
     "timestamp": 1722854721538,
     "user_tz": -120,
     "elapsed": 17,
     "user": {
      "displayName": "Polina Danilovskaia",
      "userId": "10456728383422716320"
     }
    },
    "outputId": "d52b3cef-e013-43f4-800b-89cec90c90ae"
   },
   "cell_type": "code",
   "outputs": [
    {
     "output_type": "execute_result",
     "data": {
      "text/plain": [
       "Seq2Seq(\n",
       "  (encoder): Encoder(\n",
       "    (embedding): Embedding(16000, 512)\n",
       "    (rnn): LSTM(512, 512, num_layers=4, dropout=0.5)\n",
       "    (dropout): Dropout(p=0.5, inplace=False)\n",
       "  )\n",
       "  (decoder): Decoder(\n",
       "    (embedding): Embedding(16000, 512)\n",
       "    (rnn): LSTM(512, 512, num_layers=4, dropout=0.5)\n",
       "    (fc_out): Linear(in_features=512, out_features=16000, bias=True)\n",
       "    (dropout): Dropout(p=0.5, inplace=False)\n",
       "  )\n",
       ")"
      ]
     },
     "metadata": {},
     "execution_count": 14
    }
   ],
   "execution_count": 14,
   "source": [
    "def init_weights(m):\n",
    "    for name, param in m.named_parameters():\n",
    "        nn.init.uniform_(param.data, -0.08, 0.08)\n",
    "\n",
    "\n",
    "model.apply(init_weights)"
   ],
   "id": "55d985b695967ac3"
  },
  {
   "metadata": {
    "colab": {
     "base_uri": "https://localhost:8080/"
    },
    "id": "13ae498d465b850d",
    "executionInfo": {
     "status": "ok",
     "timestamp": 1722854721538,
     "user_tz": -120,
     "elapsed": 10,
     "user": {
      "displayName": "Polina Danilovskaia",
      "userId": "10456728383422716320"
     }
    },
    "outputId": "dd3cf7f8-3121-4285-cc9d-c36fc8170482"
   },
   "cell_type": "code",
   "outputs": [
    {
     "output_type": "stream",
     "name": "stdout",
     "text": [
      "The model has 41,401,984 trainable parameters\n"
     ]
    }
   ],
   "execution_count": 15,
   "source": [
    "def count_parameters(model):\n",
    "    return sum(p.numel() for p in model.parameters() if p.requires_grad)\n",
    "\n",
    "\n",
    "print(f\"The model has {count_parameters(model):,} trainable parameters\")"
   ],
   "id": "13ae498d465b850d"
  },
  {
   "metadata": {
    "id": "a4262b5d61db250",
    "executionInfo": {
     "status": "ok",
     "timestamp": 1722854722107,
     "user_tz": -120,
     "elapsed": 574,
     "user": {
      "displayName": "Polina Danilovskaia",
      "userId": "10456728383422716320"
     }
    }
   },
   "cell_type": "code",
   "outputs": [],
   "execution_count": 16,
   "source": [
    "import torch.optim as optim\n",
    "optimizer = optim.Adam(model.parameters())"
   ],
   "id": "a4262b5d61db250"
  },
  {
   "metadata": {
    "id": "16716a9bb375c138",
    "executionInfo": {
     "status": "ok",
     "timestamp": 1722854722107,
     "user_tz": -120,
     "elapsed": 10,
     "user": {
      "displayName": "Polina Danilovskaia",
      "userId": "10456728383422716320"
     }
    }
   },
   "cell_type": "code",
   "outputs": [],
   "execution_count": 17,
   "source": [
    "import torch.nn as nn\n",
    "criterion = nn.CrossEntropyLoss(ignore_index=pad_index)"
   ],
   "id": "16716a9bb375c138"
  },
  {
   "metadata": {
    "id": "33656d484447460f",
    "executionInfo": {
     "status": "ok",
     "timestamp": 1722854722107,
     "user_tz": -120,
     "elapsed": 9,
     "user": {
      "displayName": "Polina Danilovskaia",
      "userId": "10456728383422716320"
     }
    }
   },
   "cell_type": "code",
   "outputs": [],
   "execution_count": 18,
   "source": [
    "def train_fn(\n",
    "    model, data_loader, optimizer, criterion, clip, teacher_forcing_ratio, device\n",
    "):\n",
    "    model.train()\n",
    "    epoch_loss = 0\n",
    "    for i, batch in enumerate(data_loader):\n",
    "        src = batch[\"src_ids\"].to(device)\n",
    "        tgt = batch[\"tgt_ids\"].to(device)\n",
    "        # src = [src length, batch size]\n",
    "        # tgt = [tgt length, batch size]\n",
    "        optimizer.zero_grad()\n",
    "        output = model(src, tgt, teacher_forcing_ratio)\n",
    "        # output = [tgt length, batch size, tgt vocab size]\n",
    "        output_dim = output.shape[-1]\n",
    "        output = output[1:].view(-1, output_dim)\n",
    "        # output = [(tgt length - 1) * batch size, tgt vocab size]\n",
    "        tgt = tgt[1:].view(-1)\n",
    "        # tgt = [(tgt length - 1) * batch size]\n",
    "        loss = criterion(output, tgt)\n",
    "        loss.backward()\n",
    "        torch.nn.utils.clip_grad_norm_(model.parameters(), clip)\n",
    "        optimizer.step()\n",
    "        epoch_loss += loss.item()\n",
    "    return epoch_loss / len(data_loader)"
   ],
   "id": "33656d484447460f"
  },
  {
   "metadata": {
    "id": "d808dc880d30b239",
    "executionInfo": {
     "status": "ok",
     "timestamp": 1722854722107,
     "user_tz": -120,
     "elapsed": 9,
     "user": {
      "displayName": "Polina Danilovskaia",
      "userId": "10456728383422716320"
     }
    }
   },
   "cell_type": "code",
   "outputs": [],
   "execution_count": 19,
   "source": [
    "def evaluate_fn(model, data_loader, criterion, device):\n",
    "    model.eval()\n",
    "    epoch_loss = 0\n",
    "    with torch.no_grad():\n",
    "        for i, batch in enumerate(data_loader):\n",
    "            src = batch[\"src_ids\"].to(device)\n",
    "            tgt = batch[\"tgt_ids\"].to(device)\n",
    "            # src = [src length, batch size]\n",
    "            # tgt = [tgt length, batch size]\n",
    "            output = model(src, tgt, 0)  # turn off teacher forcing\n",
    "            # output = [tgt length, batch size, tgt vocab size]\n",
    "            output_dim = output.shape[-1]\n",
    "            output = output[1:].view(-1, output_dim)\n",
    "            # output = [(tgt length - 1) * batch size, tgt vocab size]\n",
    "            tgt = tgt[1:].view(-1)\n",
    "            # tgt = [(tgt length - 1) * batch size]\n",
    "            loss = criterion(output, tgt)\n",
    "            epoch_loss += loss.item()\n",
    "    return epoch_loss / len(data_loader)"
   ],
   "id": "d808dc880d30b239"
  },
  {
   "metadata": {
    "colab": {
     "base_uri": "https://localhost:8080/"
    },
    "id": "10b0d46e3397edb4",
    "executionInfo": {
     "status": "ok",
     "timestamp": 1722859687474,
     "user_tz": -120,
     "elapsed": 4965375,
     "user": {
      "displayName": "Polina Danilovskaia",
      "userId": "10456728383422716320"
     }
    },
    "outputId": "bc187280-dac3-4d50-a747-ef7ae02871a4"
   },
   "cell_type": "code",
   "outputs": [
    {
     "output_type": "stream",
     "name": "stderr",
     "text": [
      "  3%|▎         | 1/30 [02:50<1:22:30, 170.71s/it]"
     ]
    },
    {
     "output_type": "stream",
     "name": "stdout",
     "text": [
      "\tTrain Loss:   6.513 | Train PPL: 673.681\n",
      "\tValid Loss:   6.349 | Valid PPL: 572.061\n"
     ]
    },
    {
     "output_type": "stream",
     "name": "stderr",
     "text": [
      "\r  7%|▋         | 2/30 [05:34<1:17:46, 166.67s/it]"
     ]
    },
    {
     "output_type": "stream",
     "name": "stdout",
     "text": [
      "\tTrain Loss:   6.304 | Train PPL: 546.882\n",
      "\tValid Loss:   6.333 | Valid PPL: 563.032\n"
     ]
    },
    {
     "output_type": "stream",
     "name": "stderr",
     "text": [
      "\r 10%|█         | 3/30 [08:18<1:14:27, 165.47s/it]"
     ]
    },
    {
     "output_type": "stream",
     "name": "stdout",
     "text": [
      "\tTrain Loss:   6.258 | Train PPL: 521.971\n",
      "\tValid Loss:   6.285 | Valid PPL: 536.723\n"
     ]
    },
    {
     "output_type": "stream",
     "name": "stderr",
     "text": [
      "\r 13%|█▎        | 4/30 [11:02<1:11:27, 164.92s/it]"
     ]
    },
    {
     "output_type": "stream",
     "name": "stdout",
     "text": [
      "\tTrain Loss:   6.216 | Train PPL: 500.559\n",
      "\tValid Loss:   6.254 | Valid PPL: 519.992\n"
     ]
    },
    {
     "output_type": "stream",
     "name": "stderr",
     "text": [
      "\r 17%|█▋        | 5/30 [13:50<1:09:05, 165.81s/it]"
     ]
    },
    {
     "output_type": "stream",
     "name": "stdout",
     "text": [
      "\tTrain Loss:   6.162 | Train PPL: 474.296\n",
      "\tValid Loss:   6.247 | Valid PPL: 516.401\n"
     ]
    },
    {
     "output_type": "stream",
     "name": "stderr",
     "text": [
      "\r 20%|██        | 6/30 [16:33<1:06:01, 165.07s/it]"
     ]
    },
    {
     "output_type": "stream",
     "name": "stdout",
     "text": [
      "\tTrain Loss:   6.070 | Train PPL: 432.511\n",
      "\tValid Loss:   6.174 | Valid PPL: 479.983\n"
     ]
    },
    {
     "output_type": "stream",
     "name": "stderr",
     "text": [
      "\r 23%|██▎       | 7/30 [19:19<1:03:19, 165.20s/it]"
     ]
    },
    {
     "output_type": "stream",
     "name": "stdout",
     "text": [
      "\tTrain Loss:   5.922 | Train PPL: 373.313\n",
      "\tValid Loss:   6.056 | Valid PPL: 426.878\n"
     ]
    },
    {
     "output_type": "stream",
     "name": "stderr",
     "text": [
      "\r 27%|██▋       | 8/30 [21:59<1:00:03, 163.80s/it]"
     ]
    },
    {
     "output_type": "stream",
     "name": "stdout",
     "text": [
      "\tTrain Loss:   5.689 | Train PPL: 295.478\n",
      "\tValid Loss:   5.823 | Valid PPL: 337.989\n"
     ]
    },
    {
     "output_type": "stream",
     "name": "stderr",
     "text": [
      "\r 30%|███       | 9/30 [24:46<57:35, 164.55s/it]  "
     ]
    },
    {
     "output_type": "stream",
     "name": "stdout",
     "text": [
      "\tTrain Loss:   5.501 | Train PPL: 244.957\n",
      "\tValid Loss:   5.704 | Valid PPL: 300.051\n"
     ]
    },
    {
     "output_type": "stream",
     "name": "stderr",
     "text": [
      "\r 33%|███▎      | 10/30 [27:32<55:04, 165.22s/it]"
     ]
    },
    {
     "output_type": "stream",
     "name": "stdout",
     "text": [
      "\tTrain Loss:   5.339 | Train PPL: 208.292\n",
      "\tValid Loss:   5.549 | Valid PPL: 257.079\n"
     ]
    },
    {
     "output_type": "stream",
     "name": "stderr",
     "text": [
      "\r 37%|███▋      | 11/30 [30:17<52:16, 165.09s/it]"
     ]
    },
    {
     "output_type": "stream",
     "name": "stdout",
     "text": [
      "\tTrain Loss:   5.161 | Train PPL: 174.392\n",
      "\tValid Loss:   5.399 | Valid PPL: 221.175\n"
     ]
    },
    {
     "output_type": "stream",
     "name": "stderr",
     "text": [
      "\r 40%|████      | 12/30 [33:01<49:25, 164.77s/it]"
     ]
    },
    {
     "output_type": "stream",
     "name": "stdout",
     "text": [
      "\tTrain Loss:   4.982 | Train PPL: 145.821\n",
      "\tValid Loss:   5.266 | Valid PPL: 193.568\n"
     ]
    },
    {
     "output_type": "stream",
     "name": "stderr",
     "text": [
      "\r 43%|████▎     | 13/30 [35:45<46:37, 164.53s/it]"
     ]
    },
    {
     "output_type": "stream",
     "name": "stdout",
     "text": [
      "\tTrain Loss:   4.822 | Train PPL: 124.254\n",
      "\tValid Loss:   5.138 | Valid PPL: 170.407\n"
     ]
    },
    {
     "output_type": "stream",
     "name": "stderr",
     "text": [
      "\r 47%|████▋     | 14/30 [38:27<43:38, 163.66s/it]"
     ]
    },
    {
     "output_type": "stream",
     "name": "stdout",
     "text": [
      "\tTrain Loss:   4.670 | Train PPL: 106.656\n",
      "\tValid Loss:   5.039 | Valid PPL: 154.391\n"
     ]
    },
    {
     "output_type": "stream",
     "name": "stderr",
     "text": [
      "\r 50%|█████     | 15/30 [41:11<40:57, 163.87s/it]"
     ]
    },
    {
     "output_type": "stream",
     "name": "stdout",
     "text": [
      "\tTrain Loss:   4.532 | Train PPL:  92.936\n",
      "\tValid Loss:   4.946 | Valid PPL: 140.680\n"
     ]
    },
    {
     "output_type": "stream",
     "name": "stderr",
     "text": [
      "\r 53%|█████▎    | 16/30 [43:57<38:23, 164.55s/it]"
     ]
    },
    {
     "output_type": "stream",
     "name": "stdout",
     "text": [
      "\tTrain Loss:   4.402 | Train PPL:  81.619\n",
      "\tValid Loss:   4.890 | Valid PPL: 132.988\n"
     ]
    },
    {
     "output_type": "stream",
     "name": "stderr",
     "text": [
      "\r 57%|█████▋    | 17/30 [46:42<35:39, 164.56s/it]"
     ]
    },
    {
     "output_type": "stream",
     "name": "stdout",
     "text": [
      "\tTrain Loss:   4.294 | Train PPL:  73.272\n",
      "\tValid Loss:   4.849 | Valid PPL: 127.630\n"
     ]
    },
    {
     "output_type": "stream",
     "name": "stderr",
     "text": [
      "\r 60%|██████    | 18/30 [49:30<33:07, 165.63s/it]"
     ]
    },
    {
     "output_type": "stream",
     "name": "stdout",
     "text": [
      "\tTrain Loss:   4.178 | Train PPL:  65.244\n",
      "\tValid Loss:   4.797 | Valid PPL: 121.185\n"
     ]
    },
    {
     "output_type": "stream",
     "name": "stderr",
     "text": [
      "\r 63%|██████▎   | 19/30 [52:15<30:20, 165.49s/it]"
     ]
    },
    {
     "output_type": "stream",
     "name": "stdout",
     "text": [
      "\tTrain Loss:   4.075 | Train PPL:  58.854\n",
      "\tValid Loss:   4.762 | Valid PPL: 117.020\n"
     ]
    },
    {
     "output_type": "stream",
     "name": "stderr",
     "text": [
      "\r 67%|██████▋   | 20/30 [55:05<27:47, 166.78s/it]"
     ]
    },
    {
     "output_type": "stream",
     "name": "stdout",
     "text": [
      "\tTrain Loss:   3.991 | Train PPL:  54.103\n",
      "\tValid Loss:   4.752 | Valid PPL: 115.815\n"
     ]
    },
    {
     "output_type": "stream",
     "name": "stderr",
     "text": [
      "\r 70%|███████   | 21/30 [57:50<24:57, 166.37s/it]"
     ]
    },
    {
     "output_type": "stream",
     "name": "stdout",
     "text": [
      "\tTrain Loss:   3.910 | Train PPL:  49.900\n",
      "\tValid Loss:   4.708 | Valid PPL: 110.876\n"
     ]
    },
    {
     "output_type": "stream",
     "name": "stderr",
     "text": [
      "\r 73%|███████▎  | 22/30 [1:00:36<22:10, 166.26s/it]"
     ]
    },
    {
     "output_type": "stream",
     "name": "stdout",
     "text": [
      "\tTrain Loss:   3.823 | Train PPL:  45.733\n",
      "\tValid Loss:   4.703 | Valid PPL: 110.276\n"
     ]
    },
    {
     "output_type": "stream",
     "name": "stderr",
     "text": [
      "\r 77%|███████▋  | 23/30 [1:03:21<19:19, 165.62s/it]"
     ]
    },
    {
     "output_type": "stream",
     "name": "stdout",
     "text": [
      "\tTrain Loss:   3.751 | Train PPL:  42.554\n",
      "\tValid Loss:   4.691 | Valid PPL: 108.911\n"
     ]
    },
    {
     "output_type": "stream",
     "name": "stderr",
     "text": [
      "\r 80%|████████  | 24/30 [1:06:06<16:32, 165.47s/it]"
     ]
    },
    {
     "output_type": "stream",
     "name": "stdout",
     "text": [
      "\tTrain Loss:   3.667 | Train PPL:  39.134\n",
      "\tValid Loss:   4.680 | Valid PPL: 107.729\n"
     ]
    },
    {
     "output_type": "stream",
     "name": "stderr",
     "text": [
      "\r 83%|████████▎ | 25/30 [1:08:52<13:49, 165.84s/it]"
     ]
    },
    {
     "output_type": "stream",
     "name": "stdout",
     "text": [
      "\tTrain Loss:   3.594 | Train PPL:  36.381\n",
      "\tValid Loss:   4.691 | Valid PPL: 108.914\n"
     ]
    },
    {
     "output_type": "stream",
     "name": "stderr",
     "text": [
      "\r 87%|████████▋ | 26/30 [1:11:40<11:05, 166.39s/it]"
     ]
    },
    {
     "output_type": "stream",
     "name": "stdout",
     "text": [
      "\tTrain Loss:   3.520 | Train PPL:  33.776\n",
      "\tValid Loss:   4.672 | Valid PPL: 106.934\n"
     ]
    },
    {
     "output_type": "stream",
     "name": "stderr",
     "text": [
      "\r 90%|█████████ | 27/30 [1:14:23<08:16, 165.47s/it]"
     ]
    },
    {
     "output_type": "stream",
     "name": "stdout",
     "text": [
      "\tTrain Loss:   3.458 | Train PPL:  31.758\n",
      "\tValid Loss:   4.667 | Valid PPL: 106.329\n"
     ]
    },
    {
     "output_type": "stream",
     "name": "stderr",
     "text": [
      "\r 93%|█████████▎| 28/30 [1:17:13<05:33, 166.65s/it]"
     ]
    },
    {
     "output_type": "stream",
     "name": "stdout",
     "text": [
      "\tTrain Loss:   3.385 | Train PPL:  29.523\n",
      "\tValid Loss:   4.663 | Valid PPL: 105.996\n"
     ]
    },
    {
     "output_type": "stream",
     "name": "stderr",
     "text": [
      "\r 97%|█████████▋| 29/30 [1:19:58<02:46, 166.26s/it]"
     ]
    },
    {
     "output_type": "stream",
     "name": "stdout",
     "text": [
      "\tTrain Loss:   3.335 | Train PPL:  28.080\n",
      "\tValid Loss:   4.662 | Valid PPL: 105.823\n"
     ]
    },
    {
     "output_type": "stream",
     "name": "stderr",
     "text": [
      "100%|██████████| 30/30 [1:22:44<00:00, 165.49s/it]"
     ]
    },
    {
     "output_type": "stream",
     "name": "stdout",
     "text": [
      "\tTrain Loss:   3.275 | Train PPL:  26.452\n",
      "\tValid Loss:   4.673 | Valid PPL: 106.986\n"
     ]
    },
    {
     "output_type": "stream",
     "name": "stderr",
     "text": [
      "\n"
     ]
    }
   ],
   "execution_count": 20,
   "source": [
    "n_epochs = 30\n",
    "clip = 1.0\n",
    "teacher_forcing_ratio = 0.25\n",
    "output_model = '/content/gdrive/My Drive/Colab Notebooks/gec24/models/' + model_name + '.pt'\n",
    "\n",
    "best_valid_loss = float(\"inf\")\n",
    "train_losses = []\n",
    "valid_losses = []\n",
    "\n",
    "for epoch in tqdm.tqdm(range(n_epochs)):\n",
    "    train_loss = train_fn(\n",
    "        model,\n",
    "        train_data_loader,\n",
    "        optimizer,\n",
    "        criterion,\n",
    "        clip,\n",
    "        teacher_forcing_ratio,\n",
    "        device,\n",
    "    )\n",
    "    valid_loss = evaluate_fn(\n",
    "        model,\n",
    "        dev_data_loader,\n",
    "        criterion,\n",
    "        device,\n",
    "    )\n",
    "\n",
    "    train_losses.append(train_loss)\n",
    "    valid_losses.append(valid_loss)\n",
    "\n",
    "    if valid_loss < best_valid_loss:\n",
    "        best_valid_loss = valid_loss\n",
    "        torch.save(model.state_dict(), output_model)\n",
    "    print(f\"\\tTrain Loss: {train_loss:7.3f} | Train PPL: {np.exp(train_loss):7.3f}\")\n",
    "    print(f\"\\tValid Loss: {valid_loss:7.3f} | Valid PPL: {np.exp(valid_loss):7.3f}\")"
   ],
   "id": "10b0d46e3397edb4"
  },
  {
   "metadata": {},
   "cell_type": "markdown",
   "source": "Visualizing the training:",
   "id": "6738821b8426b6f1"
  },
  {
   "metadata": {
    "colab": {
     "base_uri": "https://localhost:8080/",
     "height": 508
    },
    "id": "1e61bd3aa73c9b5b",
    "executionInfo": {
     "status": "ok",
     "timestamp": 1722859687475,
     "user_tz": -120,
     "elapsed": 23,
     "user": {
      "displayName": "Polina Danilovskaia",
      "userId": "10456728383422716320"
     }
    },
    "outputId": "448d74f9-cbaa-4898-f880-8b921c9ecba2"
   },
   "cell_type": "code",
   "outputs": [
    {
     "output_type": "display_data",
     "data": {
      "text/plain": [
       "<Figure size 1000x500 with 1 Axes>"
      ],
      "image/png": "[encoded data removed]"
     },
     "metadata": {}
    }
   ],
   "execution_count": 21,
   "source": [
    "plt.figure(figsize=(10, 5))\n",
    "plt.plot(train_losses, label='Train Loss')\n",
    "plt.plot(valid_losses, label='Validation Loss')\n",
    "plt.xlabel('Epochs')\n",
    "plt.ylabel('Loss')\n",
    "plt.title('Training and Validation Loss')\n",
    "plt.legend()\n",
    "plt.show()"
   ],
   "id": "1e61bd3aa73c9b5b"
  },
  {
   "metadata": {},
   "cell_type": "markdown",
   "source": "Computing test loss:",
   "id": "b6bd1d9e355b8c9"
  },
  {
   "metadata": {
    "colab": {
     "base_uri": "https://localhost:8080/"
    },
    "id": "efdcd1a03e480ad8",
    "executionInfo": {
     "status": "ok",
     "timestamp": 1722859718694,
     "user_tz": -120,
     "elapsed": 4116,
     "user": {
      "displayName": "Polina Danilovskaia",
      "userId": "10456728383422716320"
     }
    },
    "outputId": "eb4d93a0-3f55-4065-89f0-34b676507589"
   },
   "cell_type": "code",
   "outputs": [
    {
     "output_type": "stream",
     "name": "stdout",
     "text": [
      "| Test Loss: 5.818 | Test PPL: 336.385 |\n"
     ]
    }
   ],
   "execution_count": 29,
   "source": [
    "model.load_state_dict(torch.load(output_model))\n",
    "\n",
    "test_loss = evaluate_fn(model, test_data_loader, criterion, device)\n",
    "\n",
    "print(f\"| Test Loss: {test_loss:.3f} | Test PPL: {np.exp(test_loss):7.3f} |\")"
   ],
   "id": "efdcd1a03e480ad8"
  },
  {
   "metadata": {},
   "cell_type": "markdown",
   "source": [
    "\n",
    "At last, we can see how our model makes corrections to three sentences in practice."
   ],
   "id": "300b21ba2925edf2"
  },
  {
   "cell_type": "code",
   "source": [
    "def correct_sentence(\n",
    "    sentence,\n",
    "    model,\n",
    "    sp,\n",
    "    sos_token,\n",
    "    eos_token,\n",
    "    device,\n",
    "    max_output_length=25,\n",
    "):\n",
    "    model.eval()\n",
    "    with torch.no_grad():\n",
    "        # Tokenize sentence with SentencePiece\n",
    "        tokens = sp.encode_as_pieces(sentence)\n",
    "        tokens = [sos_token] + tokens + [eos_token]  # Add SOS and EOS tokens\n",
    "\n",
    "        # Encode tokens to get IDs\n",
    "        ids = sp.encode_as_ids(sentence)\n",
    "        tensor = torch.LongTensor(ids).unsqueeze(-1).to(device)\n",
    "\n",
    "        hidden, cell = model.encoder(tensor)\n",
    "\n",
    "        inputs = [sp.bos_id()]  # Use BOS token ID\n",
    "        for _ in range(max_output_length):\n",
    "            inputs_tensor = torch.LongTensor([inputs[-1]]).to(device)\n",
    "            output, hidden, cell = model.decoder(inputs_tensor, hidden, cell)\n",
    "            predicted_token_id = output.argmax(-1).item()\n",
    "            inputs.append(predicted_token_id)\n",
    "            if predicted_token_id == sp.eos_id():\n",
    "                break\n",
    "\n",
    "        # Decode predicted token IDs to tokens\n",
    "        predicted_tokens = sp.decode_ids(inputs)\n",
    "\n",
    "    return predicted_tokens"
   ],
   "metadata": {
    "id": "3eWS_vbeBMjB",
    "executionInfo": {
     "status": "ok",
     "timestamp": 1722859721241,
     "user_tz": -120,
     "elapsed": 11,
     "user": {
      "displayName": "Polina Danilovskaia",
      "userId": "10456728383422716320"
     }
    }
   },
   "id": "3eWS_vbeBMjB",
   "execution_count": 30,
   "outputs": []
  },
  {
   "metadata": {},
   "cell_type": "markdown",
   "source": "First example",
   "id": "ef907704aaa7858a"
  },
  {
   "cell_type": "code",
   "source": [
    "sentence = test_data[17][\"src\"]\n",
    "expected_correction = test_data[17][\"tgt\"]\n",
    "sentence, expected_correction"
   ],
   "metadata": {
    "colab": {
     "base_uri": "https://localhost:8080/"
    },
    "id": "1dm_CfSGB50_",
    "executionInfo": {
     "status": "ok",
     "timestamp": 1722859689815,
     "user_tz": -120,
     "elapsed": 11,
     "user": {
      "displayName": "Polina Danilovskaia",
      "userId": "10456728383422716320"
     }
    },
    "outputId": "6a6385f3-b923-444f-cbcd-94a39759a71b"
   },
   "id": "1dm_CfSGB50_",
   "execution_count": 24,
   "outputs": [
    {
     "output_type": "execute_result",
     "data": {
      "text/plain": [
       "(\"Although such a show of strength by these works ' characters is sometimes viewed as a violent and therefore negative contribution to the otherwise insightful thought of the author , it is this conflict upon which many stories of ethnic American literature are based .\",\n",
       " \"Although such a show of strength by these works ' characters is sometimes viewed as a violent and therefore negative contribution to the otherwise insightful thought of the author , it is this conflict upon which many stories of ethnic American literature are based .\")"
      ]
     },
     "metadata": {},
     "execution_count": 24
    }
   ]
  },
  {
   "cell_type": "code",
   "source": [
    "correction = correct_sentence(\n",
    "    sentence,\n",
    "    model,\n",
    "    sp,\n",
    "    'BOS',\n",
    "    'EOS',\n",
    "    'cuda'\n",
    ")"
   ],
   "metadata": {
    "id": "IE96PTZGBepU",
    "executionInfo": {
     "status": "ok",
     "timestamp": 1722859690849,
     "user_tz": -120,
     "elapsed": 1041,
     "user": {
      "displayName": "Polina Danilovskaia",
      "userId": "10456728383422716320"
     }
    }
   },
   "id": "IE96PTZGBepU",
   "execution_count": 25,
   "outputs": []
  },
  {
   "cell_type": "code",
   "source": [
    "correction"
   ],
   "metadata": {
    "colab": {
     "base_uri": "https://localhost:8080/",
     "height": 56
    },
    "id": "NMtswIM0Blu4",
    "executionInfo": {
     "status": "ok",
     "timestamp": 1722859690849,
     "user_tz": -120,
     "elapsed": 27,
     "user": {
      "displayName": "Polina Danilovskaia",
      "userId": "10456728383422716320"
     }
    },
    "outputId": "ea93781f-fe40-4d94-9542-1fe44967a172"
   },
   "id": "NMtswIM0Blu4",
   "execution_count": 26,
   "outputs": [
    {
     "output_type": "execute_result",
     "data": {
      "text/plain": [
       "\"However , there there have the of of our food 's lives , it is the , , the the , the the ,\""
      ],
      "application/vnd.google.colaboratory.intrinsic+json": {
       "type": "string"
      }
     },
     "metadata": {},
     "execution_count": 26
    }
   ]
  },
  {
   "metadata": {},
   "cell_type": "markdown",
   "source": "Second example",
   "id": "c5b47537d006d232"
  },
  {
   "cell_type": "code",
   "source": [
    "sentence = test_data[34][\"src\"]\n",
    "expected_correction = test_data[34][\"tgt\"]\n",
    "sentence, expected_correction"
   ],
   "metadata": {
    "colab": {
     "base_uri": "https://localhost:8080/"
    },
    "id": "x2FzxDUnCIVt",
    "executionInfo": {
     "status": "ok",
     "timestamp": 1722859732974,
     "user_tz": -120,
     "elapsed": 8,
     "user": {
      "displayName": "Polina Danilovskaia",
      "userId": "10456728383422716320"
     }
    },
    "outputId": "b19fb387-1523-42c6-a0ea-f813ab26c26d"
   },
   "id": "x2FzxDUnCIVt",
   "execution_count": 32,
   "outputs": [
    {
     "output_type": "execute_result",
     "data": {
      "text/plain": [
       "('On arrival they see starvation and death .',\n",
       " 'On arrival they see starvation and death .')"
      ]
     },
     "metadata": {},
     "execution_count": 32
    }
   ]
  },
  {
   "cell_type": "code",
   "source": [
    "correction = correct_sentence(\n",
    "    sentence,\n",
    "    model,\n",
    "    sp,\n",
    "    'BOS',\n",
    "    'EOS',\n",
    "    'cuda'\n",
    ")\n",
    "correction"
   ],
   "metadata": {
    "colab": {
     "base_uri": "https://localhost:8080/",
     "height": 56
    },
    "id": "_-iwHjwbCMUm",
    "executionInfo": {
     "status": "ok",
     "timestamp": 1722859733439,
     "user_tz": -120,
     "elapsed": 6,
     "user": {
      "displayName": "Polina Danilovskaia",
      "userId": "10456728383422716320"
     }
    },
    "outputId": "c7d47d44-8e85-44d5-e684-f5030dd704e8"
   },
   "id": "_-iwHjwbCMUm",
   "execution_count": 33,
   "outputs": [
    {
     "output_type": "execute_result",
     "data": {
      "text/plain": [
       "'If the they have have and well .'"
      ],
      "application/vnd.google.colaboratory.intrinsic+json": {
       "type": "string"
      }
     },
     "metadata": {},
     "execution_count": 33
    }
   ]
  },
  {
   "metadata": {},
   "cell_type": "markdown",
   "source": "Third example",
   "id": "73008c9271f44676"
  },
  {
   "cell_type": "code",
   "source": [
    "sentence = 'Two cats is catching a butterfly.'\n",
    "correction = correct_sentence(\n",
    "    sentence,\n",
    "    model,\n",
    "    sp,\n",
    "    'BOS',\n",
    "    'EOS',\n",
    "    'cuda'\n",
    ")\n",
    "correction"
   ],
   "metadata": {
    "colab": {
     "base_uri": "https://localhost:8080/",
     "height": 56
    },
    "id": "EaQYWcNqcYaM",
    "executionInfo": {
     "status": "ok",
     "timestamp": 1722859794057,
     "user_tz": -120,
     "elapsed": 18,
     "user": {
      "displayName": "Polina Danilovskaia",
      "userId": "10456728383422716320"
     }
    },
    "outputId": "d85769fe-27d2-448e-f3c6-4fbe94afaa26"
   },
   "id": "EaQYWcNqcYaM",
   "execution_count": 35,
   "outputs": [
    {
     "output_type": "execute_result",
     "data": {
      "text/plain": [
       "'The is a a a called . .'"
      ],
      "application/vnd.google.colaboratory.intrinsic+json": {
       "type": "string"
      }
     },
     "metadata": {},
     "execution_count": 35
    }
   ]
  }
 ],
 "metadata": {
  "kernelspec": {
   "display_name": "Python 3",
   "name": "python3"
  },
  "language_info": {
   "codemirror_mode": {
    "name": "ipython",
    "version": 2
   },
   "file_extension": ".py",
   "mimetype": "text/x-python",
   "name": "python",
   "nbconvert_exporter": "python",
   "pygments_lexer": "ipython2",
   "version": "2.7.6"
  },
  "colab": {
   "provenance": [],
   "gpuType": "A100"
  },
  "accelerator": "GPU"
 },
 "nbformat": 4,
 "nbformat_minor": 5
}
