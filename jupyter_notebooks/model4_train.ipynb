{
 "cells": [
  {
   "metadata": {
    "id": "1cfec7ae913db671"
   },
   "cell_type": "markdown",
   "source": [
    "## Seq2Seq Model\n",
    "\n",
    "In this notebook, we finally construct our an encoder-decoder model for Grammatical Error Correction, modifying the hyperparameters, visualising the training and validation processes, and examining a selection of examples from the test data.\n",
    "\n",
    " The following notebook was developed based on the teaching unit at the University of Potsdam of Meng Li, which in turn was inspired by  [Ben Trevett's Seq2seq tutorial](https://github.com/bentrevett/pytorch-seq2seq/). "
   ],
   "id": "1cfec7ae913db671"
  },
  {
   "cell_type": "code",
   "source": [
    "from google.colab import drive\n",
    "drive.mount('/content/gdrive')"
   ],
   "metadata": {
    "colab": {
     "base_uri": "https://localhost:8080/"
    },
    "id": "Sy-rLnJCyBR7",
    "executionInfo": {
     "status": "ok",
     "timestamp": 1722861544679,
     "user_tz": -120,
     "elapsed": 24676,
     "user": {
      "displayName": "Polina Danilovskaia",
      "userId": "10456728383422716320"
     }
    },
    "outputId": "1e99a1aa-d76b-4f83-9507-a21760af4c54"
   },
   "id": "Sy-rLnJCyBR7",
   "execution_count": 1,
   "outputs": [
    {
     "output_type": "stream",
     "name": "stdout",
     "text": [
      "Mounted at /content/gdrive\n"
     ]
    }
   ]
  },
  {
   "cell_type": "code",
   "source": [
    "import os\n",
    "PATH = r\"/content/gdrive/My Drive/Colab Notebooks/gec24\"\n",
    "os.chdir(PATH)"
   ],
   "metadata": {
    "id": "kT-XG_oRyE7x",
    "executionInfo": {
     "status": "ok",
     "timestamp": 1722861544679,
     "user_tz": -120,
     "elapsed": 12,
     "user": {
      "displayName": "Polina Danilovskaia",
      "userId": "10456728383422716320"
     }
    }
   },
   "id": "kT-XG_oRyE7x",
   "execution_count": 2,
   "outputs": []
  },
  {
   "metadata": {
    "id": "d916dd2b9945a8a0",
    "executionInfo": {
     "status": "ok",
     "timestamp": 1722861548757,
     "user_tz": -120,
     "elapsed": 4084,
     "user": {
      "displayName": "Polina Danilovskaia",
      "userId": "10456728383422716320"
     }
    }
   },
   "cell_type": "code",
   "outputs": [],
   "execution_count": 3,
   "source": [
    "import torch\n",
    "import torch.nn as nn\n",
    "import matplotlib.pyplot as plt\n",
    "import random\n",
    "import tqdm\n",
    "import numpy as np\n",
    "import sentencepiece as spm"
   ],
   "id": "d916dd2b9945a8a0"
  },
  {
   "metadata": {
    "id": "742bb89b218ce013"
   },
   "cell_type": "markdown",
   "source": "Let's start by creating a function that will pad our sequences to the desired length.",
   "id": "742bb89b218ce013"
  },
  {
   "metadata": {
    "id": "77f82a4c70b6f8ba",
    "executionInfo": {
     "status": "ok",
     "timestamp": 1722861548758,
     "user_tz": -120,
     "elapsed": 12,
     "user": {
      "displayName": "Polina Danilovskaia",
      "userId": "10456728383422716320"
     }
    }
   },
   "cell_type": "code",
   "outputs": [],
   "execution_count": 4,
   "source": [
    "def get_collate_fn(pad_index):\n",
    "    def collate_fn(batch):\n",
    "        batch_src_ids = [example[\"src_ids\"] for example in batch]\n",
    "        batch_tgt_ids = [example[\"tgt_ids\"] for example in batch]\n",
    "        batch_src_ids = nn.utils.rnn.pad_sequence(batch_src_ids, padding_value=pad_index)\n",
    "        batch_tgt_ids = nn.utils.rnn.pad_sequence(batch_tgt_ids, padding_value=pad_index)\n",
    "        batch = {\n",
    "            \"src_ids\": batch_src_ids,\n",
    "            \"tgt_ids\": batch_tgt_ids,\n",
    "        }\n",
    "        return batch\n",
    "\n",
    "    return collate_fn"
   ],
   "id": "77f82a4c70b6f8ba"
  },
  {
   "metadata": {
    "id": "1f5ee17c9da7b060"
   },
   "cell_type": "markdown",
   "source": [
    "Next, we write the functions which give us our data loaders creating using PyTorch's DataLoader class.\n",
    "get_data_loader is created using a Dataset, the batch size, the padding token index (which is used for creating the batches in the collate_fn, and a boolean deciding if the examples should be shuffled at the time the data loader is iterated over.\n",
    "The batch size defines the maximum amount of examples within a batch. If the length of the dataset is not evenly divisible by the batch size then the last batch will be smaller."
   ],
   "id": "1f5ee17c9da7b060"
  },
  {
   "metadata": {
    "id": "68f07d33bc08875f",
    "executionInfo": {
     "status": "ok",
     "timestamp": 1722861548758,
     "user_tz": -120,
     "elapsed": 7,
     "user": {
      "displayName": "Polina Danilovskaia",
      "userId": "10456728383422716320"
     }
    }
   },
   "cell_type": "code",
   "outputs": [],
   "execution_count": 5,
   "source": [
    "def get_data_loader(dataset, batch_size, pad_index, shuffle=False):\n",
    "    collate_fn = get_collate_fn(pad_index)\n",
    "    data_loader = torch.utils.data.DataLoader(\n",
    "        dataset=dataset,\n",
    "        batch_size=batch_size,\n",
    "        collate_fn=collate_fn,\n",
    "        shuffle=shuffle,\n",
    "    )\n",
    "    return data_loader"
   ],
   "id": "68f07d33bc08875f"
  },
  {
   "metadata": {
    "id": "cdccc46c1e8cd4dc",
    "executionInfo": {
     "status": "ok",
     "timestamp": 1722861548758,
     "user_tz": -120,
     "elapsed": 6,
     "user": {
      "displayName": "Polina Danilovskaia",
      "userId": "10456728383422716320"
     }
    }
   },
   "cell_type": "code",
   "outputs": [],
   "execution_count": 6,
   "source": [
    "model_name = 'bpe_8000'"
   ],
   "id": "cdccc46c1e8cd4dc"
  },
  {
   "cell_type": "markdown",
   "source": "Loading data:",
   "metadata": {
    "id": "yv0m433yyI3Y"
   },
   "id": "yv0m433yyI3Y"
  },
  {
   "metadata": {
    "id": "552f4b859db744f8",
    "executionInfo": {
     "status": "ok",
     "timestamp": 1722861560377,
     "user_tz": -120,
     "elapsed": 11625,
     "user": {
      "displayName": "Polina Danilovskaia",
      "userId": "10456728383422716320"
     }
    }
   },
   "cell_type": "code",
   "outputs": [],
   "execution_count": 7,
   "source": [
    "train_data = torch.load(\"/content/gdrive/My Drive/Colab Notebooks/gec24/data/tokenized_data/bpe_8000_train.pt\")\n",
    "dev_data = torch.load(\"/content/gdrive/My Drive/Colab Notebooks/gec24/data/tokenized_data/bpe_8000_dev.pt\")\n",
    "test_data = torch.load(\"/content/gdrive/My Drive/Colab Notebooks/gec24/data/tokenized_data/bpe_8000_test.pt\")"
   ],
   "id": "552f4b859db744f8"
  },
  {
   "metadata": {
    "id": "80decdf60398939",
    "executionInfo": {
     "status": "ok",
     "timestamp": 1722861560936,
     "user_tz": -120,
     "elapsed": 8,
     "user": {
      "displayName": "Polina Danilovskaia",
      "userId": "10456728383422716320"
     }
    }
   },
   "cell_type": "code",
   "outputs": [],
   "execution_count": 8,
   "source": [
    "model_filename = 'tokenizer_models/' + model_name + '.model'\n",
    "sp = spm.SentencePieceProcessor(model_file=model_filename)"
   ],
   "id": "80decdf60398939"
  },
  {
   "metadata": {
    "id": "acd0ea57630cad83"
   },
   "cell_type": "markdown",
   "source": [
    "Finally, we create our data loaders.\n",
    "\n",
    "Shuffling of data makes training more stable and potentially improves the final performance of the model, however only needs to be done on the training set."
   ],
   "id": "acd0ea57630cad83"
  },
  {
   "metadata": {
    "id": "9790cdc191017a0b",
    "executionInfo": {
     "status": "ok",
     "timestamp": 1722861560936,
     "user_tz": -120,
     "elapsed": 7,
     "user": {
      "displayName": "Polina Danilovskaia",
      "userId": "10456728383422716320"
     }
    }
   },
   "cell_type": "code",
   "outputs": [],
   "execution_count": 9,
   "source": [
    "batch_size = 256\n",
    "pad_index = 0\n",
    "\n",
    "train_data_loader = get_data_loader(train_data, batch_size, pad_index, shuffle=True)\n",
    "dev_data_loader = get_data_loader(dev_data, batch_size, pad_index)\n",
    "test_data_loader = get_data_loader(test_data, batch_size, pad_index)"
   ],
   "id": "9790cdc191017a0b"
  },
  {
   "metadata": {
    "id": "b452bafe84aa74b0"
   },
   "cell_type": "markdown",
   "source": "### Building  a model",
   "id": "b452bafe84aa74b0"
  },
  {
   "metadata": {
    "id": "333d2c5448e31110",
    "executionInfo": {
     "status": "ok",
     "timestamp": 1722861560937,
     "user_tz": -120,
     "elapsed": 8,
     "user": {
      "displayName": "Polina Danilovskaia",
      "userId": "10456728383422716320"
     }
    }
   },
   "cell_type": "code",
   "outputs": [],
   "execution_count": 10,
   "source": [
    "class Encoder(nn.Module):\n",
    "    def __init__(self, input_dim, embedding_dim, hidden_dim, n_layers, dropout):\n",
    "        super().__init__()\n",
    "        self.hidden_dim = hidden_dim\n",
    "        self.n_layers = n_layers\n",
    "        self.embedding = nn.Embedding(input_dim, embedding_dim)\n",
    "        self.rnn = nn.LSTM(embedding_dim, hidden_dim, n_layers, dropout=dropout)\n",
    "        self.dropout = nn.Dropout(dropout)\n",
    "\n",
    "    def forward(self, src):\n",
    "        # src = [src length, batch size]\n",
    "        embedded = self.dropout(self.embedding(src))\n",
    "        # embedded = [src length, batch size, embedding dim]\n",
    "        outputs, (hidden, cell) = self.rnn(embedded)\n",
    "        # outputs = [src length, batch size, hidden dim * n directions]\n",
    "        # hidden = [n layers * n directions, batch size, hidden dim]\n",
    "        # cell = [n layers * n directions, batch size, hidden dim]\n",
    "        # outputs are always from the top hidden layer\n",
    "        return hidden, cell"
   ],
   "id": "333d2c5448e31110"
  },
  {
   "metadata": {
    "id": "cbd807ef8a026cae",
    "executionInfo": {
     "status": "ok",
     "timestamp": 1722861560937,
     "user_tz": -120,
     "elapsed": 8,
     "user": {
      "displayName": "Polina Danilovskaia",
      "userId": "10456728383422716320"
     }
    }
   },
   "cell_type": "code",
   "outputs": [],
   "execution_count": 11,
   "source": [
    "class Decoder(nn.Module):\n",
    "    def __init__(self, output_dim, embedding_dim, hidden_dim, n_layers, dropout):\n",
    "        super().__init__()\n",
    "        self.output_dim = output_dim\n",
    "        self.hidden_dim = hidden_dim\n",
    "        self.n_layers = n_layers\n",
    "        self.embedding = nn.Embedding(output_dim, embedding_dim)\n",
    "        self.rnn = nn.LSTM(embedding_dim, hidden_dim, n_layers, dropout=dropout)\n",
    "        self.fc_out = nn.Linear(hidden_dim, output_dim)\n",
    "        self.dropout = nn.Dropout(dropout)\n",
    "\n",
    "    def forward(self, input, hidden, cell):\n",
    "        # input = [batch size]\n",
    "        # hidden = [n layers * n directions, batch size, hidden dim]\n",
    "        # cell = [n layers * n directions, batch size, hidden dim]\n",
    "        # n directions in the decoder will both always be 1, therefore:\n",
    "        # hidden = [n layers, batch size, hidden dim]\n",
    "        # context = [n layers, batch size, hidden dim]\n",
    "        input = input.unsqueeze(0)\n",
    "        # input = [1, batch size]\n",
    "        embedded = self.dropout(self.embedding(input))\n",
    "        # embedded = [1, batch size, embedding dim]\n",
    "        output, (hidden, cell) = self.rnn(embedded, (hidden, cell))\n",
    "        # output = [seq length, batch size, hidden dim * n directions]\n",
    "        # hidden = [n layers * n directions, batch size, hidden dim]\n",
    "        # cell = [n layers * n directions, batch size, hidden dim]\n",
    "        # seq length and n directions will always be 1 in this decoder, therefore:\n",
    "        # output = [1, batch size, hidden dim]\n",
    "        # hidden = [n layers, batch size, hidden dim]\n",
    "        # cell = [n layers, batch size, hidden dim]\n",
    "        prediction = self.fc_out(output.squeeze(0))\n",
    "        # prediction = [batch size, output dim]\n",
    "        return prediction, hidden, cell"
   ],
   "id": "cbd807ef8a026cae"
  },
  {
   "metadata": {
    "id": "94f8f70283fdfb6b",
    "executionInfo": {
     "status": "ok",
     "timestamp": 1722861560937,
     "user_tz": -120,
     "elapsed": 7,
     "user": {
      "displayName": "Polina Danilovskaia",
      "userId": "10456728383422716320"
     }
    }
   },
   "cell_type": "code",
   "outputs": [],
   "execution_count": 12,
   "source": [
    "class Seq2Seq(nn.Module):\n",
    "    def __init__(self, encoder, decoder, device):\n",
    "        super().__init__()\n",
    "        self.encoder = encoder\n",
    "        self.decoder = decoder\n",
    "        self.device = device\n",
    "        assert (\n",
    "            encoder.hidden_dim == decoder.hidden_dim\n",
    "        ), \"Hidden dimensions of encoder and decoder must be equal!\"\n",
    "        assert (\n",
    "            encoder.n_layers == decoder.n_layers\n",
    "        ), \"Encoder and decoder must have equal number of layers!\"\n",
    "\n",
    "    def forward(self, src, tgt, teacher_forcing_ratio):\n",
    "        # src = [src length, batch size]\n",
    "        # tgt = [tgt length, batch size]\n",
    "        # teacher_forcing_ratio is probability to use teacher forcing\n",
    "        # e.g. if teacher_forcing_ratio is 0.75 we use ground-truth inputs 75% of the time\n",
    "        batch_size = tgt.shape[1]\n",
    "        tgt_length = tgt.shape[0]\n",
    "        tgt_vocab_size = self.decoder.output_dim\n",
    "        # tensor to store decoder outputs\n",
    "        outputs = torch.zeros(tgt_length, batch_size, tgt_vocab_size).to(self.device)\n",
    "        # last hidden state of the encoder is used as the initial hidden state of the decoder\n",
    "        hidden, cell = self.encoder(src)\n",
    "        # hidden = [n layers * n directions, batch size, hidden dim]\n",
    "        # cell = [n layers * n directions, batch size, hidden dim]\n",
    "        # first input to the decoder is the <sos> tokens\n",
    "        input = tgt[0, :]\n",
    "        # input = [batch size]\n",
    "        for t in range(1, tgt_length):\n",
    "            # insert input token embedding, previous hidden and previous cell states\n",
    "            # receive output tensor (predictions) and new hidden and cell states\n",
    "            output, hidden, cell = self.decoder(input, hidden, cell)\n",
    "            # output = [batch size, output dim]\n",
    "            # hidden = [n layers, batch size, hidden dim]\n",
    "            # cell = [n layers, batch size, hidden dim]\n",
    "            # place predictions in a tensor holding predictions for each token\n",
    "            outputs[t] = output\n",
    "            # decide if we are going to use teacher forcing or not\n",
    "            teacher_force = random.random() < teacher_forcing_ratio\n",
    "            # get the highest predicted token from our predictions\n",
    "            top1 = output.argmax(1)\n",
    "            # if teacher forcing, use actual next token as next input\n",
    "            # if not, use predicted token\n",
    "            input = tgt[t] if teacher_force else top1\n",
    "            # input = [batch size]\n",
    "        return outputs"
   ],
   "id": "94f8f70283fdfb6b"
  },
  {
   "metadata": {},
   "cell_type": "markdown",
   "source": "Setting up the model",
   "id": "9ba7469a52d293fc"
  },
  {
   "metadata": {
    "id": "6aeb28606ff0c91d",
    "executionInfo": {
     "status": "ok",
     "timestamp": 1722861561987,
     "user_tz": -120,
     "elapsed": 1057,
     "user": {
      "displayName": "Polina Danilovskaia",
      "userId": "10456728383422716320"
     }
    }
   },
   "cell_type": "code",
   "outputs": [],
   "execution_count": 13,
   "source": [
    "input_dim = sp.get_piece_size()\n",
    "output_dim = sp.get_piece_size()\n",
    "encoder_embedding_dim = 256\n",
    "decoder_embedding_dim = 256\n",
    "hidden_dim = 512\n",
    "n_layers = 4\n",
    "encoder_dropout = 0.3\n",
    "decoder_dropout = 0.3\n",
    "torch.cuda.empty_cache()\n",
    "device = torch.device(\"cuda\" if torch.cuda.is_available() else \"cpu\")\n",
    "\n",
    "encoder = Encoder(\n",
    "    input_dim,\n",
    "    encoder_embedding_dim,\n",
    "    hidden_dim,\n",
    "    n_layers,\n",
    "    encoder_dropout,\n",
    ")\n",
    "\n",
    "decoder = Decoder(\n",
    "    output_dim,\n",
    "    decoder_embedding_dim,\n",
    "    hidden_dim,\n",
    "    n_layers,\n",
    "    decoder_dropout,\n",
    ")\n",
    "\n",
    "model = Seq2Seq(encoder, decoder, device).to(device)"
   ],
   "id": "6aeb28606ff0c91d"
  },
  {
   "metadata": {
    "colab": {
     "base_uri": "https://localhost:8080/"
    },
    "id": "55d985b695967ac3",
    "executionInfo": {
     "status": "ok",
     "timestamp": 1722861561988,
     "user_tz": -120,
     "elapsed": 15,
     "user": {
      "displayName": "Polina Danilovskaia",
      "userId": "10456728383422716320"
     }
    },
    "outputId": "dcc07767-49dd-45ac-eae7-2357a8a8002a"
   },
   "cell_type": "code",
   "outputs": [
    {
     "output_type": "execute_result",
     "data": {
      "text/plain": [
       "Seq2Seq(\n",
       "  (encoder): Encoder(\n",
       "    (embedding): Embedding(8000, 256)\n",
       "    (rnn): LSTM(256, 512, num_layers=4, dropout=0.3)\n",
       "    (dropout): Dropout(p=0.3, inplace=False)\n",
       "  )\n",
       "  (decoder): Decoder(\n",
       "    (embedding): Embedding(8000, 256)\n",
       "    (rnn): LSTM(256, 512, num_layers=4, dropout=0.3)\n",
       "    (fc_out): Linear(in_features=512, out_features=8000, bias=True)\n",
       "    (dropout): Dropout(p=0.3, inplace=False)\n",
       "  )\n",
       ")"
      ]
     },
     "metadata": {},
     "execution_count": 14
    }
   ],
   "execution_count": 14,
   "source": [
    "def init_weights(m):\n",
    "    for name, param in m.named_parameters():\n",
    "        nn.init.uniform_(param.data, -0.08, 0.08)\n",
    "\n",
    "\n",
    "model.apply(init_weights)"
   ],
   "id": "55d985b695967ac3"
  },
  {
   "metadata": {
    "colab": {
     "base_uri": "https://localhost:8080/"
    },
    "id": "13ae498d465b850d",
    "executionInfo": {
     "status": "ok",
     "timestamp": 1722861561988,
     "user_tz": -120,
     "elapsed": 10,
     "user": {
      "displayName": "Polina Danilovskaia",
      "userId": "10456728383422716320"
     }
    },
    "outputId": "aafdf00f-d3cf-4773-b08c-93ee4225e3dd"
   },
   "cell_type": "code",
   "outputs": [
    {
     "output_type": "stream",
     "name": "stdout",
     "text": [
      "The model has 23,961,408 trainable parameters\n"
     ]
    }
   ],
   "execution_count": 15,
   "source": [
    "def count_parameters(model):\n",
    "    return sum(p.numel() for p in model.parameters() if p.requires_grad)\n",
    "\n",
    "\n",
    "print(f\"The model has {count_parameters(model):,} trainable parameters\")"
   ],
   "id": "13ae498d465b850d"
  },
  {
   "metadata": {
    "id": "a4262b5d61db250",
    "executionInfo": {
     "status": "ok",
     "timestamp": 1722861562558,
     "user_tz": -120,
     "elapsed": 576,
     "user": {
      "displayName": "Polina Danilovskaia",
      "userId": "10456728383422716320"
     }
    }
   },
   "cell_type": "code",
   "outputs": [],
   "execution_count": 16,
   "source": [
    "import torch.optim as optim\n",
    "optimizer = optim.Adam(model.parameters())"
   ],
   "id": "a4262b5d61db250"
  },
  {
   "metadata": {
    "id": "16716a9bb375c138",
    "executionInfo": {
     "status": "ok",
     "timestamp": 1722861562559,
     "user_tz": -120,
     "elapsed": 8,
     "user": {
      "displayName": "Polina Danilovskaia",
      "userId": "10456728383422716320"
     }
    }
   },
   "cell_type": "code",
   "outputs": [],
   "execution_count": 17,
   "source": [
    "import torch.nn as nn\n",
    "criterion = nn.CrossEntropyLoss(ignore_index=pad_index)"
   ],
   "id": "16716a9bb375c138"
  },
  {
   "metadata": {
    "id": "33656d484447460f",
    "executionInfo": {
     "status": "ok",
     "timestamp": 1722861562559,
     "user_tz": -120,
     "elapsed": 8,
     "user": {
      "displayName": "Polina Danilovskaia",
      "userId": "10456728383422716320"
     }
    }
   },
   "cell_type": "code",
   "outputs": [],
   "execution_count": 18,
   "source": [
    "def train_fn(\n",
    "    model, data_loader, optimizer, criterion, clip, teacher_forcing_ratio, device\n",
    "):\n",
    "    model.train()\n",
    "    epoch_loss = 0\n",
    "    for i, batch in enumerate(data_loader):\n",
    "        src = batch[\"src_ids\"].to(device)\n",
    "        tgt = batch[\"tgt_ids\"].to(device)\n",
    "        # src = [src length, batch size]\n",
    "        # tgt = [tgt length, batch size]\n",
    "        optimizer.zero_grad()\n",
    "        output = model(src, tgt, teacher_forcing_ratio)\n",
    "        # output = [tgt length, batch size, tgt vocab size]\n",
    "        output_dim = output.shape[-1]\n",
    "        output = output[1:].view(-1, output_dim)\n",
    "        # output = [(tgt length - 1) * batch size, tgt vocab size]\n",
    "        tgt = tgt[1:].view(-1)\n",
    "        # tgt = [(tgt length - 1) * batch size]\n",
    "        loss = criterion(output, tgt)\n",
    "        loss.backward()\n",
    "        torch.nn.utils.clip_grad_norm_(model.parameters(), clip)\n",
    "        optimizer.step()\n",
    "        epoch_loss += loss.item()\n",
    "    return epoch_loss / len(data_loader)"
   ],
   "id": "33656d484447460f"
  },
  {
   "metadata": {
    "id": "d808dc880d30b239",
    "executionInfo": {
     "status": "ok",
     "timestamp": 1722861562559,
     "user_tz": -120,
     "elapsed": 7,
     "user": {
      "displayName": "Polina Danilovskaia",
      "userId": "10456728383422716320"
     }
    }
   },
   "cell_type": "code",
   "outputs": [],
   "execution_count": 19,
   "source": [
    "def evaluate_fn(model, data_loader, criterion, device):\n",
    "    model.eval()\n",
    "    epoch_loss = 0\n",
    "    with torch.no_grad():\n",
    "        for i, batch in enumerate(data_loader):\n",
    "            src = batch[\"src_ids\"].to(device)\n",
    "            tgt = batch[\"tgt_ids\"].to(device)\n",
    "            # src = [src length, batch size]\n",
    "            # tgt = [tgt length, batch size]\n",
    "            output = model(src, tgt, 0)  # turn off teacher forcing\n",
    "            # output = [tgt length, batch size, tgt vocab size]\n",
    "            output_dim = output.shape[-1]\n",
    "            output = output[1:].view(-1, output_dim)\n",
    "            # output = [(tgt length - 1) * batch size, tgt vocab size]\n",
    "            tgt = tgt[1:].view(-1)\n",
    "            # tgt = [(tgt length - 1) * batch size]\n",
    "            loss = criterion(output, tgt)\n",
    "            epoch_loss += loss.item()\n",
    "    return epoch_loss / len(data_loader)"
   ],
   "id": "d808dc880d30b239"
  },
  {
   "metadata": {
    "colab": {
     "base_uri": "https://localhost:8080/"
    },
    "id": "10b0d46e3397edb4",
    "outputId": "58c021b9-e4a8-4f1f-bb63-975557f0c7e0",
    "executionInfo": {
     "status": "ok",
     "timestamp": 1722867199184,
     "user_tz": -120,
     "elapsed": 5636632,
     "user": {
      "displayName": "Polina Danilovskaia",
      "userId": "10456728383422716320"
     }
    }
   },
   "cell_type": "code",
   "outputs": [
    {
     "output_type": "stream",
     "name": "stderr",
     "text": [
      "  4%|▍         | 1/25 [03:49<1:31:54, 229.78s/it]"
     ]
    },
    {
     "output_type": "stream",
     "name": "stdout",
     "text": [
      "\tTrain Loss:   6.474 | Train PPL: 648.318\n",
      "\tValid Loss:   6.333 | Valid PPL: 562.875\n"
     ]
    },
    {
     "output_type": "stream",
     "name": "stderr",
     "text": [
      "\r  8%|▊         | 2/25 [07:36<1:27:20, 227.86s/it]"
     ]
    },
    {
     "output_type": "stream",
     "name": "stdout",
     "text": [
      "\tTrain Loss:   6.322 | Train PPL: 556.862\n",
      "\tValid Loss:   6.322 | Valid PPL: 556.520\n"
     ]
    },
    {
     "output_type": "stream",
     "name": "stderr",
     "text": [
      "\r 12%|█▏        | 3/25 [11:19<1:22:47, 225.79s/it]"
     ]
    },
    {
     "output_type": "stream",
     "name": "stdout",
     "text": [
      "\tTrain Loss:   6.156 | Train PPL: 471.426\n",
      "\tValid Loss:   6.228 | Valid PPL: 506.957\n"
     ]
    },
    {
     "output_type": "stream",
     "name": "stderr",
     "text": [
      "\r 16%|█▌        | 4/25 [15:03<1:18:47, 225.11s/it]"
     ]
    },
    {
     "output_type": "stream",
     "name": "stdout",
     "text": [
      "\tTrain Loss:   5.718 | Train PPL: 304.441\n",
      "\tValid Loss:   5.957 | Valid PPL: 386.263\n"
     ]
    },
    {
     "output_type": "stream",
     "name": "stderr",
     "text": [
      "\r 20%|██        | 5/25 [18:51<1:15:23, 226.16s/it]"
     ]
    },
    {
     "output_type": "stream",
     "name": "stdout",
     "text": [
      "\tTrain Loss:   5.459 | Train PPL: 234.787\n",
      "\tValid Loss:   5.829 | Valid PPL: 340.123\n"
     ]
    },
    {
     "output_type": "stream",
     "name": "stderr",
     "text": [
      "\r 24%|██▍       | 6/25 [22:31<1:10:56, 224.03s/it]"
     ]
    },
    {
     "output_type": "stream",
     "name": "stdout",
     "text": [
      "\tTrain Loss:   5.285 | Train PPL: 197.337\n",
      "\tValid Loss:   5.706 | Valid PPL: 300.664\n"
     ]
    },
    {
     "output_type": "stream",
     "name": "stderr",
     "text": [
      "\r 28%|██▊       | 7/25 [26:15<1:07:09, 223.89s/it]"
     ]
    },
    {
     "output_type": "stream",
     "name": "stdout",
     "text": [
      "\tTrain Loss:   5.144 | Train PPL: 171.478\n",
      "\tValid Loss:   5.595 | Valid PPL: 269.111\n"
     ]
    },
    {
     "output_type": "stream",
     "name": "stderr",
     "text": [
      "\r 32%|███▏      | 8/25 [30:00<1:03:33, 224.32s/it]"
     ]
    },
    {
     "output_type": "stream",
     "name": "stdout",
     "text": [
      "\tTrain Loss:   5.008 | Train PPL: 149.665\n",
      "\tValid Loss:   5.549 | Valid PPL: 256.867\n"
     ]
    },
    {
     "output_type": "stream",
     "name": "stderr",
     "text": [
      "\r 36%|███▌      | 9/25 [33:46<59:59, 224.94s/it]  "
     ]
    },
    {
     "output_type": "stream",
     "name": "stdout",
     "text": [
      "\tTrain Loss:   4.897 | Train PPL: 133.925\n",
      "\tValid Loss:   5.457 | Valid PPL: 234.343\n"
     ]
    },
    {
     "output_type": "stream",
     "name": "stderr",
     "text": [
      "\r 40%|████      | 10/25 [37:32<56:18, 225.24s/it]"
     ]
    },
    {
     "output_type": "stream",
     "name": "stdout",
     "text": [
      "\tTrain Loss:   4.802 | Train PPL: 121.785\n",
      "\tValid Loss:   5.359 | Valid PPL: 212.556\n"
     ]
    },
    {
     "output_type": "stream",
     "name": "stderr",
     "text": [
      "\r 44%|████▍     | 11/25 [41:17<52:29, 224.99s/it]"
     ]
    },
    {
     "output_type": "stream",
     "name": "stdout",
     "text": [
      "\tTrain Loss:   4.714 | Train PPL: 111.529\n",
      "\tValid Loss:   5.317 | Valid PPL: 203.760\n"
     ]
    },
    {
     "output_type": "stream",
     "name": "stderr",
     "text": [
      "\r 48%|████▊     | 12/25 [45:00<48:37, 224.46s/it]"
     ]
    },
    {
     "output_type": "stream",
     "name": "stdout",
     "text": [
      "\tTrain Loss:   4.614 | Train PPL: 100.841\n",
      "\tValid Loss:   5.315 | Valid PPL: 203.273\n"
     ]
    },
    {
     "output_type": "stream",
     "name": "stderr",
     "text": [
      "\r 52%|█████▏    | 13/25 [48:44<44:54, 224.51s/it]"
     ]
    },
    {
     "output_type": "stream",
     "name": "stdout",
     "text": [
      "\tTrain Loss:   4.541 | Train PPL:  93.801\n",
      "\tValid Loss:   5.242 | Valid PPL: 189.035\n"
     ]
    },
    {
     "output_type": "stream",
     "name": "stderr",
     "text": [
      "\r 56%|█████▌    | 14/25 [52:30<41:14, 224.95s/it]"
     ]
    },
    {
     "output_type": "stream",
     "name": "stdout",
     "text": [
      "\tTrain Loss:   4.473 | Train PPL:  87.576\n",
      "\tValid Loss:   5.172 | Valid PPL: 176.342\n"
     ]
    },
    {
     "output_type": "stream",
     "name": "stderr",
     "text": [
      "\r 60%|██████    | 15/25 [56:16<37:32, 225.28s/it]"
     ]
    },
    {
     "output_type": "stream",
     "name": "stdout",
     "text": [
      "\tTrain Loss:   4.399 | Train PPL:  81.394\n",
      "\tValid Loss:   5.183 | Valid PPL: 178.215\n"
     ]
    },
    {
     "output_type": "stream",
     "name": "stderr",
     "text": [
      "\r 64%|██████▍   | 16/25 [1:00:04<33:52, 225.83s/it]"
     ]
    },
    {
     "output_type": "stream",
     "name": "stdout",
     "text": [
      "\tTrain Loss:   4.341 | Train PPL:  76.770\n",
      "\tValid Loss:   5.104 | Valid PPL: 164.644\n"
     ]
    },
    {
     "output_type": "stream",
     "name": "stderr",
     "text": [
      "\r 68%|██████▊   | 17/25 [1:03:50<30:08, 226.08s/it]"
     ]
    },
    {
     "output_type": "stream",
     "name": "stdout",
     "text": [
      "\tTrain Loss:   4.270 | Train PPL:  71.487\n",
      "\tValid Loss:   5.078 | Valid PPL: 160.504\n"
     ]
    },
    {
     "output_type": "stream",
     "name": "stderr",
     "text": [
      "\r 72%|███████▏  | 18/25 [1:07:41<26:32, 227.51s/it]"
     ]
    },
    {
     "output_type": "stream",
     "name": "stdout",
     "text": [
      "\tTrain Loss:   4.211 | Train PPL:  67.402\n",
      "\tValid Loss:   5.064 | Valid PPL: 158.159\n"
     ]
    },
    {
     "output_type": "stream",
     "name": "stderr",
     "text": [
      "\r 76%|███████▌  | 19/25 [1:11:23<22:35, 225.91s/it]"
     ]
    },
    {
     "output_type": "stream",
     "name": "stdout",
     "text": [
      "\tTrain Loss:   4.143 | Train PPL:  63.021\n",
      "\tValid Loss:   5.053 | Valid PPL: 156.420\n"
     ]
    },
    {
     "output_type": "stream",
     "name": "stderr",
     "text": [
      "\r 80%|████████  | 20/25 [1:15:05<18:43, 224.68s/it]"
     ]
    },
    {
     "output_type": "stream",
     "name": "stdout",
     "text": [
      "\tTrain Loss:   4.085 | Train PPL:  59.421\n",
      "\tValid Loss:   5.069 | Valid PPL: 158.939\n"
     ]
    },
    {
     "output_type": "stream",
     "name": "stderr",
     "text": [
      "\r 84%|████████▍ | 21/25 [1:18:51<15:00, 225.15s/it]"
     ]
    },
    {
     "output_type": "stream",
     "name": "stdout",
     "text": [
      "\tTrain Loss:   4.036 | Train PPL:  56.581\n",
      "\tValid Loss:   5.009 | Valid PPL: 149.797\n"
     ]
    },
    {
     "output_type": "stream",
     "name": "stderr",
     "text": [
      "\r 88%|████████▊ | 22/25 [1:22:35<11:13, 224.64s/it]"
     ]
    },
    {
     "output_type": "stream",
     "name": "stdout",
     "text": [
      "\tTrain Loss:   3.977 | Train PPL:  53.373\n",
      "\tValid Loss:   4.980 | Valid PPL: 145.415\n"
     ]
    },
    {
     "output_type": "stream",
     "name": "stderr",
     "text": [
      "\r 92%|█████████▏| 23/25 [1:26:19<07:29, 224.58s/it]"
     ]
    },
    {
     "output_type": "stream",
     "name": "stdout",
     "text": [
      "\tTrain Loss:   3.900 | Train PPL:  49.389\n",
      "\tValid Loss:   4.980 | Valid PPL: 145.545\n"
     ]
    },
    {
     "output_type": "stream",
     "name": "stderr",
     "text": [
      "\r 96%|█████████▌| 24/25 [1:30:07<03:45, 225.46s/it]"
     ]
    },
    {
     "output_type": "stream",
     "name": "stdout",
     "text": [
      "\tTrain Loss:   3.847 | Train PPL:  46.853\n",
      "\tValid Loss:   4.996 | Valid PPL: 147.759\n"
     ]
    },
    {
     "output_type": "stream",
     "name": "stderr",
     "text": [
      "100%|██████████| 25/25 [1:33:56<00:00, 225.45s/it]"
     ]
    },
    {
     "output_type": "stream",
     "name": "stdout",
     "text": [
      "\tTrain Loss:   3.807 | Train PPL:  45.034\n",
      "\tValid Loss:   4.955 | Valid PPL: 141.884\n"
     ]
    },
    {
     "output_type": "stream",
     "name": "stderr",
     "text": [
      "\n"
     ]
    }
   ],
   "execution_count": 20,
   "source": [
    "n_epochs = 25\n",
    "clip = 0.5\n",
    "teacher_forcing_ratio = 0.5\n",
    "output_model = '/content/gdrive/My Drive/Colab Notebooks/gec24/models/model4.pt'\n",
    "\n",
    "best_valid_loss = float(\"inf\")\n",
    "train_losses = []\n",
    "valid_losses = []\n",
    "\n",
    "for epoch in tqdm.tqdm(range(n_epochs)):\n",
    "    train_loss = train_fn(\n",
    "        model,\n",
    "        train_data_loader,\n",
    "        optimizer,\n",
    "        criterion,\n",
    "        clip,\n",
    "        teacher_forcing_ratio,\n",
    "        device,\n",
    "    )\n",
    "    valid_loss = evaluate_fn(\n",
    "        model,\n",
    "        dev_data_loader,\n",
    "        criterion,\n",
    "        device,\n",
    "    )\n",
    "\n",
    "    train_losses.append(train_loss)\n",
    "    valid_losses.append(valid_loss)\n",
    "\n",
    "    if valid_loss < best_valid_loss:\n",
    "        best_valid_loss = valid_loss\n",
    "        torch.save(model.state_dict(), output_model)\n",
    "    print(f\"\\tTrain Loss: {train_loss:7.3f} | Train PPL: {np.exp(train_loss):7.3f}\")\n",
    "    print(f\"\\tValid Loss: {valid_loss:7.3f} | Valid PPL: {np.exp(valid_loss):7.3f}\")"
   ],
   "id": "10b0d46e3397edb4"
  },
  {
   "metadata": {},
   "cell_type": "markdown",
   "source": "Visualizing the training:",
   "id": "b45e1c236b38fb9"
  },
  {
   "metadata": {
    "id": "1e61bd3aa73c9b5b",
    "colab": {
     "base_uri": "https://localhost:8080/",
     "height": 436
    },
    "executionInfo": {
     "status": "ok",
     "timestamp": 1722867199185,
     "user_tz": -120,
     "elapsed": 49,
     "user": {
      "displayName": "Polina Danilovskaia",
      "userId": "10456728383422716320"
     }
    },
    "outputId": "3902e045-c981-41fb-8a36-fc4db6675e71"
   },
   "cell_type": "code",
   "outputs": [
    {
     "output_type": "display_data",
     "data": {
      "text/plain": [
       "<Figure size 1000x500 with 1 Axes>"
      ],
      "image/png": "[encoded data removed]"
     },
     "metadata": {}
    }
   ],
   "execution_count": 21,
   "source": [
    "plt.figure(figsize=(10, 5))\n",
    "plt.plot(train_losses, label='Train Loss')\n",
    "plt.plot(valid_losses, label='Validation Loss')\n",
    "plt.xlabel('Epochs')\n",
    "plt.ylabel('Loss')\n",
    "plt.title('Training and Validation Loss')\n",
    "plt.legend()\n",
    "plt.show()"
   ],
   "id": "1e61bd3aa73c9b5b"
  },
  {
   "metadata": {},
   "cell_type": "markdown",
   "source": "Computing test loss:",
   "id": "817e98031158ddef"
  },
  {
   "metadata": {
    "id": "efdcd1a03e480ad8",
    "colab": {
     "base_uri": "https://localhost:8080/"
    },
    "executionInfo": {
     "status": "ok",
     "timestamp": 1722867201660,
     "user_tz": -120,
     "elapsed": 2502,
     "user": {
      "displayName": "Polina Danilovskaia",
      "userId": "10456728383422716320"
     }
    },
    "outputId": "4af9f721-fb66-454e-cb4d-75953ccd1bfa"
   },
   "cell_type": "code",
   "outputs": [
    {
     "output_type": "stream",
     "name": "stdout",
     "text": [
      "| Test Loss: 5.759 | Test PPL: 317.014 |\n"
     ]
    }
   ],
   "execution_count": 22,
   "source": [
    "model.load_state_dict(torch.load(output_model))\n",
    "\n",
    "test_loss = evaluate_fn(model, test_data_loader, criterion, device)\n",
    "\n",
    "print(f\"| Test Loss: {test_loss:.3f} | Test PPL: {np.exp(test_loss):7.3f} |\")"
   ],
   "id": "efdcd1a03e480ad8"
  },
  {
   "metadata": {},
   "cell_type": "markdown",
   "source": "At last, we can see how our model makes corrections to three sentences in practice.",
   "id": "d79d7f244785d8c8"
  },
  {
   "cell_type": "code",
   "source": [
    "def correct_sentence(\n",
    "    sentence,\n",
    "    model,\n",
    "    sp,\n",
    "    sos_token,\n",
    "    eos_token,\n",
    "    device,\n",
    "    max_output_length=25,\n",
    "):\n",
    "    model.eval()\n",
    "    with torch.no_grad():\n",
    "        # Tokenize sentence with SentencePiece\n",
    "        tokens = sp.encode_as_pieces(sentence)\n",
    "        tokens = [sos_token] + tokens + [eos_token]  # Add SOS and EOS tokens\n",
    "\n",
    "        # Encode tokens to get IDs\n",
    "        ids = sp.encode_as_ids(sentence)\n",
    "        tensor = torch.LongTensor(ids).unsqueeze(-1).to(device)\n",
    "\n",
    "        hidden, cell = model.encoder(tensor)\n",
    "\n",
    "        inputs = [sp.bos_id()]  # Use BOS token ID\n",
    "        for _ in range(max_output_length):\n",
    "            inputs_tensor = torch.LongTensor([inputs[-1]]).to(device)\n",
    "            output, hidden, cell = model.decoder(inputs_tensor, hidden, cell)\n",
    "            predicted_token_id = output.argmax(-1).item()\n",
    "            inputs.append(predicted_token_id)\n",
    "            if predicted_token_id == sp.eos_id():\n",
    "                break\n",
    "\n",
    "        # Decode predicted token IDs to tokens\n",
    "        predicted_tokens = sp.decode_ids(inputs)\n",
    "\n",
    "    return predicted_tokens"
   ],
   "metadata": {
    "id": "3eWS_vbeBMjB",
    "executionInfo": {
     "status": "ok",
     "timestamp": 1722867201660,
     "user_tz": -120,
     "elapsed": 23,
     "user": {
      "displayName": "Polina Danilovskaia",
      "userId": "10456728383422716320"
     }
    }
   },
   "id": "3eWS_vbeBMjB",
   "execution_count": 23,
   "outputs": []
  },
  {
   "metadata": {},
   "cell_type": "markdown",
   "source": "First example",
   "id": "f7757c72c2f7e418"
  },
  {
   "cell_type": "code",
   "source": [
    "sentence = test_data[17][\"src\"]\n",
    "expected_correction = test_data[17][\"tgt\"]\n",
    "sentence, expected_correction"
   ],
   "metadata": {
    "id": "1dm_CfSGB50_",
    "colab": {
     "base_uri": "https://localhost:8080/"
    },
    "executionInfo": {
     "status": "ok",
     "timestamp": 1722867201660,
     "user_tz": -120,
     "elapsed": 23,
     "user": {
      "displayName": "Polina Danilovskaia",
      "userId": "10456728383422716320"
     }
    },
    "outputId": "73f48716-950c-423a-f75d-2bc32d509666"
   },
   "id": "1dm_CfSGB50_",
   "execution_count": 24,
   "outputs": [
    {
     "output_type": "execute_result",
     "data": {
      "text/plain": [
       "(\"Although such a show of strength by these works ' characters is sometimes viewed as a violent and therefore negative contribution to the otherwise insightful thought of the author , it is this conflict upon which many stories of ethnic American literature are based .\",\n",
       " \"Although such a show of strength by these works ' characters is sometimes viewed as a violent and therefore negative contribution to the otherwise insightful thought of the author , it is this conflict upon which many stories of ethnic American literature are based .\")"
      ]
     },
     "metadata": {},
     "execution_count": 24
    }
   ]
  },
  {
   "cell_type": "code",
   "source": [
    "correction = correct_sentence(\n",
    "    sentence,\n",
    "    model,\n",
    "    sp,\n",
    "    'BOS',\n",
    "    'EOS',\n",
    "    'cuda'\n",
    ")"
   ],
   "metadata": {
    "id": "IE96PTZGBepU",
    "executionInfo": {
     "status": "ok",
     "timestamp": 1722867201660,
     "user_tz": -120,
     "elapsed": 19,
     "user": {
      "displayName": "Polina Danilovskaia",
      "userId": "10456728383422716320"
     }
    }
   },
   "id": "IE96PTZGBepU",
   "execution_count": 25,
   "outputs": []
  },
  {
   "cell_type": "code",
   "source": [
    "correction"
   ],
   "metadata": {
    "id": "NMtswIM0Blu4",
    "colab": {
     "base_uri": "https://localhost:8080/",
     "height": 73
    },
    "executionInfo": {
     "status": "ok",
     "timestamp": 1722867201661,
     "user_tz": -120,
     "elapsed": 20,
     "user": {
      "displayName": "Polina Danilovskaia",
      "userId": "10456728383422716320"
     }
    },
    "outputId": "1184c750-47ff-4d1e-9529-7e015a052d27"
   },
   "id": "NMtswIM0Blu4",
   "execution_count": 26,
   "outputs": [
    {
     "output_type": "execute_result",
     "data": {
      "text/plain": [
       "'On you , you can have a a a the and , and the the , , the the , and the the the of'"
      ],
      "application/vnd.google.colaboratory.intrinsic+json": {
       "type": "string"
      }
     },
     "metadata": {},
     "execution_count": 26
    }
   ]
  },
  {
   "metadata": {},
   "cell_type": "markdown",
   "source": "Second example",
   "id": "6fed3930d80bd2c3"
  },
  {
   "cell_type": "code",
   "source": [
    "sentence = test_data[34][\"src\"]\n",
    "expected_correction = test_data[34][\"tgt\"]\n",
    "sentence, expected_correction"
   ],
   "metadata": {
    "id": "x2FzxDUnCIVt",
    "colab": {
     "base_uri": "https://localhost:8080/"
    },
    "executionInfo": {
     "status": "ok",
     "timestamp": 1722867201661,
     "user_tz": -120,
     "elapsed": 19,
     "user": {
      "displayName": "Polina Danilovskaia",
      "userId": "10456728383422716320"
     }
    },
    "outputId": "7c428333-c6eb-475c-9bd4-0ba3e6f0f7ce"
   },
   "id": "x2FzxDUnCIVt",
   "execution_count": 27,
   "outputs": [
    {
     "output_type": "execute_result",
     "data": {
      "text/plain": [
       "('On arrival they see starvation and death .',\n",
       " 'On arrival they see starvation and death .')"
      ]
     },
     "metadata": {},
     "execution_count": 27
    }
   ]
  },
  {
   "cell_type": "code",
   "source": [
    "correction = correct_sentence(\n",
    "    sentence,\n",
    "    model,\n",
    "    sp,\n",
    "    'BOS',\n",
    "    'EOS',\n",
    "    'cuda'\n",
    ")\n",
    "correction"
   ],
   "metadata": {
    "id": "_-iwHjwbCMUm",
    "colab": {
     "base_uri": "https://localhost:8080/",
     "height": 56
    },
    "executionInfo": {
     "status": "ok",
     "timestamp": 1722867201661,
     "user_tz": -120,
     "elapsed": 16,
     "user": {
      "displayName": "Polina Danilovskaia",
      "userId": "10456728383422716320"
     }
    },
    "outputId": "14600e61-7e1c-4e96-c5bc-a9c302bb8cff"
   },
   "id": "_-iwHjwbCMUm",
   "execution_count": 28,
   "outputs": [
    {
     "output_type": "execute_result",
     "data": {
      "text/plain": [
       "\"I have n't the the and and .\""
      ],
      "application/vnd.google.colaboratory.intrinsic+json": {
       "type": "string"
      }
     },
     "metadata": {},
     "execution_count": 28
    }
   ]
  },
  {
   "metadata": {},
   "cell_type": "markdown",
   "source": "Third example",
   "id": "42e253139a22836e"
  },
  {
   "cell_type": "code",
   "source": [
    "sentence = 'Two cats is catching a butterfly.'\n",
    "correction = correct_sentence(\n",
    "    sentence,\n",
    "    model,\n",
    "    sp,\n",
    "    'BOS',\n",
    "    'EOS',\n",
    "    'cuda'\n",
    ")\n",
    "correction"
   ],
   "metadata": {
    "id": "EaQYWcNqcYaM",
    "colab": {
     "base_uri": "https://localhost:8080/",
     "height": 56
    },
    "executionInfo": {
     "status": "ok",
     "timestamp": 1722867201661,
     "user_tz": -120,
     "elapsed": 15,
     "user": {
      "displayName": "Polina Danilovskaia",
      "userId": "10456728383422716320"
     }
    },
    "outputId": "20776213-7390-4287-ab18-0a6054e772b4"
   },
   "id": "EaQYWcNqcYaM",
   "execution_count": 29,
   "outputs": [
    {
     "output_type": "execute_result",
     "data": {
      "text/plain": [
       "'It pain of the the . .'"
      ],
      "application/vnd.google.colaboratory.intrinsic+json": {
       "type": "string"
      }
     },
     "metadata": {},
     "execution_count": 29
    }
   ]
  }
 ],
 "metadata": {
  "kernelspec": {
   "display_name": "Python 3",
   "name": "python3"
  },
  "language_info": {
   "codemirror_mode": {
    "name": "ipython",
    "version": 2
   },
   "file_extension": ".py",
   "mimetype": "text/x-python",
   "name": "python",
   "nbconvert_exporter": "python",
   "pygments_lexer": "ipython2",
   "version": "2.7.6"
  },
  "colab": {
   "provenance": [],
   "gpuType": "L4"
  },
  "accelerator": "GPU"
 },
 "nbformat": 4,
 "nbformat_minor": 5
}
