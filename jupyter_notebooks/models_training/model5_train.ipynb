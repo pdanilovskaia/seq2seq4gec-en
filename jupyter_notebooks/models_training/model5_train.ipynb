{
 "cells": [
  {
   "metadata": {
    "id": "1cfec7ae913db671"
   },
   "cell_type": "markdown",
   "source": [
    "## Seq2Seq Model\n",
    "\n",
    "In this notebook, we finally construct our an encoder-decoder model for Grammatical Error Correction, modifying the hyperparameters, visualising the training and validation processes, and examining a selection of examples from the test data.\n",
    "\n",
    " The following notebook was developed based on the teaching unit at the University of Potsdam of Meng Li, which in turn was inspired by  [Ben Trevett's Seq2seq tutorial](https://github.com/bentrevett/pytorch-seq2seq/). "
   ],
   "id": "1cfec7ae913db671"
  },
  {
   "cell_type": "code",
   "source": [
    "from google.colab import drive\n",
    "drive.mount('/content/gdrive')"
   ],
   "metadata": {
    "colab": {
     "base_uri": "https://localhost:8080/"
    },
    "id": "Sy-rLnJCyBR7",
    "executionInfo": {
     "status": "ok",
     "timestamp": 1722862192580,
     "user_tz": -120,
     "elapsed": 2408,
     "user": {
      "displayName": "Polina Danilovskaia",
      "userId": "10456728383422716320"
     }
    },
    "outputId": "42f1d387-9cc2-46ff-bc82-1423cce64e7e"
   },
   "id": "Sy-rLnJCyBR7",
   "execution_count": 2,
   "outputs": [
    {
     "output_type": "stream",
     "name": "stdout",
     "text": [
      "Drive already mounted at /content/gdrive; to attempt to forcibly remount, call drive.mount(\"/content/gdrive\", force_remount=True).\n"
     ]
    }
   ]
  },
  {
   "cell_type": "code",
   "source": [
    "import os\n",
    "PATH = r\"/content/gdrive/My Drive/Colab Notebooks/gec24\"\n",
    "os.chdir(PATH)"
   ],
   "metadata": {
    "id": "kT-XG_oRyE7x",
    "executionInfo": {
     "status": "ok",
     "timestamp": 1722862192580,
     "user_tz": -120,
     "elapsed": 9,
     "user": {
      "displayName": "Polina Danilovskaia",
      "userId": "10456728383422716320"
     }
    }
   },
   "id": "kT-XG_oRyE7x",
   "execution_count": 3,
   "outputs": []
  },
  {
   "metadata": {
    "id": "d916dd2b9945a8a0",
    "executionInfo": {
     "status": "ok",
     "timestamp": 1722862198317,
     "user_tz": -120,
     "elapsed": 5741,
     "user": {
      "displayName": "Polina Danilovskaia",
      "userId": "10456728383422716320"
     }
    }
   },
   "cell_type": "code",
   "outputs": [],
   "execution_count": 4,
   "source": [
    "import torch\n",
    "import torch.nn as nn\n",
    "import matplotlib.pyplot as plt\n",
    "import random\n",
    "import tqdm\n",
    "import numpy as np\n",
    "import sentencepiece as spm"
   ],
   "id": "d916dd2b9945a8a0"
  },
  {
   "metadata": {
    "id": "742bb89b218ce013"
   },
   "cell_type": "markdown",
   "source": "Let's start by creating a function that will pad our sequences to the desired length.",
   "id": "742bb89b218ce013"
  },
  {
   "metadata": {
    "id": "77f82a4c70b6f8ba",
    "executionInfo": {
     "status": "ok",
     "timestamp": 1722862198317,
     "user_tz": -120,
     "elapsed": 15,
     "user": {
      "displayName": "Polina Danilovskaia",
      "userId": "10456728383422716320"
     }
    }
   },
   "cell_type": "code",
   "outputs": [],
   "execution_count": 5,
   "source": [
    "def get_collate_fn(pad_index):\n",
    "    def collate_fn(batch):\n",
    "        batch_src_ids = [example[\"src_ids\"] for example in batch]\n",
    "        batch_tgt_ids = [example[\"tgt_ids\"] for example in batch]\n",
    "        batch_src_ids = nn.utils.rnn.pad_sequence(batch_src_ids, padding_value=pad_index)\n",
    "        batch_tgt_ids = nn.utils.rnn.pad_sequence(batch_tgt_ids, padding_value=pad_index)\n",
    "        batch = {\n",
    "            \"src_ids\": batch_src_ids,\n",
    "            \"tgt_ids\": batch_tgt_ids,\n",
    "        }\n",
    "        return batch\n",
    "\n",
    "    return collate_fn"
   ],
   "id": "77f82a4c70b6f8ba"
  },
  {
   "metadata": {
    "id": "1f5ee17c9da7b060"
   },
   "cell_type": "markdown",
   "source": [
    "Next, we write the functions which give us our data loaders creating using PyTorch's DataLoader class.\n",
    "get_data_loader is created using a Dataset, the batch size, the padding token index (which is used for creating the batches in the collate_fn, and a boolean deciding if the examples should be shuffled at the time the data loader is iterated over.\n",
    "The batch size defines the maximum amount of examples within a batch. If the length of the dataset is not evenly divisible by the batch size then the last batch will be smaller."
   ],
   "id": "1f5ee17c9da7b060"
  },
  {
   "metadata": {
    "id": "68f07d33bc08875f",
    "executionInfo": {
     "status": "ok",
     "timestamp": 1722862198723,
     "user_tz": -120,
     "elapsed": 413,
     "user": {
      "displayName": "Polina Danilovskaia",
      "userId": "10456728383422716320"
     }
    }
   },
   "cell_type": "code",
   "outputs": [],
   "execution_count": 6,
   "source": [
    "def get_data_loader(dataset, batch_size, pad_index, shuffle=False):\n",
    "    collate_fn = get_collate_fn(pad_index)\n",
    "    data_loader = torch.utils.data.DataLoader(\n",
    "        dataset=dataset,\n",
    "        batch_size=batch_size,\n",
    "        collate_fn=collate_fn,\n",
    "        shuffle=shuffle,\n",
    "    )\n",
    "    return data_loader"
   ],
   "id": "68f07d33bc08875f"
  },
  {
   "metadata": {
    "id": "cdccc46c1e8cd4dc",
    "executionInfo": {
     "status": "ok",
     "timestamp": 1722862198724,
     "user_tz": -120,
     "elapsed": 10,
     "user": {
      "displayName": "Polina Danilovskaia",
      "userId": "10456728383422716320"
     }
    }
   },
   "cell_type": "code",
   "outputs": [],
   "execution_count": 7,
   "source": [
    "model_name = 'unigram_8000'"
   ],
   "id": "cdccc46c1e8cd4dc"
  },
  {
   "cell_type": "markdown",
   "source": "Loading data:",
   "metadata": {
    "id": "yv0m433yyI3Y"
   },
   "id": "yv0m433yyI3Y"
  },
  {
   "metadata": {
    "id": "552f4b859db744f8",
    "executionInfo": {
     "status": "ok",
     "timestamp": 1722862209702,
     "user_tz": -120,
     "elapsed": 10987,
     "user": {
      "displayName": "Polina Danilovskaia",
      "userId": "10456728383422716320"
     }
    }
   },
   "cell_type": "code",
   "outputs": [],
   "execution_count": 8,
   "source": [
    "train_data = torch.load(\"/content/gdrive/My Drive/Colab Notebooks/gec24/data/tokenized_data/unigram_8000_train.pt\")\n",
    "dev_data = torch.load(\"/content/gdrive/My Drive/Colab Notebooks/gec24/data/tokenized_data/unigram_8000_dev.pt\")\n",
    "test_data = torch.load(\"/content/gdrive/My Drive/Colab Notebooks/gec24/data/tokenized_data/unigram_8000_test.pt\")"
   ],
   "id": "552f4b859db744f8"
  },
  {
   "metadata": {
    "id": "80decdf60398939",
    "executionInfo": {
     "status": "ok",
     "timestamp": 1722862209995,
     "user_tz": -120,
     "elapsed": 306,
     "user": {
      "displayName": "Polina Danilovskaia",
      "userId": "10456728383422716320"
     }
    }
   },
   "cell_type": "code",
   "outputs": [],
   "execution_count": 9,
   "source": [
    "model_filename = 'tokenizer_models/' + model_name + '.model'\n",
    "sp = spm.SentencePieceProcessor(model_file=model_filename)"
   ],
   "id": "80decdf60398939"
  },
  {
   "metadata": {
    "id": "acd0ea57630cad83"
   },
   "cell_type": "markdown",
   "source": [
    "Finally, we create our data loaders.\n",
    "\n",
    "Shuffling of data makes training more stable and potentially improves the final performance of the model, however only needs to be done on the training set."
   ],
   "id": "acd0ea57630cad83"
  },
  {
   "metadata": {
    "id": "9790cdc191017a0b",
    "executionInfo": {
     "status": "ok",
     "timestamp": 1722862209996,
     "user_tz": -120,
     "elapsed": 8,
     "user": {
      "displayName": "Polina Danilovskaia",
      "userId": "10456728383422716320"
     }
    }
   },
   "cell_type": "code",
   "outputs": [],
   "execution_count": 10,
   "source": [
    "batch_size = 128\n",
    "pad_index = 0\n",
    "\n",
    "train_data_loader = get_data_loader(train_data, batch_size, pad_index, shuffle=True)\n",
    "dev_data_loader = get_data_loader(dev_data, batch_size, pad_index)\n",
    "test_data_loader = get_data_loader(test_data, batch_size, pad_index)"
   ],
   "id": "9790cdc191017a0b"
  },
  {
   "metadata": {
    "id": "b452bafe84aa74b0"
   },
   "cell_type": "markdown",
   "source": "### Building  a model",
   "id": "b452bafe84aa74b0"
  },
  {
   "metadata": {
    "id": "333d2c5448e31110",
    "executionInfo": {
     "status": "ok",
     "timestamp": 1722862209996,
     "user_tz": -120,
     "elapsed": 8,
     "user": {
      "displayName": "Polina Danilovskaia",
      "userId": "10456728383422716320"
     }
    }
   },
   "cell_type": "code",
   "outputs": [],
   "execution_count": 11,
   "source": [
    "class Encoder(nn.Module):\n",
    "    def __init__(self, input_dim, embedding_dim, hidden_dim, n_layers, dropout):\n",
    "        super().__init__()\n",
    "        self.hidden_dim = hidden_dim\n",
    "        self.n_layers = n_layers\n",
    "        self.embedding = nn.Embedding(input_dim, embedding_dim)\n",
    "        self.rnn = nn.LSTM(embedding_dim, hidden_dim, n_layers, dropout=dropout)\n",
    "        self.dropout = nn.Dropout(dropout)\n",
    "\n",
    "    def forward(self, src):\n",
    "        # src = [src length, batch size]\n",
    "        embedded = self.dropout(self.embedding(src))\n",
    "        # embedded = [src length, batch size, embedding dim]\n",
    "        outputs, (hidden, cell) = self.rnn(embedded)\n",
    "        # outputs = [src length, batch size, hidden dim * n directions]\n",
    "        # hidden = [n layers * n directions, batch size, hidden dim]\n",
    "        # cell = [n layers * n directions, batch size, hidden dim]\n",
    "        # outputs are always from the top hidden layer\n",
    "        return hidden, cell"
   ],
   "id": "333d2c5448e31110"
  },
  {
   "metadata": {
    "id": "cbd807ef8a026cae",
    "executionInfo": {
     "status": "ok",
     "timestamp": 1722862209996,
     "user_tz": -120,
     "elapsed": 7,
     "user": {
      "displayName": "Polina Danilovskaia",
      "userId": "10456728383422716320"
     }
    }
   },
   "cell_type": "code",
   "outputs": [],
   "execution_count": 12,
   "source": [
    "class Decoder(nn.Module):\n",
    "    def __init__(self, output_dim, embedding_dim, hidden_dim, n_layers, dropout):\n",
    "        super().__init__()\n",
    "        self.output_dim = output_dim\n",
    "        self.hidden_dim = hidden_dim\n",
    "        self.n_layers = n_layers\n",
    "        self.embedding = nn.Embedding(output_dim, embedding_dim)\n",
    "        self.rnn = nn.LSTM(embedding_dim, hidden_dim, n_layers, dropout=dropout)\n",
    "        self.fc_out = nn.Linear(hidden_dim, output_dim)\n",
    "        self.dropout = nn.Dropout(dropout)\n",
    "\n",
    "    def forward(self, input, hidden, cell):\n",
    "        # input = [batch size]\n",
    "        # hidden = [n layers * n directions, batch size, hidden dim]\n",
    "        # cell = [n layers * n directions, batch size, hidden dim]\n",
    "        # n directions in the decoder will both always be 1, therefore:\n",
    "        # hidden = [n layers, batch size, hidden dim]\n",
    "        # context = [n layers, batch size, hidden dim]\n",
    "        input = input.unsqueeze(0)\n",
    "        # input = [1, batch size]\n",
    "        embedded = self.dropout(self.embedding(input))\n",
    "        # embedded = [1, batch size, embedding dim]\n",
    "        output, (hidden, cell) = self.rnn(embedded, (hidden, cell))\n",
    "        # output = [seq length, batch size, hidden dim * n directions]\n",
    "        # hidden = [n layers * n directions, batch size, hidden dim]\n",
    "        # cell = [n layers * n directions, batch size, hidden dim]\n",
    "        # seq length and n directions will always be 1 in this decoder, therefore:\n",
    "        # output = [1, batch size, hidden dim]\n",
    "        # hidden = [n layers, batch size, hidden dim]\n",
    "        # cell = [n layers, batch size, hidden dim]\n",
    "        prediction = self.fc_out(output.squeeze(0))\n",
    "        # prediction = [batch size, output dim]\n",
    "        return prediction, hidden, cell"
   ],
   "id": "cbd807ef8a026cae"
  },
  {
   "metadata": {
    "id": "94f8f70283fdfb6b",
    "executionInfo": {
     "status": "ok",
     "timestamp": 1722862209996,
     "user_tz": -120,
     "elapsed": 7,
     "user": {
      "displayName": "Polina Danilovskaia",
      "userId": "10456728383422716320"
     }
    }
   },
   "cell_type": "code",
   "outputs": [],
   "execution_count": 13,
   "source": [
    "class Seq2Seq(nn.Module):\n",
    "    def __init__(self, encoder, decoder, device):\n",
    "        super().__init__()\n",
    "        self.encoder = encoder\n",
    "        self.decoder = decoder\n",
    "        self.device = device\n",
    "        assert (\n",
    "            encoder.hidden_dim == decoder.hidden_dim\n",
    "        ), \"Hidden dimensions of encoder and decoder must be equal!\"\n",
    "        assert (\n",
    "            encoder.n_layers == decoder.n_layers\n",
    "        ), \"Encoder and decoder must have equal number of layers!\"\n",
    "\n",
    "    def forward(self, src, tgt, teacher_forcing_ratio):\n",
    "        # src = [src length, batch size]\n",
    "        # tgt = [tgt length, batch size]\n",
    "        # teacher_forcing_ratio is probability to use teacher forcing\n",
    "        # e.g. if teacher_forcing_ratio is 0.75 we use ground-truth inputs 75% of the time\n",
    "        batch_size = tgt.shape[1]\n",
    "        tgt_length = tgt.shape[0]\n",
    "        tgt_vocab_size = self.decoder.output_dim\n",
    "        # tensor to store decoder outputs\n",
    "        outputs = torch.zeros(tgt_length, batch_size, tgt_vocab_size).to(self.device)\n",
    "        # last hidden state of the encoder is used as the initial hidden state of the decoder\n",
    "        hidden, cell = self.encoder(src)\n",
    "        # hidden = [n layers * n directions, batch size, hidden dim]\n",
    "        # cell = [n layers * n directions, batch size, hidden dim]\n",
    "        # first input to the decoder is the <sos> tokens\n",
    "        input = tgt[0, :]\n",
    "        # input = [batch size]\n",
    "        for t in range(1, tgt_length):\n",
    "            # insert input token embedding, previous hidden and previous cell states\n",
    "            # receive output tensor (predictions) and new hidden and cell states\n",
    "            output, hidden, cell = self.decoder(input, hidden, cell)\n",
    "            # output = [batch size, output dim]\n",
    "            # hidden = [n layers, batch size, hidden dim]\n",
    "            # cell = [n layers, batch size, hidden dim]\n",
    "            # place predictions in a tensor holding predictions for each token\n",
    "            outputs[t] = output\n",
    "            # decide if we are going to use teacher forcing or not\n",
    "            teacher_force = random.random() < teacher_forcing_ratio\n",
    "            # get the highest predicted token from our predictions\n",
    "            top1 = output.argmax(1)\n",
    "            # if teacher forcing, use actual next token as next input\n",
    "            # if not, use predicted token\n",
    "            input = tgt[t] if teacher_force else top1\n",
    "            # input = [batch size]\n",
    "        return outputs"
   ],
   "id": "94f8f70283fdfb6b"
  },
  {
   "metadata": {},
   "cell_type": "markdown",
   "source": "Setting up the model",
   "id": "d2ad51541a2fc3aa"
  },
  {
   "metadata": {
    "id": "6aeb28606ff0c91d",
    "executionInfo": {
     "status": "ok",
     "timestamp": 1722862210730,
     "user_tz": -120,
     "elapsed": 740,
     "user": {
      "displayName": "Polina Danilovskaia",
      "userId": "10456728383422716320"
     }
    }
   },
   "cell_type": "code",
   "outputs": [],
   "execution_count": 14,
   "source": [
    "input_dim = sp.get_piece_size()\n",
    "output_dim = sp.get_piece_size()\n",
    "encoder_embedding_dim = 256\n",
    "decoder_embedding_dim = 256\n",
    "hidden_dim = 512\n",
    "n_layers = 2\n",
    "encoder_dropout = 0.5\n",
    "decoder_dropout = 0.5\n",
    "torch.cuda.empty_cache()\n",
    "device = torch.device(\"cuda\" if torch.cuda.is_available() else \"cpu\")\n",
    "\n",
    "encoder = Encoder(\n",
    "    input_dim,\n",
    "    encoder_embedding_dim,\n",
    "    hidden_dim,\n",
    "    n_layers,\n",
    "    encoder_dropout,\n",
    ")\n",
    "\n",
    "decoder = Decoder(\n",
    "    output_dim,\n",
    "    decoder_embedding_dim,\n",
    "    hidden_dim,\n",
    "    n_layers,\n",
    "    decoder_dropout,\n",
    ")\n",
    "\n",
    "model = Seq2Seq(encoder, decoder, device).to(device)"
   ],
   "id": "6aeb28606ff0c91d"
  },
  {
   "metadata": {
    "colab": {
     "base_uri": "https://localhost:8080/"
    },
    "id": "55d985b695967ac3",
    "executionInfo": {
     "status": "ok",
     "timestamp": 1722862210731,
     "user_tz": -120,
     "elapsed": 20,
     "user": {
      "displayName": "Polina Danilovskaia",
      "userId": "10456728383422716320"
     }
    },
    "outputId": "2ad36b2c-842d-498c-cd59-c2e38943d011"
   },
   "cell_type": "code",
   "outputs": [
    {
     "output_type": "execute_result",
     "data": {
      "text/plain": [
       "Seq2Seq(\n",
       "  (encoder): Encoder(\n",
       "    (embedding): Embedding(8000, 256)\n",
       "    (rnn): LSTM(256, 512, num_layers=2, dropout=0.5)\n",
       "    (dropout): Dropout(p=0.5, inplace=False)\n",
       "  )\n",
       "  (decoder): Decoder(\n",
       "    (embedding): Embedding(8000, 256)\n",
       "    (rnn): LSTM(256, 512, num_layers=2, dropout=0.5)\n",
       "    (fc_out): Linear(in_features=512, out_features=8000, bias=True)\n",
       "    (dropout): Dropout(p=0.5, inplace=False)\n",
       "  )\n",
       ")"
      ]
     },
     "metadata": {},
     "execution_count": 15
    }
   ],
   "execution_count": 15,
   "source": [
    "def init_weights(m):\n",
    "    for name, param in m.named_parameters():\n",
    "        nn.init.uniform_(param.data, -0.08, 0.08)\n",
    "\n",
    "\n",
    "model.apply(init_weights)"
   ],
   "id": "55d985b695967ac3"
  },
  {
   "metadata": {
    "colab": {
     "base_uri": "https://localhost:8080/"
    },
    "id": "13ae498d465b850d",
    "executionInfo": {
     "status": "ok",
     "timestamp": 1722862210731,
     "user_tz": -120,
     "elapsed": 11,
     "user": {
      "displayName": "Polina Danilovskaia",
      "userId": "10456728383422716320"
     }
    },
    "outputId": "0ecb9a84-f2d4-484b-ce22-59309c6f7b08"
   },
   "cell_type": "code",
   "outputs": [
    {
     "output_type": "stream",
     "name": "stdout",
     "text": [
      "The model has 15,556,416 trainable parameters\n"
     ]
    }
   ],
   "execution_count": 16,
   "source": [
    "def count_parameters(model):\n",
    "    return sum(p.numel() for p in model.parameters() if p.requires_grad)\n",
    "\n",
    "\n",
    "print(f\"The model has {count_parameters(model):,} trainable parameters\")"
   ],
   "id": "13ae498d465b850d"
  },
  {
   "metadata": {
    "id": "a4262b5d61db250",
    "executionInfo": {
     "status": "ok",
     "timestamp": 1722862212601,
     "user_tz": -120,
     "elapsed": 1876,
     "user": {
      "displayName": "Polina Danilovskaia",
      "userId": "10456728383422716320"
     }
    }
   },
   "cell_type": "code",
   "outputs": [],
   "execution_count": 17,
   "source": [
    "import torch.optim as optim\n",
    "optimizer = optim.Adam(model.parameters())"
   ],
   "id": "a4262b5d61db250"
  },
  {
   "metadata": {
    "id": "16716a9bb375c138",
    "executionInfo": {
     "status": "ok",
     "timestamp": 1722862212601,
     "user_tz": -120,
     "elapsed": 22,
     "user": {
      "displayName": "Polina Danilovskaia",
      "userId": "10456728383422716320"
     }
    }
   },
   "cell_type": "code",
   "outputs": [],
   "execution_count": 18,
   "source": [
    "import torch.nn as nn\n",
    "criterion = nn.CrossEntropyLoss(ignore_index=pad_index)"
   ],
   "id": "16716a9bb375c138"
  },
  {
   "metadata": {
    "id": "33656d484447460f",
    "executionInfo": {
     "status": "ok",
     "timestamp": 1722862212601,
     "user_tz": -120,
     "elapsed": 13,
     "user": {
      "displayName": "Polina Danilovskaia",
      "userId": "10456728383422716320"
     }
    }
   },
   "cell_type": "code",
   "outputs": [],
   "execution_count": 19,
   "source": [
    "def train_fn(\n",
    "    model, data_loader, optimizer, criterion, clip, teacher_forcing_ratio, device\n",
    "):\n",
    "    model.train()\n",
    "    epoch_loss = 0\n",
    "    for i, batch in enumerate(data_loader):\n",
    "        src = batch[\"src_ids\"].to(device)\n",
    "        tgt = batch[\"tgt_ids\"].to(device)\n",
    "        # src = [src length, batch size]\n",
    "        # tgt = [tgt length, batch size]\n",
    "        optimizer.zero_grad()\n",
    "        output = model(src, tgt, teacher_forcing_ratio)\n",
    "        # output = [tgt length, batch size, tgt vocab size]\n",
    "        output_dim = output.shape[-1]\n",
    "        output = output[1:].view(-1, output_dim)\n",
    "        # output = [(tgt length - 1) * batch size, tgt vocab size]\n",
    "        tgt = tgt[1:].view(-1)\n",
    "        # tgt = [(tgt length - 1) * batch size]\n",
    "        loss = criterion(output, tgt)\n",
    "        loss.backward()\n",
    "        torch.nn.utils.clip_grad_norm_(model.parameters(), clip)\n",
    "        optimizer.step()\n",
    "        epoch_loss += loss.item()\n",
    "    return epoch_loss / len(data_loader)"
   ],
   "id": "33656d484447460f"
  },
  {
   "metadata": {
    "id": "d808dc880d30b239",
    "executionInfo": {
     "status": "ok",
     "timestamp": 1722862212601,
     "user_tz": -120,
     "elapsed": 13,
     "user": {
      "displayName": "Polina Danilovskaia",
      "userId": "10456728383422716320"
     }
    }
   },
   "cell_type": "code",
   "outputs": [],
   "execution_count": 20,
   "source": [
    "def evaluate_fn(model, data_loader, criterion, device):\n",
    "    model.eval()\n",
    "    epoch_loss = 0\n",
    "    with torch.no_grad():\n",
    "        for i, batch in enumerate(data_loader):\n",
    "            src = batch[\"src_ids\"].to(device)\n",
    "            tgt = batch[\"tgt_ids\"].to(device)\n",
    "            # src = [src length, batch size]\n",
    "            # tgt = [tgt length, batch size]\n",
    "            output = model(src, tgt, 0)  # turn off teacher forcing\n",
    "            # output = [tgt length, batch size, tgt vocab size]\n",
    "            output_dim = output.shape[-1]\n",
    "            output = output[1:].view(-1, output_dim)\n",
    "            # output = [(tgt length - 1) * batch size, tgt vocab size]\n",
    "            tgt = tgt[1:].view(-1)\n",
    "            # tgt = [(tgt length - 1) * batch size]\n",
    "            loss = criterion(output, tgt)\n",
    "            epoch_loss += loss.item()\n",
    "    return epoch_loss / len(data_loader)"
   ],
   "id": "d808dc880d30b239"
  },
  {
   "metadata": {
    "colab": {
     "base_uri": "https://localhost:8080/"
    },
    "id": "10b0d46e3397edb4",
    "outputId": "d287b838-50af-43b8-9fd0-da379bcfc2ed",
    "executionInfo": {
     "status": "ok",
     "timestamp": 1722870865202,
     "user_tz": -120,
     "elapsed": 8652613,
     "user": {
      "displayName": "Polina Danilovskaia",
      "userId": "10456728383422716320"
     }
    }
   },
   "cell_type": "code",
   "outputs": [
    {
     "output_type": "stream",
     "name": "stderr",
     "text": [
      "  3%|▎         | 1/30 [04:49<2:20:01, 289.72s/it]"
     ]
    },
    {
     "output_type": "stream",
     "name": "stdout",
     "text": [
      "\tTrain Loss:   6.154 | Train PPL: 470.772\n",
      "\tValid Loss:   6.063 | Valid PPL: 429.750\n"
     ]
    },
    {
     "output_type": "stream",
     "name": "stderr",
     "text": [
      "\r  7%|▋         | 2/30 [09:37<2:14:45, 288.75s/it]"
     ]
    },
    {
     "output_type": "stream",
     "name": "stdout",
     "text": [
      "\tTrain Loss:   5.997 | Train PPL: 402.027\n",
      "\tValid Loss:   6.046 | Valid PPL: 422.431\n"
     ]
    },
    {
     "output_type": "stream",
     "name": "stderr",
     "text": [
      "\r 10%|█         | 3/30 [14:24<2:09:31, 287.83s/it]"
     ]
    },
    {
     "output_type": "stream",
     "name": "stdout",
     "text": [
      "\tTrain Loss:   5.867 | Train PPL: 353.223\n",
      "\tValid Loss:   6.053 | Valid PPL: 425.489\n"
     ]
    },
    {
     "output_type": "stream",
     "name": "stderr",
     "text": [
      "\r 13%|█▎        | 4/30 [19:11<2:04:35, 287.51s/it]"
     ]
    },
    {
     "output_type": "stream",
     "name": "stdout",
     "text": [
      "\tTrain Loss:   5.730 | Train PPL: 308.012\n",
      "\tValid Loss:   5.877 | Valid PPL: 356.564\n"
     ]
    },
    {
     "output_type": "stream",
     "name": "stderr",
     "text": [
      "\r 17%|█▋        | 5/30 [23:59<1:59:54, 287.77s/it]"
     ]
    },
    {
     "output_type": "stream",
     "name": "stdout",
     "text": [
      "\tTrain Loss:   5.558 | Train PPL: 259.255\n",
      "\tValid Loss:   5.845 | Valid PPL: 345.385\n"
     ]
    },
    {
     "output_type": "stream",
     "name": "stderr",
     "text": [
      "\r 20%|██        | 6/30 [28:50<1:55:32, 288.86s/it]"
     ]
    },
    {
     "output_type": "stream",
     "name": "stdout",
     "text": [
      "\tTrain Loss:   5.490 | Train PPL: 242.335\n",
      "\tValid Loss:   5.780 | Valid PPL: 323.889\n"
     ]
    },
    {
     "output_type": "stream",
     "name": "stderr",
     "text": [
      "\r 23%|██▎       | 7/30 [33:41<1:50:56, 289.41s/it]"
     ]
    },
    {
     "output_type": "stream",
     "name": "stdout",
     "text": [
      "\tTrain Loss:   5.391 | Train PPL: 219.354\n",
      "\tValid Loss:   5.751 | Valid PPL: 314.351\n"
     ]
    },
    {
     "output_type": "stream",
     "name": "stderr",
     "text": [
      "\r 27%|██▋       | 8/30 [38:28<1:45:54, 288.84s/it]"
     ]
    },
    {
     "output_type": "stream",
     "name": "stdout",
     "text": [
      "\tTrain Loss:   5.309 | Train PPL: 202.203\n",
      "\tValid Loss:   5.644 | Valid PPL: 282.697\n"
     ]
    },
    {
     "output_type": "stream",
     "name": "stderr",
     "text": [
      "\r 30%|███       | 9/30 [43:16<1:41:00, 288.59s/it]"
     ]
    },
    {
     "output_type": "stream",
     "name": "stdout",
     "text": [
      "\tTrain Loss:   5.226 | Train PPL: 186.051\n",
      "\tValid Loss:   5.557 | Valid PPL: 259.002\n"
     ]
    },
    {
     "output_type": "stream",
     "name": "stderr",
     "text": [
      "\r 33%|███▎      | 10/30 [48:05<1:36:12, 288.61s/it]"
     ]
    },
    {
     "output_type": "stream",
     "name": "stdout",
     "text": [
      "\tTrain Loss:   5.116 | Train PPL: 166.664\n",
      "\tValid Loss:   5.492 | Valid PPL: 242.783\n"
     ]
    },
    {
     "output_type": "stream",
     "name": "stderr",
     "text": [
      "\r 37%|███▋      | 11/30 [52:57<1:31:41, 289.57s/it]"
     ]
    },
    {
     "output_type": "stream",
     "name": "stdout",
     "text": [
      "\tTrain Loss:   5.041 | Train PPL: 154.594\n",
      "\tValid Loss:   5.455 | Valid PPL: 233.960\n"
     ]
    },
    {
     "output_type": "stream",
     "name": "stderr",
     "text": [
      "\r 40%|████      | 12/30 [57:51<1:27:19, 291.11s/it]"
     ]
    },
    {
     "output_type": "stream",
     "name": "stdout",
     "text": [
      "\tTrain Loss:   4.994 | Train PPL: 147.561\n",
      "\tValid Loss:   5.407 | Valid PPL: 222.999\n"
     ]
    },
    {
     "output_type": "stream",
     "name": "stderr",
     "text": [
      "\r 43%|████▎     | 13/30 [1:02:35<1:21:52, 288.96s/it]"
     ]
    },
    {
     "output_type": "stream",
     "name": "stdout",
     "text": [
      "\tTrain Loss:   4.912 | Train PPL: 135.932\n",
      "\tValid Loss:   5.350 | Valid PPL: 210.541\n"
     ]
    },
    {
     "output_type": "stream",
     "name": "stderr",
     "text": [
      "\r 47%|████▋     | 14/30 [1:07:20<1:16:40, 287.55s/it]"
     ]
    },
    {
     "output_type": "stream",
     "name": "stdout",
     "text": [
      "\tTrain Loss:   4.850 | Train PPL: 127.681\n",
      "\tValid Loss:   5.306 | Valid PPL: 201.590\n"
     ]
    },
    {
     "output_type": "stream",
     "name": "stderr",
     "text": [
      "\r 50%|█████     | 15/30 [1:12:08<1:11:56, 287.75s/it]"
     ]
    },
    {
     "output_type": "stream",
     "name": "stdout",
     "text": [
      "\tTrain Loss:   4.778 | Train PPL: 118.872\n",
      "\tValid Loss:   5.254 | Valid PPL: 191.377\n"
     ]
    },
    {
     "output_type": "stream",
     "name": "stderr",
     "text": [
      "\r 53%|█████▎    | 16/30 [1:16:57<1:07:15, 288.22s/it]"
     ]
    },
    {
     "output_type": "stream",
     "name": "stdout",
     "text": [
      "\tTrain Loss:   4.699 | Train PPL: 109.836\n",
      "\tValid Loss:   5.203 | Valid PPL: 181.758\n"
     ]
    },
    {
     "output_type": "stream",
     "name": "stderr",
     "text": [
      "\r 57%|█████▋    | 17/30 [1:21:42<1:02:11, 287.07s/it]"
     ]
    },
    {
     "output_type": "stream",
     "name": "stdout",
     "text": [
      "\tTrain Loss:   4.631 | Train PPL: 102.618\n",
      "\tValid Loss:   5.152 | Valid PPL: 172.712\n"
     ]
    },
    {
     "output_type": "stream",
     "name": "stderr",
     "text": [
      "\r 60%|██████    | 18/30 [1:26:31<57:34, 287.85s/it]  "
     ]
    },
    {
     "output_type": "stream",
     "name": "stdout",
     "text": [
      "\tTrain Loss:   4.568 | Train PPL:  96.361\n",
      "\tValid Loss:   5.111 | Valid PPL: 165.832\n"
     ]
    },
    {
     "output_type": "stream",
     "name": "stderr",
     "text": [
      "\r 63%|██████▎   | 19/30 [1:31:19<52:47, 287.93s/it]"
     ]
    },
    {
     "output_type": "stream",
     "name": "stdout",
     "text": [
      "\tTrain Loss:   4.491 | Train PPL:  89.182\n",
      "\tValid Loss:   5.085 | Valid PPL: 161.548\n"
     ]
    },
    {
     "output_type": "stream",
     "name": "stderr",
     "text": [
      "\r 67%|██████▋   | 20/30 [1:36:09<48:04, 288.49s/it]"
     ]
    },
    {
     "output_type": "stream",
     "name": "stdout",
     "text": [
      "\tTrain Loss:   4.430 | Train PPL:  83.973\n",
      "\tValid Loss:   5.023 | Valid PPL: 151.930\n"
     ]
    },
    {
     "output_type": "stream",
     "name": "stderr",
     "text": [
      "\r 70%|███████   | 21/30 [1:40:59<43:19, 288.82s/it]"
     ]
    },
    {
     "output_type": "stream",
     "name": "stdout",
     "text": [
      "\tTrain Loss:   4.379 | Train PPL:  79.770\n",
      "\tValid Loss:   4.998 | Valid PPL: 148.057\n"
     ]
    },
    {
     "output_type": "stream",
     "name": "stderr",
     "text": [
      "\r 73%|███████▎  | 22/30 [1:45:49<38:34, 289.30s/it]"
     ]
    },
    {
     "output_type": "stream",
     "name": "stdout",
     "text": [
      "\tTrain Loss:   4.320 | Train PPL:  75.173\n",
      "\tValid Loss:   4.967 | Valid PPL: 143.609\n"
     ]
    },
    {
     "output_type": "stream",
     "name": "stderr",
     "text": [
      "\r 77%|███████▋  | 23/30 [1:50:40<33:48, 289.77s/it]"
     ]
    },
    {
     "output_type": "stream",
     "name": "stdout",
     "text": [
      "\tTrain Loss:   4.262 | Train PPL:  70.957\n",
      "\tValid Loss:   4.942 | Valid PPL: 140.111\n"
     ]
    },
    {
     "output_type": "stream",
     "name": "stderr",
     "text": [
      "\r 80%|████████  | 24/30 [1:55:29<28:56, 289.35s/it]"
     ]
    },
    {
     "output_type": "stream",
     "name": "stdout",
     "text": [
      "\tTrain Loss:   4.200 | Train PPL:  66.697\n",
      "\tValid Loss:   4.930 | Valid PPL: 138.371\n"
     ]
    },
    {
     "output_type": "stream",
     "name": "stderr",
     "text": [
      "\r 83%|████████▎ | 25/30 [2:00:17<24:04, 288.96s/it]"
     ]
    },
    {
     "output_type": "stream",
     "name": "stdout",
     "text": [
      "\tTrain Loss:   4.150 | Train PPL:  63.446\n",
      "\tValid Loss:   4.911 | Valid PPL: 135.727\n"
     ]
    },
    {
     "output_type": "stream",
     "name": "stderr",
     "text": [
      "\r 87%|████████▋ | 26/30 [2:05:00<19:09, 287.38s/it]"
     ]
    },
    {
     "output_type": "stream",
     "name": "stdout",
     "text": [
      "\tTrain Loss:   4.098 | Train PPL:  60.210\n",
      "\tValid Loss:   4.870 | Valid PPL: 130.262\n"
     ]
    },
    {
     "output_type": "stream",
     "name": "stderr",
     "text": [
      "\r 90%|█████████ | 27/30 [2:09:53<14:26, 288.92s/it]"
     ]
    },
    {
     "output_type": "stream",
     "name": "stdout",
     "text": [
      "\tTrain Loss:   4.033 | Train PPL:  56.438\n",
      "\tValid Loss:   4.856 | Valid PPL: 128.569\n"
     ]
    },
    {
     "output_type": "stream",
     "name": "stderr",
     "text": [
      "\r 93%|█████████▎| 28/30 [2:14:38<09:35, 287.93s/it]"
     ]
    },
    {
     "output_type": "stream",
     "name": "stdout",
     "text": [
      "\tTrain Loss:   3.971 | Train PPL:  53.040\n",
      "\tValid Loss:   4.832 | Valid PPL: 125.459\n"
     ]
    },
    {
     "output_type": "stream",
     "name": "stderr",
     "text": [
      "\r 97%|█████████▋| 29/30 [2:19:29<04:48, 288.80s/it]"
     ]
    },
    {
     "output_type": "stream",
     "name": "stdout",
     "text": [
      "\tTrain Loss:   3.925 | Train PPL:  50.646\n",
      "\tValid Loss:   4.824 | Valid PPL: 124.449\n"
     ]
    },
    {
     "output_type": "stream",
     "name": "stderr",
     "text": [
      "100%|██████████| 30/30 [2:24:12<00:00, 288.42s/it]"
     ]
    },
    {
     "output_type": "stream",
     "name": "stdout",
     "text": [
      "\tTrain Loss:   3.871 | Train PPL:  48.005\n",
      "\tValid Loss:   4.781 | Valid PPL: 119.167\n"
     ]
    },
    {
     "output_type": "stream",
     "name": "stderr",
     "text": [
      "\n"
     ]
    }
   ],
   "execution_count": 21,
   "source": [
    "n_epochs = 30\n",
    "clip = 1.0\n",
    "teacher_forcing_ratio = 0.25\n",
    "output_model = '/content/gdrive/My Drive/Colab Notebooks/gec24/models/model5.pt'\n",
    "\n",
    "best_valid_loss = float(\"inf\")\n",
    "train_losses = []\n",
    "valid_losses = []\n",
    "\n",
    "for epoch in tqdm.tqdm(range(n_epochs)):\n",
    "    train_loss = train_fn(\n",
    "        model,\n",
    "        train_data_loader,\n",
    "        optimizer,\n",
    "        criterion,\n",
    "        clip,\n",
    "        teacher_forcing_ratio,\n",
    "        device,\n",
    "    )\n",
    "    valid_loss = evaluate_fn(\n",
    "        model,\n",
    "        dev_data_loader,\n",
    "        criterion,\n",
    "        device,\n",
    "    )\n",
    "\n",
    "    train_losses.append(train_loss)\n",
    "    valid_losses.append(valid_loss)\n",
    "\n",
    "    if valid_loss < best_valid_loss:\n",
    "        best_valid_loss = valid_loss\n",
    "        torch.save(model.state_dict(), output_model)\n",
    "    print(f\"\\tTrain Loss: {train_loss:7.3f} | Train PPL: {np.exp(train_loss):7.3f}\")\n",
    "    print(f\"\\tValid Loss: {valid_loss:7.3f} | Valid PPL: {np.exp(valid_loss):7.3f}\")"
   ],
   "id": "10b0d46e3397edb4"
  },
  {
   "metadata": {},
   "cell_type": "markdown",
   "source": "Visualizing the training:",
   "id": "7069c72c25ad0b50"
  },
  {
   "metadata": {
    "id": "1e61bd3aa73c9b5b",
    "colab": {
     "base_uri": "https://localhost:8080/",
     "height": 438
    },
    "executionInfo": {
     "status": "ok",
     "timestamp": 1722870866272,
     "user_tz": -120,
     "elapsed": 1087,
     "user": {
      "displayName": "Polina Danilovskaia",
      "userId": "10456728383422716320"
     }
    },
    "outputId": "73748d47-9294-4d62-f18a-607d7d5f9683"
   },
   "cell_type": "code",
   "outputs": [
    {
     "output_type": "display_data",
     "data": {
      "text/plain": [
       "<Figure size 1000x500 with 1 Axes>"
      ],
      "image/png": "[encoded data removed]"
     },
     "metadata": {}
    }
   ],
   "execution_count": 22,
   "source": [
    "plt.figure(figsize=(10, 5))\n",
    "plt.plot(train_losses, label='Train Loss')\n",
    "plt.plot(valid_losses, label='Validation Loss')\n",
    "plt.xlabel('Epochs')\n",
    "plt.ylabel('Loss')\n",
    "plt.title('Training and Validation Loss')\n",
    "plt.legend()\n",
    "plt.show()"
   ],
   "id": "1e61bd3aa73c9b5b"
  },
  {
   "metadata": {},
   "cell_type": "markdown",
   "source": "Computing test loss:",
   "id": "4f6e00f11be6e308"
  },
  {
   "metadata": {
    "id": "efdcd1a03e480ad8",
    "colab": {
     "base_uri": "https://localhost:8080/"
    },
    "executionInfo": {
     "status": "ok",
     "timestamp": 1722870869199,
     "user_tz": -120,
     "elapsed": 2936,
     "user": {
      "displayName": "Polina Danilovskaia",
      "userId": "10456728383422716320"
     }
    },
    "outputId": "c031b4f6-d994-4212-910d-7417cfffaf79"
   },
   "cell_type": "code",
   "outputs": [
    {
     "output_type": "stream",
     "name": "stdout",
     "text": [
      "| Test Loss: 5.556 | Test PPL: 258.779 |\n"
     ]
    }
   ],
   "execution_count": 23,
   "source": [
    "model.load_state_dict(torch.load(output_model))\n",
    "\n",
    "test_loss = evaluate_fn(model, test_data_loader, criterion, device)\n",
    "\n",
    "print(f\"| Test Loss: {test_loss:.3f} | Test PPL: {np.exp(test_loss):7.3f} |\")"
   ],
   "id": "efdcd1a03e480ad8"
  },
  {
   "metadata": {},
   "cell_type": "markdown",
   "source": [
    "\n",
    "At last, we can see how our model makes corrections to three sentences in practice."
   ],
   "id": "a05e73b332cf535c"
  },
  {
   "cell_type": "code",
   "source": [
    "def correct_sentence(\n",
    "    sentence,\n",
    "    model,\n",
    "    sp,\n",
    "    sos_token,\n",
    "    eos_token,\n",
    "    device,\n",
    "    max_output_length=25,\n",
    "):\n",
    "    model.eval()\n",
    "    with torch.no_grad():\n",
    "        # Tokenize sentence with SentencePiece\n",
    "        tokens = sp.encode_as_pieces(sentence)\n",
    "        tokens = [sos_token] + tokens + [eos_token]  # Add SOS and EOS tokens\n",
    "\n",
    "        # Encode tokens to get IDs\n",
    "        ids = sp.encode_as_ids(sentence)\n",
    "        tensor = torch.LongTensor(ids).unsqueeze(-1).to(device)\n",
    "\n",
    "        hidden, cell = model.encoder(tensor)\n",
    "\n",
    "        inputs = [sp.bos_id()]  # Use BOS token ID\n",
    "        for _ in range(max_output_length):\n",
    "            inputs_tensor = torch.LongTensor([inputs[-1]]).to(device)\n",
    "            output, hidden, cell = model.decoder(inputs_tensor, hidden, cell)\n",
    "            predicted_token_id = output.argmax(-1).item()\n",
    "            inputs.append(predicted_token_id)\n",
    "            if predicted_token_id == sp.eos_id():\n",
    "                break\n",
    "\n",
    "        # Decode predicted token IDs to tokens\n",
    "        predicted_tokens = sp.decode_ids(inputs)\n",
    "\n",
    "    return predicted_tokens"
   ],
   "metadata": {
    "id": "3eWS_vbeBMjB",
    "executionInfo": {
     "status": "ok",
     "timestamp": 1722870869199,
     "user_tz": -120,
     "elapsed": 20,
     "user": {
      "displayName": "Polina Danilovskaia",
      "userId": "10456728383422716320"
     }
    }
   },
   "id": "3eWS_vbeBMjB",
   "execution_count": 24,
   "outputs": []
  },
  {
   "metadata": {},
   "cell_type": "markdown",
   "source": "First example",
   "id": "27b518f93d12a48d"
  },
  {
   "cell_type": "code",
   "source": [
    "sentence = test_data[17][\"src\"]\n",
    "expected_correction = test_data[17][\"tgt\"]\n",
    "sentence, expected_correction"
   ],
   "metadata": {
    "id": "1dm_CfSGB50_",
    "colab": {
     "base_uri": "https://localhost:8080/"
    },
    "executionInfo": {
     "status": "ok",
     "timestamp": 1722870869200,
     "user_tz": -120,
     "elapsed": 13,
     "user": {
      "displayName": "Polina Danilovskaia",
      "userId": "10456728383422716320"
     }
    },
    "outputId": "014c04b7-3139-45e5-9ae1-2b03e2f9eecf"
   },
   "id": "1dm_CfSGB50_",
   "execution_count": 25,
   "outputs": [
    {
     "output_type": "execute_result",
     "data": {
      "text/plain": [
       "(\"Although such a show of strength by these works ' characters is sometimes viewed as a violent and therefore negative contribution to the otherwise insightful thought of the author , it is this conflict upon which many stories of ethnic American literature are based .\",\n",
       " \"Although such a show of strength by these works ' characters is sometimes viewed as a violent and therefore negative contribution to the otherwise insightful thought of the author , it is this conflict upon which many stories of ethnic American literature are based .\")"
      ]
     },
     "metadata": {},
     "execution_count": 25
    }
   ]
  },
  {
   "cell_type": "code",
   "source": [
    "correction = correct_sentence(\n",
    "    sentence,\n",
    "    model,\n",
    "    sp,\n",
    "    'BOS',\n",
    "    'EOS',\n",
    "    'cuda'\n",
    ")"
   ],
   "metadata": {
    "id": "IE96PTZGBepU",
    "executionInfo": {
     "status": "ok",
     "timestamp": 1722870869738,
     "user_tz": -120,
     "elapsed": 545,
     "user": {
      "displayName": "Polina Danilovskaia",
      "userId": "10456728383422716320"
     }
    }
   },
   "id": "IE96PTZGBepU",
   "execution_count": 26,
   "outputs": []
  },
  {
   "cell_type": "code",
   "source": [
    "correction"
   ],
   "metadata": {
    "id": "NMtswIM0Blu4",
    "colab": {
     "base_uri": "https://localhost:8080/",
     "height": 73
    },
    "executionInfo": {
     "status": "ok",
     "timestamp": 1722870869738,
     "user_tz": -120,
     "elapsed": 24,
     "user": {
      "displayName": "Polina Danilovskaia",
      "userId": "10456728383422716320"
     }
    },
    "outputId": "4d2e1f89-0e69-44dd-f5cd-39c48acb8c0f"
   },
   "id": "NMtswIM0Blu4",
   "execution_count": 27,
   "outputs": [
    {
     "output_type": "execute_result",
     "data": {
      "text/plain": [
       "'From a point of view , the professor of the thes , the the the the the the the the the the the the'"
      ],
      "application/vnd.google.colaboratory.intrinsic+json": {
       "type": "string"
      }
     },
     "metadata": {},
     "execution_count": 27
    }
   ]
  },
  {
   "metadata": {},
   "cell_type": "markdown",
   "source": "Second example",
   "id": "d53135480f1270a0"
  },
  {
   "cell_type": "code",
   "source": [
    "sentence = test_data[34][\"src\"]\n",
    "expected_correction = test_data[34][\"tgt\"]\n",
    "sentence, expected_correction"
   ],
   "metadata": {
    "id": "x2FzxDUnCIVt",
    "colab": {
     "base_uri": "https://localhost:8080/"
    },
    "executionInfo": {
     "status": "ok",
     "timestamp": 1722870869738,
     "user_tz": -120,
     "elapsed": 22,
     "user": {
      "displayName": "Polina Danilovskaia",
      "userId": "10456728383422716320"
     }
    },
    "outputId": "3c3fbd71-63ad-47e6-9237-cc14f633ba13"
   },
   "id": "x2FzxDUnCIVt",
   "execution_count": 28,
   "outputs": [
    {
     "output_type": "execute_result",
     "data": {
      "text/plain": [
       "('On arrival they see starvation and death .',\n",
       " 'On arrival they see starvation and death .')"
      ]
     },
     "metadata": {},
     "execution_count": 28
    }
   ]
  },
  {
   "cell_type": "code",
   "source": [
    "correction = correct_sentence(\n",
    "    sentence,\n",
    "    model,\n",
    "    sp,\n",
    "    'BOS',\n",
    "    'EOS',\n",
    "    'cuda'\n",
    ")\n",
    "correction"
   ],
   "metadata": {
    "id": "_-iwHjwbCMUm",
    "colab": {
     "base_uri": "https://localhost:8080/",
     "height": 56
    },
    "executionInfo": {
     "status": "ok",
     "timestamp": 1722870869739,
     "user_tz": -120,
     "elapsed": 17,
     "user": {
      "displayName": "Polina Danilovskaia",
      "userId": "10456728383422716320"
     }
    },
    "outputId": "65b584b1-b6cf-44c6-ebae-94baf4f00550"
   },
   "id": "_-iwHjwbCMUm",
   "execution_count": 29,
   "outputs": [
    {
     "output_type": "execute_result",
     "data": {
      "text/plain": [
       "'On the other hand , thess . .'"
      ],
      "application/vnd.google.colaboratory.intrinsic+json": {
       "type": "string"
      }
     },
     "metadata": {},
     "execution_count": 29
    }
   ]
  },
  {
   "metadata": {},
   "cell_type": "markdown",
   "source": "Third example",
   "id": "eebee2dae4b5c34a"
  },
  {
   "cell_type": "code",
   "source": [
    "sentence = 'Two cats is catching a butterfly.'\n",
    "correction = correct_sentence(\n",
    "    sentence,\n",
    "    model,\n",
    "    sp,\n",
    "    'BOS',\n",
    "    'EOS',\n",
    "    'cuda'\n",
    ")\n",
    "correction"
   ],
   "metadata": {
    "id": "EaQYWcNqcYaM",
    "colab": {
     "base_uri": "https://localhost:8080/",
     "height": 56
    },
    "executionInfo": {
     "status": "ok",
     "timestamp": 1722870869739,
     "user_tz": -120,
     "elapsed": 16,
     "user": {
      "displayName": "Polina Danilovskaia",
      "userId": "10456728383422716320"
     }
    },
    "outputId": "7676d9c0-e546-4c97-d1b6-86a37a5c0dca"
   },
   "id": "EaQYWcNqcYaM",
   "execution_count": 30,
   "outputs": [
    {
     "output_type": "execute_result",
     "data": {
      "text/plain": [
       "'Life ares a a a and and . .'"
      ],
      "application/vnd.google.colaboratory.intrinsic+json": {
       "type": "string"
      }
     },
     "metadata": {},
     "execution_count": 30
    }
   ]
  }
 ],
 "metadata": {
  "kernelspec": {
   "display_name": "Python 3",
   "name": "python3"
  },
  "language_info": {
   "codemirror_mode": {
    "name": "ipython",
    "version": 2
   },
   "file_extension": ".py",
   "mimetype": "text/x-python",
   "name": "python",
   "nbconvert_exporter": "python",
   "pygments_lexer": "ipython2",
   "version": "2.7.6"
  },
  "colab": {
   "provenance": [],
   "gpuType": "T4"
  },
  "accelerator": "GPU"
 },
 "nbformat": 4,
 "nbformat_minor": 5
}
