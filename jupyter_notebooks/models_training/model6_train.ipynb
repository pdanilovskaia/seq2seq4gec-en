{
 "cells": [
  {
   "metadata": {
    "id": "1cfec7ae913db671"
   },
   "cell_type": "markdown",
   "source": [
    "## Seq2Seq Model\n",
    "\n",
    "In this notebook, we finally construct our an encoder-decoder model for Grammatical Error Correction, modifying the hyperparameters, visualising the training and validation processes, and examining a selection of examples from the test data.\n",
    "\n",
    " The following notebook was developed based on the teaching unit at the University of Potsdam of Meng Li, which in turn was inspired by  [Ben Trevett's Seq2seq tutorial](https://github.com/bentrevett/pytorch-seq2seq/). "
   ],
   "id": "1cfec7ae913db671"
  },
  {
   "cell_type": "code",
   "source": [
    "from google.colab import drive\n",
    "drive.mount('/content/gdrive')"
   ],
   "metadata": {
    "colab": {
     "base_uri": "https://localhost:8080/"
    },
    "id": "Sy-rLnJCyBR7",
    "executionInfo": {
     "status": "ok",
     "timestamp": 1723630808242,
     "user_tz": -120,
     "elapsed": 3210,
     "user": {
      "displayName": "Polina Danilovskaia",
      "userId": "10456728383422716320"
     }
    },
    "outputId": "e7c88d9f-7492-40e8-ecbb-9f5ee3efccc9"
   },
   "id": "Sy-rLnJCyBR7",
   "execution_count": 2,
   "outputs": [
    {
     "output_type": "stream",
     "name": "stdout",
     "text": [
      "Drive already mounted at /content/gdrive; to attempt to forcibly remount, call drive.mount(\"/content/gdrive\", force_remount=True).\n"
     ]
    }
   ]
  },
  {
   "cell_type": "code",
   "source": [
    "import os\n",
    "PATH = r\"/content/gdrive/My Drive/Colab Notebooks/gec24\"\n",
    "os.chdir(PATH)"
   ],
   "metadata": {
    "id": "kT-XG_oRyE7x",
    "executionInfo": {
     "status": "ok",
     "timestamp": 1723630808243,
     "user_tz": -120,
     "elapsed": 9,
     "user": {
      "displayName": "Polina Danilovskaia",
      "userId": "10456728383422716320"
     }
    }
   },
   "id": "kT-XG_oRyE7x",
   "execution_count": 3,
   "outputs": []
  },
  {
   "metadata": {
    "id": "d916dd2b9945a8a0",
    "executionInfo": {
     "status": "ok",
     "timestamp": 1723630811839,
     "user_tz": -120,
     "elapsed": 3600,
     "user": {
      "displayName": "Polina Danilovskaia",
      "userId": "10456728383422716320"
     }
    }
   },
   "cell_type": "code",
   "outputs": [],
   "execution_count": 4,
   "source": [
    "import torch\n",
    "import torch.nn as nn\n",
    "import matplotlib.pyplot as plt\n",
    "import random\n",
    "import tqdm\n",
    "import numpy as np\n",
    "import sentencepiece as spm"
   ],
   "id": "d916dd2b9945a8a0"
  },
  {
   "metadata": {
    "id": "742bb89b218ce013"
   },
   "cell_type": "markdown",
   "source": "Let's start by creating a function that will pad our sequences to the desired length.",
   "id": "742bb89b218ce013"
  },
  {
   "metadata": {
    "id": "77f82a4c70b6f8ba",
    "executionInfo": {
     "status": "ok",
     "timestamp": 1723630811839,
     "user_tz": -120,
     "elapsed": 19,
     "user": {
      "displayName": "Polina Danilovskaia",
      "userId": "10456728383422716320"
     }
    }
   },
   "cell_type": "code",
   "outputs": [],
   "execution_count": 5,
   "source": [
    "def get_collate_fn(pad_index):\n",
    "    def collate_fn(batch):\n",
    "        batch_src_ids = [example[\"src_ids\"] for example in batch]\n",
    "        batch_tgt_ids = [example[\"tgt_ids\"] for example in batch]\n",
    "        batch_src_ids = nn.utils.rnn.pad_sequence(batch_src_ids, padding_value=pad_index)\n",
    "        batch_tgt_ids = nn.utils.rnn.pad_sequence(batch_tgt_ids, padding_value=pad_index)\n",
    "        batch = {\n",
    "            \"src_ids\": batch_src_ids,\n",
    "            \"tgt_ids\": batch_tgt_ids,\n",
    "        }\n",
    "        return batch\n",
    "\n",
    "    return collate_fn"
   ],
   "id": "77f82a4c70b6f8ba"
  },
  {
   "metadata": {
    "id": "1f5ee17c9da7b060"
   },
   "cell_type": "markdown",
   "source": [
    "Next, we write the functions which give us our data loaders creating using PyTorch's DataLoader class.\n",
    "get_data_loader is created using a Dataset, the batch size, the padding token index (which is used for creating the batches in the collate_fn, and a boolean deciding if the examples should be shuffled at the time the data loader is iterated over.\n",
    "The batch size defines the maximum amount of examples within a batch. If the length of the dataset is not evenly divisible by the batch size then the last batch will be smaller."
   ],
   "id": "1f5ee17c9da7b060"
  },
  {
   "metadata": {
    "id": "68f07d33bc08875f",
    "executionInfo": {
     "status": "ok",
     "timestamp": 1723630811840,
     "user_tz": -120,
     "elapsed": 11,
     "user": {
      "displayName": "Polina Danilovskaia",
      "userId": "10456728383422716320"
     }
    }
   },
   "cell_type": "code",
   "outputs": [],
   "execution_count": 6,
   "source": [
    "def get_data_loader(dataset, batch_size, pad_index, shuffle=False):\n",
    "    collate_fn = get_collate_fn(pad_index)\n",
    "    data_loader = torch.utils.data.DataLoader(\n",
    "        dataset=dataset,\n",
    "        batch_size=batch_size,\n",
    "        collate_fn=collate_fn,\n",
    "        shuffle=shuffle,\n",
    "    )\n",
    "    return data_loader"
   ],
   "id": "68f07d33bc08875f"
  },
  {
   "metadata": {
    "id": "cdccc46c1e8cd4dc",
    "executionInfo": {
     "status": "ok",
     "timestamp": 1723630811840,
     "user_tz": -120,
     "elapsed": 10,
     "user": {
      "displayName": "Polina Danilovskaia",
      "userId": "10456728383422716320"
     }
    }
   },
   "cell_type": "code",
   "outputs": [],
   "execution_count": 7,
   "source": [
    "model_name = 'unigram_8000'"
   ],
   "id": "cdccc46c1e8cd4dc"
  },
  {
   "cell_type": "markdown",
   "source": "Loading data:",
   "metadata": {
    "id": "yv0m433yyI3Y"
   },
   "id": "yv0m433yyI3Y"
  },
  {
   "metadata": {
    "id": "552f4b859db744f8",
    "executionInfo": {
     "status": "ok",
     "timestamp": 1723630822812,
     "user_tz": -120,
     "elapsed": 10981,
     "user": {
      "displayName": "Polina Danilovskaia",
      "userId": "10456728383422716320"
     }
    }
   },
   "cell_type": "code",
   "outputs": [],
   "execution_count": 8,
   "source": [
    "train_data = torch.load(\"/content/gdrive/My Drive/Colab Notebooks/gec24/data/tokenized_data/unigram_8000_train.pt\")\n",
    "dev_data = torch.load(\"/content/gdrive/My Drive/Colab Notebooks/gec24/data/tokenized_data/unigram_8000_dev.pt\")\n",
    "test_data = torch.load(\"/content/gdrive/My Drive/Colab Notebooks/gec24/data/tokenized_data/unigram_8000_test.pt\")"
   ],
   "id": "552f4b859db744f8"
  },
  {
   "metadata": {
    "id": "80decdf60398939",
    "executionInfo": {
     "status": "ok",
     "timestamp": 1723630823353,
     "user_tz": -120,
     "elapsed": 8,
     "user": {
      "displayName": "Polina Danilovskaia",
      "userId": "10456728383422716320"
     }
    }
   },
   "cell_type": "code",
   "outputs": [],
   "execution_count": 9,
   "source": [
    "model_filename = 'tokenizer_models/' + model_name + '.model'\n",
    "sp = spm.SentencePieceProcessor(model_file=model_filename)"
   ],
   "id": "80decdf60398939"
  },
  {
   "metadata": {
    "id": "acd0ea57630cad83"
   },
   "cell_type": "markdown",
   "source": [
    "Finally, we create our data loaders.\n",
    "\n",
    "Shuffling of data makes training more stable and potentially improves the final performance of the model, however only needs to be done on the training set."
   ],
   "id": "acd0ea57630cad83"
  },
  {
   "metadata": {
    "id": "9790cdc191017a0b",
    "executionInfo": {
     "status": "ok",
     "timestamp": 1723630823353,
     "user_tz": -120,
     "elapsed": 7,
     "user": {
      "displayName": "Polina Danilovskaia",
      "userId": "10456728383422716320"
     }
    }
   },
   "cell_type": "code",
   "outputs": [],
   "execution_count": 10,
   "source": [
    "batch_size = 256\n",
    "pad_index = 0\n",
    "\n",
    "train_data_loader = get_data_loader(train_data, batch_size, pad_index, shuffle=True)\n",
    "dev_data_loader = get_data_loader(dev_data, batch_size, pad_index)\n",
    "test_data_loader = get_data_loader(test_data, batch_size, pad_index)"
   ],
   "id": "9790cdc191017a0b"
  },
  {
   "metadata": {
    "id": "b452bafe84aa74b0"
   },
   "cell_type": "markdown",
   "source": "### Building  a model",
   "id": "b452bafe84aa74b0"
  },
  {
   "metadata": {
    "id": "333d2c5448e31110",
    "executionInfo": {
     "status": "ok",
     "timestamp": 1723630823353,
     "user_tz": -120,
     "elapsed": 7,
     "user": {
      "displayName": "Polina Danilovskaia",
      "userId": "10456728383422716320"
     }
    }
   },
   "cell_type": "code",
   "outputs": [],
   "execution_count": 11,
   "source": [
    "class Encoder(nn.Module):\n",
    "    def __init__(self, input_dim, embedding_dim, hidden_dim, n_layers, dropout):\n",
    "        super().__init__()\n",
    "        self.hidden_dim = hidden_dim\n",
    "        self.n_layers = n_layers\n",
    "        self.embedding = nn.Embedding(input_dim, embedding_dim)\n",
    "        self.rnn = nn.LSTM(embedding_dim, hidden_dim, n_layers, dropout=dropout)\n",
    "        self.dropout = nn.Dropout(dropout)\n",
    "\n",
    "    def forward(self, src):\n",
    "        # src = [src length, batch size]\n",
    "        embedded = self.dropout(self.embedding(src))\n",
    "        # embedded = [src length, batch size, embedding dim]\n",
    "        outputs, (hidden, cell) = self.rnn(embedded)\n",
    "        # outputs = [src length, batch size, hidden dim * n directions]\n",
    "        # hidden = [n layers * n directions, batch size, hidden dim]\n",
    "        # cell = [n layers * n directions, batch size, hidden dim]\n",
    "        # outputs are always from the top hidden layer\n",
    "        return hidden, cell"
   ],
   "id": "333d2c5448e31110"
  },
  {
   "metadata": {
    "id": "cbd807ef8a026cae",
    "executionInfo": {
     "status": "ok",
     "timestamp": 1723630823353,
     "user_tz": -120,
     "elapsed": 7,
     "user": {
      "displayName": "Polina Danilovskaia",
      "userId": "10456728383422716320"
     }
    }
   },
   "cell_type": "code",
   "outputs": [],
   "execution_count": 12,
   "source": [
    "class Decoder(nn.Module):\n",
    "    def __init__(self, output_dim, embedding_dim, hidden_dim, n_layers, dropout):\n",
    "        super().__init__()\n",
    "        self.output_dim = output_dim\n",
    "        self.hidden_dim = hidden_dim\n",
    "        self.n_layers = n_layers\n",
    "        self.embedding = nn.Embedding(output_dim, embedding_dim)\n",
    "        self.rnn = nn.LSTM(embedding_dim, hidden_dim, n_layers, dropout=dropout)\n",
    "        self.fc_out = nn.Linear(hidden_dim, output_dim)\n",
    "        self.dropout = nn.Dropout(dropout)\n",
    "\n",
    "    def forward(self, input, hidden, cell):\n",
    "        # input = [batch size]\n",
    "        # hidden = [n layers * n directions, batch size, hidden dim]\n",
    "        # cell = [n layers * n directions, batch size, hidden dim]\n",
    "        # n directions in the decoder will both always be 1, therefore:\n",
    "        # hidden = [n layers, batch size, hidden dim]\n",
    "        # context = [n layers, batch size, hidden dim]\n",
    "        input = input.unsqueeze(0)\n",
    "        # input = [1, batch size]\n",
    "        embedded = self.dropout(self.embedding(input))\n",
    "        # embedded = [1, batch size, embedding dim]\n",
    "        output, (hidden, cell) = self.rnn(embedded, (hidden, cell))\n",
    "        # output = [seq length, batch size, hidden dim * n directions]\n",
    "        # hidden = [n layers * n directions, batch size, hidden dim]\n",
    "        # cell = [n layers * n directions, batch size, hidden dim]\n",
    "        # seq length and n directions will always be 1 in this decoder, therefore:\n",
    "        # output = [1, batch size, hidden dim]\n",
    "        # hidden = [n layers, batch size, hidden dim]\n",
    "        # cell = [n layers, batch size, hidden dim]\n",
    "        prediction = self.fc_out(output.squeeze(0))\n",
    "        # prediction = [batch size, output dim]\n",
    "        return prediction, hidden, cell"
   ],
   "id": "cbd807ef8a026cae"
  },
  {
   "metadata": {
    "id": "94f8f70283fdfb6b",
    "executionInfo": {
     "status": "ok",
     "timestamp": 1723630823353,
     "user_tz": -120,
     "elapsed": 6,
     "user": {
      "displayName": "Polina Danilovskaia",
      "userId": "10456728383422716320"
     }
    }
   },
   "cell_type": "code",
   "outputs": [],
   "execution_count": 13,
   "source": [
    "class Seq2Seq(nn.Module):\n",
    "    def __init__(self, encoder, decoder, device):\n",
    "        super().__init__()\n",
    "        self.encoder = encoder\n",
    "        self.decoder = decoder\n",
    "        self.device = device\n",
    "        assert (\n",
    "            encoder.hidden_dim == decoder.hidden_dim\n",
    "        ), \"Hidden dimensions of encoder and decoder must be equal!\"\n",
    "        assert (\n",
    "            encoder.n_layers == decoder.n_layers\n",
    "        ), \"Encoder and decoder must have equal number of layers!\"\n",
    "\n",
    "    def forward(self, src, tgt, teacher_forcing_ratio):\n",
    "        # src = [src length, batch size]\n",
    "        # tgt = [tgt length, batch size]\n",
    "        # teacher_forcing_ratio is probability to use teacher forcing\n",
    "        # e.g. if teacher_forcing_ratio is 0.75 we use ground-truth inputs 75% of the time\n",
    "        batch_size = tgt.shape[1]\n",
    "        tgt_length = tgt.shape[0]\n",
    "        tgt_vocab_size = self.decoder.output_dim\n",
    "        # tensor to store decoder outputs\n",
    "        outputs = torch.zeros(tgt_length, batch_size, tgt_vocab_size).to(self.device)\n",
    "        # last hidden state of the encoder is used as the initial hidden state of the decoder\n",
    "        hidden, cell = self.encoder(src)\n",
    "        # hidden = [n layers * n directions, batch size, hidden dim]\n",
    "        # cell = [n layers * n directions, batch size, hidden dim]\n",
    "        # first input to the decoder is the <sos> tokens\n",
    "        input = tgt[0, :]\n",
    "        # input = [batch size]\n",
    "        for t in range(1, tgt_length):\n",
    "            # insert input token embedding, previous hidden and previous cell states\n",
    "            # receive output tensor (predictions) and new hidden and cell states\n",
    "            output, hidden, cell = self.decoder(input, hidden, cell)\n",
    "            # output = [batch size, output dim]\n",
    "            # hidden = [n layers, batch size, hidden dim]\n",
    "            # cell = [n layers, batch size, hidden dim]\n",
    "            # place predictions in a tensor holding predictions for each token\n",
    "            outputs[t] = output\n",
    "            # decide if we are going to use teacher forcing or not\n",
    "            teacher_force = random.random() < teacher_forcing_ratio\n",
    "            # get the highest predicted token from our predictions\n",
    "            top1 = output.argmax(1)\n",
    "            # if teacher forcing, use actual next token as next input\n",
    "            # if not, use predicted token\n",
    "            input = tgt[t] if teacher_force else top1\n",
    "            # input = [batch size]\n",
    "        return outputs"
   ],
   "id": "94f8f70283fdfb6b"
  },
  {
   "metadata": {},
   "cell_type": "markdown",
   "source": "Setting up the model",
   "id": "1ed7a888c179c556"
  },
  {
   "metadata": {
    "id": "6aeb28606ff0c91d",
    "executionInfo": {
     "status": "ok",
     "timestamp": 1723630823861,
     "user_tz": -120,
     "elapsed": 514,
     "user": {
      "displayName": "Polina Danilovskaia",
      "userId": "10456728383422716320"
     }
    }
   },
   "cell_type": "code",
   "outputs": [],
   "execution_count": 14,
   "source": [
    "input_dim = sp.get_piece_size()\n",
    "output_dim = sp.get_piece_size()\n",
    "encoder_embedding_dim = 512\n",
    "decoder_embedding_dim = 512\n",
    "hidden_dim = 512\n",
    "n_layers = 4\n",
    "encoder_dropout = 0.5\n",
    "decoder_dropout = 0.5\n",
    "torch.cuda.empty_cache()\n",
    "device = torch.device(\"cuda\" if torch.cuda.is_available() else \"cpu\")\n",
    "\n",
    "encoder = Encoder(\n",
    "    input_dim,\n",
    "    encoder_embedding_dim,\n",
    "    hidden_dim,\n",
    "    n_layers,\n",
    "    encoder_dropout,\n",
    ")\n",
    "\n",
    "decoder = Decoder(\n",
    "    output_dim,\n",
    "    decoder_embedding_dim,\n",
    "    hidden_dim,\n",
    "    n_layers,\n",
    "    decoder_dropout,\n",
    ")\n",
    "\n",
    "model = Seq2Seq(encoder, decoder, device).to(device)"
   ],
   "id": "6aeb28606ff0c91d"
  },
  {
   "metadata": {
    "colab": {
     "base_uri": "https://localhost:8080/"
    },
    "id": "55d985b695967ac3",
    "executionInfo": {
     "status": "ok",
     "timestamp": 1723630823861,
     "user_tz": -120,
     "elapsed": 14,
     "user": {
      "displayName": "Polina Danilovskaia",
      "userId": "10456728383422716320"
     }
    },
    "outputId": "a76f17e5-7ce5-43be-b2f6-d0dcf2469bb3"
   },
   "cell_type": "code",
   "outputs": [
    {
     "output_type": "execute_result",
     "data": {
      "text/plain": [
       "Seq2Seq(\n",
       "  (encoder): Encoder(\n",
       "    (embedding): Embedding(8000, 512)\n",
       "    (rnn): LSTM(512, 512, num_layers=4, dropout=0.5)\n",
       "    (dropout): Dropout(p=0.5, inplace=False)\n",
       "  )\n",
       "  (decoder): Decoder(\n",
       "    (embedding): Embedding(8000, 512)\n",
       "    (rnn): LSTM(512, 512, num_layers=4, dropout=0.5)\n",
       "    (fc_out): Linear(in_features=512, out_features=8000, bias=True)\n",
       "    (dropout): Dropout(p=0.5, inplace=False)\n",
       "  )\n",
       ")"
      ]
     },
     "metadata": {},
     "execution_count": 15
    }
   ],
   "execution_count": 15,
   "source": [
    "def init_weights(m):\n",
    "    for name, param in m.named_parameters():\n",
    "        nn.init.uniform_(param.data, -0.08, 0.08)\n",
    "\n",
    "\n",
    "model.apply(init_weights)"
   ],
   "id": "55d985b695967ac3"
  },
  {
   "metadata": {
    "colab": {
     "base_uri": "https://localhost:8080/"
    },
    "id": "13ae498d465b850d",
    "executionInfo": {
     "status": "ok",
     "timestamp": 1723630823861,
     "user_tz": -120,
     "elapsed": 12,
     "user": {
      "displayName": "Polina Danilovskaia",
      "userId": "10456728383422716320"
     }
    },
    "outputId": "d9cd3f0a-f8d7-42fd-dc80-54bff90d611d"
   },
   "cell_type": "code",
   "outputs": [
    {
     "output_type": "stream",
     "name": "stdout",
     "text": [
      "The model has 29,105,984 trainable parameters\n"
     ]
    }
   ],
   "execution_count": 16,
   "source": [
    "def count_parameters(model):\n",
    "    return sum(p.numel() for p in model.parameters() if p.requires_grad)\n",
    "\n",
    "\n",
    "print(f\"The model has {count_parameters(model):,} trainable parameters\")"
   ],
   "id": "13ae498d465b850d"
  },
  {
   "metadata": {
    "id": "a4262b5d61db250",
    "executionInfo": {
     "status": "ok",
     "timestamp": 1723630825225,
     "user_tz": -120,
     "elapsed": 1372,
     "user": {
      "displayName": "Polina Danilovskaia",
      "userId": "10456728383422716320"
     }
    }
   },
   "cell_type": "code",
   "outputs": [],
   "execution_count": 17,
   "source": [
    "import torch.optim as optim\n",
    "optimizer = optim.Adam(model.parameters())"
   ],
   "id": "a4262b5d61db250"
  },
  {
   "metadata": {
    "id": "16716a9bb375c138",
    "executionInfo": {
     "status": "ok",
     "timestamp": 1723630825225,
     "user_tz": -120,
     "elapsed": 7,
     "user": {
      "displayName": "Polina Danilovskaia",
      "userId": "10456728383422716320"
     }
    }
   },
   "cell_type": "code",
   "outputs": [],
   "execution_count": 18,
   "source": [
    "import torch.nn as nn\n",
    "criterion = nn.CrossEntropyLoss(ignore_index=pad_index)"
   ],
   "id": "16716a9bb375c138"
  },
  {
   "metadata": {
    "id": "33656d484447460f",
    "executionInfo": {
     "status": "ok",
     "timestamp": 1723630825225,
     "user_tz": -120,
     "elapsed": 7,
     "user": {
      "displayName": "Polina Danilovskaia",
      "userId": "10456728383422716320"
     }
    }
   },
   "cell_type": "code",
   "outputs": [],
   "execution_count": 19,
   "source": [
    "def train_fn(\n",
    "    model, data_loader, optimizer, criterion, clip, teacher_forcing_ratio, device\n",
    "):\n",
    "    model.train()\n",
    "    epoch_loss = 0\n",
    "    for i, batch in enumerate(data_loader):\n",
    "        src = batch[\"src_ids\"].to(device)\n",
    "        tgt = batch[\"tgt_ids\"].to(device)\n",
    "        # src = [src length, batch size]\n",
    "        # tgt = [tgt length, batch size]\n",
    "        optimizer.zero_grad()\n",
    "        output = model(src, tgt, teacher_forcing_ratio)\n",
    "        # output = [tgt length, batch size, tgt vocab size]\n",
    "        output_dim = output.shape[-1]\n",
    "        output = output[1:].view(-1, output_dim)\n",
    "        # output = [(tgt length - 1) * batch size, tgt vocab size]\n",
    "        tgt = tgt[1:].view(-1)\n",
    "        # tgt = [(tgt length - 1) * batch size]\n",
    "        loss = criterion(output, tgt)\n",
    "        loss.backward()\n",
    "        torch.nn.utils.clip_grad_norm_(model.parameters(), clip)\n",
    "        optimizer.step()\n",
    "        epoch_loss += loss.item()\n",
    "    return epoch_loss / len(data_loader)"
   ],
   "id": "33656d484447460f"
  },
  {
   "metadata": {
    "id": "d808dc880d30b239",
    "executionInfo": {
     "status": "ok",
     "timestamp": 1723630825225,
     "user_tz": -120,
     "elapsed": 7,
     "user": {
      "displayName": "Polina Danilovskaia",
      "userId": "10456728383422716320"
     }
    }
   },
   "cell_type": "code",
   "outputs": [],
   "execution_count": 20,
   "source": [
    "def evaluate_fn(model, data_loader, criterion, device):\n",
    "    model.eval()\n",
    "    epoch_loss = 0\n",
    "    with torch.no_grad():\n",
    "        for i, batch in enumerate(data_loader):\n",
    "            src = batch[\"src_ids\"].to(device)\n",
    "            tgt = batch[\"tgt_ids\"].to(device)\n",
    "            # src = [src length, batch size]\n",
    "            # tgt = [tgt length, batch size]\n",
    "            output = model(src, tgt, 0)  # turn off teacher forcing\n",
    "            # output = [tgt length, batch size, tgt vocab size]\n",
    "            output_dim = output.shape[-1]\n",
    "            output = output[1:].view(-1, output_dim)\n",
    "            # output = [(tgt length - 1) * batch size, tgt vocab size]\n",
    "            tgt = tgt[1:].view(-1)\n",
    "            # tgt = [(tgt length - 1) * batch size]\n",
    "            loss = criterion(output, tgt)\n",
    "            epoch_loss += loss.item()\n",
    "    return epoch_loss / len(data_loader)"
   ],
   "id": "d808dc880d30b239"
  },
  {
   "metadata": {
    "colab": {
     "base_uri": "https://localhost:8080/"
    },
    "id": "10b0d46e3397edb4",
    "outputId": "bb4eba84-bb04-4ef1-af7b-d4d64c8a6022",
    "executionInfo": {
     "status": "ok",
     "timestamp": 1723633576357,
     "user_tz": -120,
     "elapsed": 2751138,
     "user": {
      "displayName": "Polina Danilovskaia",
      "userId": "10456728383422716320"
     }
    }
   },
   "cell_type": "code",
   "outputs": [
    {
     "output_type": "stream",
     "name": "stderr",
     "text": [
      "  4%|▍         | 1/25 [02:10<52:17, 130.72s/it]"
     ]
    },
    {
     "output_type": "stream",
     "name": "stdout",
     "text": [
      "\tTrain Loss:   6.214 | Train PPL: 499.459\n",
      "\tValid Loss:   6.057 | Valid PPL: 427.221\n"
     ]
    },
    {
     "output_type": "stream",
     "name": "stderr",
     "text": [
      "\r  8%|▊         | 2/25 [04:00<45:24, 118.47s/it]"
     ]
    },
    {
     "output_type": "stream",
     "name": "stdout",
     "text": [
      "\tTrain Loss:   6.049 | Train PPL: 423.877\n",
      "\tValid Loss:   6.043 | Valid PPL: 421.301\n"
     ]
    },
    {
     "output_type": "stream",
     "name": "stderr",
     "text": [
      "\r 12%|█▏        | 3/25 [05:48<41:36, 113.47s/it]"
     ]
    },
    {
     "output_type": "stream",
     "name": "stdout",
     "text": [
      "\tTrain Loss:   6.033 | Train PPL: 416.927\n",
      "\tValid Loss:   6.038 | Valid PPL: 419.255\n"
     ]
    },
    {
     "output_type": "stream",
     "name": "stderr",
     "text": [
      "\r 16%|█▌        | 4/25 [07:35<38:48, 110.89s/it]"
     ]
    },
    {
     "output_type": "stream",
     "name": "stdout",
     "text": [
      "\tTrain Loss:   6.030 | Train PPL: 415.682\n",
      "\tValid Loss:   6.021 | Valid PPL: 412.168\n"
     ]
    },
    {
     "output_type": "stream",
     "name": "stderr",
     "text": [
      "\r 20%|██        | 5/25 [09:24<36:44, 110.20s/it]"
     ]
    },
    {
     "output_type": "stream",
     "name": "stdout",
     "text": [
      "\tTrain Loss:   5.957 | Train PPL: 386.642\n",
      "\tValid Loss:   5.902 | Valid PPL: 365.814\n"
     ]
    },
    {
     "output_type": "stream",
     "name": "stderr",
     "text": [
      "\r 24%|██▍       | 6/25 [11:11<34:33, 109.12s/it]"
     ]
    },
    {
     "output_type": "stream",
     "name": "stdout",
     "text": [
      "\tTrain Loss:   5.831 | Train PPL: 340.825\n",
      "\tValid Loss:   5.835 | Valid PPL: 342.053\n"
     ]
    },
    {
     "output_type": "stream",
     "name": "stderr",
     "text": [
      "\r 28%|██▊       | 7/25 [13:01<32:49, 109.42s/it]"
     ]
    },
    {
     "output_type": "stream",
     "name": "stdout",
     "text": [
      "\tTrain Loss:   5.742 | Train PPL: 311.654\n",
      "\tValid Loss:   5.808 | Valid PPL: 333.019\n"
     ]
    },
    {
     "output_type": "stream",
     "name": "stderr",
     "text": [
      "\r 32%|███▏      | 8/25 [14:51<31:02, 109.58s/it]"
     ]
    },
    {
     "output_type": "stream",
     "name": "stdout",
     "text": [
      "\tTrain Loss:   5.629 | Train PPL: 278.510\n",
      "\tValid Loss:   5.688 | Valid PPL: 295.403\n"
     ]
    },
    {
     "output_type": "stream",
     "name": "stderr",
     "text": [
      "\r 36%|███▌      | 9/25 [16:39<29:06, 109.15s/it]"
     ]
    },
    {
     "output_type": "stream",
     "name": "stdout",
     "text": [
      "\tTrain Loss:   5.460 | Train PPL: 235.021\n",
      "\tValid Loss:   5.614 | Valid PPL: 274.363\n"
     ]
    },
    {
     "output_type": "stream",
     "name": "stderr",
     "text": [
      "\r 40%|████      | 10/25 [18:30<27:25, 109.71s/it]"
     ]
    },
    {
     "output_type": "stream",
     "name": "stdout",
     "text": [
      "\tTrain Loss:   5.360 | Train PPL: 212.748\n",
      "\tValid Loss:   5.548 | Valid PPL: 256.775\n"
     ]
    },
    {
     "output_type": "stream",
     "name": "stderr",
     "text": [
      "\r 44%|████▍     | 11/25 [20:19<25:34, 109.62s/it]"
     ]
    },
    {
     "output_type": "stream",
     "name": "stdout",
     "text": [
      "\tTrain Loss:   5.264 | Train PPL: 193.332\n",
      "\tValid Loss:   5.475 | Valid PPL: 238.691\n"
     ]
    },
    {
     "output_type": "stream",
     "name": "stderr",
     "text": [
      "\r 48%|████▊     | 12/25 [22:08<23:43, 109.53s/it]"
     ]
    },
    {
     "output_type": "stream",
     "name": "stdout",
     "text": [
      "\tTrain Loss:   5.172 | Train PPL: 176.313\n",
      "\tValid Loss:   5.432 | Valid PPL: 228.518\n"
     ]
    },
    {
     "output_type": "stream",
     "name": "stderr",
     "text": [
      "\r 52%|█████▏    | 13/25 [23:58<21:55, 109.59s/it]"
     ]
    },
    {
     "output_type": "stream",
     "name": "stdout",
     "text": [
      "\tTrain Loss:   5.093 | Train PPL: 162.953\n",
      "\tValid Loss:   5.330 | Valid PPL: 206.346\n"
     ]
    },
    {
     "output_type": "stream",
     "name": "stderr",
     "text": [
      "\r 56%|█████▌    | 14/25 [25:47<20:04, 109.47s/it]"
     ]
    },
    {
     "output_type": "stream",
     "name": "stdout",
     "text": [
      "\tTrain Loss:   5.003 | Train PPL: 148.797\n",
      "\tValid Loss:   5.293 | Valid PPL: 198.962\n"
     ]
    },
    {
     "output_type": "stream",
     "name": "stderr",
     "text": [
      "\r 60%|██████    | 15/25 [27:38<18:18, 109.86s/it]"
     ]
    },
    {
     "output_type": "stream",
     "name": "stdout",
     "text": [
      "\tTrain Loss:   4.938 | Train PPL: 139.455\n",
      "\tValid Loss:   5.205 | Valid PPL: 182.212\n"
     ]
    },
    {
     "output_type": "stream",
     "name": "stderr",
     "text": [
      "\r 64%|██████▍   | 16/25 [29:28<16:27, 109.77s/it]"
     ]
    },
    {
     "output_type": "stream",
     "name": "stdout",
     "text": [
      "\tTrain Loss:   4.842 | Train PPL: 126.704\n",
      "\tValid Loss:   5.140 | Valid PPL: 170.664\n"
     ]
    },
    {
     "output_type": "stream",
     "name": "stderr",
     "text": [
      "\r 68%|██████▊   | 17/25 [31:18<14:38, 109.81s/it]"
     ]
    },
    {
     "output_type": "stream",
     "name": "stdout",
     "text": [
      "\tTrain Loss:   4.759 | Train PPL: 116.578\n",
      "\tValid Loss:   5.065 | Valid PPL: 158.348\n"
     ]
    },
    {
     "output_type": "stream",
     "name": "stderr",
     "text": [
      "\r 72%|███████▏  | 18/25 [33:05<12:44, 109.22s/it]"
     ]
    },
    {
     "output_type": "stream",
     "name": "stdout",
     "text": [
      "\tTrain Loss:   4.684 | Train PPL: 108.201\n",
      "\tValid Loss:   5.010 | Valid PPL: 149.860\n"
     ]
    },
    {
     "output_type": "stream",
     "name": "stderr",
     "text": [
      "\r 76%|███████▌  | 19/25 [34:54<10:53, 108.95s/it]"
     ]
    },
    {
     "output_type": "stream",
     "name": "stdout",
     "text": [
      "\tTrain Loss:   4.597 | Train PPL:  99.222\n",
      "\tValid Loss:   4.942 | Valid PPL: 140.083\n"
     ]
    },
    {
     "output_type": "stream",
     "name": "stderr",
     "text": [
      "\r 80%|████████  | 20/25 [36:44<09:07, 109.43s/it]"
     ]
    },
    {
     "output_type": "stream",
     "name": "stdout",
     "text": [
      "\tTrain Loss:   4.526 | Train PPL:  92.425\n",
      "\tValid Loss:   4.904 | Valid PPL: 134.895\n"
     ]
    },
    {
     "output_type": "stream",
     "name": "stderr",
     "text": [
      "\r 84%|████████▍ | 21/25 [38:32<07:15, 108.96s/it]"
     ]
    },
    {
     "output_type": "stream",
     "name": "stdout",
     "text": [
      "\tTrain Loss:   4.458 | Train PPL:  86.319\n",
      "\tValid Loss:   4.870 | Valid PPL: 130.276\n"
     ]
    },
    {
     "output_type": "stream",
     "name": "stderr",
     "text": [
      "\r 88%|████████▊ | 22/25 [40:21<05:26, 108.96s/it]"
     ]
    },
    {
     "output_type": "stream",
     "name": "stdout",
     "text": [
      "\tTrain Loss:   4.404 | Train PPL:  81.776\n",
      "\tValid Loss:   4.837 | Valid PPL: 126.109\n"
     ]
    },
    {
     "output_type": "stream",
     "name": "stderr",
     "text": [
      "\r 92%|█████████▏| 23/25 [42:12<03:38, 109.43s/it]"
     ]
    },
    {
     "output_type": "stream",
     "name": "stdout",
     "text": [
      "\tTrain Loss:   4.333 | Train PPL:  76.139\n",
      "\tValid Loss:   4.793 | Valid PPL: 120.630\n"
     ]
    },
    {
     "output_type": "stream",
     "name": "stderr",
     "text": [
      "\r 96%|█████████▌| 24/25 [44:01<01:49, 109.39s/it]"
     ]
    },
    {
     "output_type": "stream",
     "name": "stdout",
     "text": [
      "\tTrain Loss:   4.271 | Train PPL:  71.576\n",
      "\tValid Loss:   4.766 | Valid PPL: 117.503\n"
     ]
    },
    {
     "output_type": "stream",
     "name": "stderr",
     "text": [
      "100%|██████████| 25/25 [45:50<00:00, 110.01s/it]"
     ]
    },
    {
     "output_type": "stream",
     "name": "stdout",
     "text": [
      "\tTrain Loss:   4.219 | Train PPL:  67.986\n",
      "\tValid Loss:   4.739 | Valid PPL: 114.330\n"
     ]
    },
    {
     "output_type": "stream",
     "name": "stderr",
     "text": [
      "\n"
     ]
    }
   ],
   "execution_count": 21,
   "source": [
    "n_epochs = 25\n",
    "clip = 1.0\n",
    "teacher_forcing_ratio = 0.25\n",
    "output_model = '/content/gdrive/My Drive/Colab Notebooks/gec24/models/model6.pt'\n",
    "\n",
    "best_valid_loss = float(\"inf\")\n",
    "train_losses = []\n",
    "valid_losses = []\n",
    "\n",
    "for epoch in tqdm.tqdm(range(n_epochs)):\n",
    "    train_loss = train_fn(\n",
    "        model,\n",
    "        train_data_loader,\n",
    "        optimizer,\n",
    "        criterion,\n",
    "        clip,\n",
    "        teacher_forcing_ratio,\n",
    "        device,\n",
    "    )\n",
    "    valid_loss = evaluate_fn(\n",
    "        model,\n",
    "        dev_data_loader,\n",
    "        criterion,\n",
    "        device,\n",
    "    )\n",
    "\n",
    "    train_losses.append(train_loss)\n",
    "    valid_losses.append(valid_loss)\n",
    "\n",
    "    if valid_loss < best_valid_loss:\n",
    "        best_valid_loss = valid_loss\n",
    "        torch.save(model.state_dict(), output_model)\n",
    "    print(f\"\\tTrain Loss: {train_loss:7.3f} | Train PPL: {np.exp(train_loss):7.3f}\")\n",
    "    print(f\"\\tValid Loss: {valid_loss:7.3f} | Valid PPL: {np.exp(valid_loss):7.3f}\")"
   ],
   "id": "10b0d46e3397edb4"
  },
  {
   "metadata": {},
   "cell_type": "markdown",
   "source": "Visualizing the training:",
   "id": "495961cca4401e64"
  },
  {
   "metadata": {
    "id": "1e61bd3aa73c9b5b",
    "executionInfo": {
     "status": "ok",
     "timestamp": 1723633576358,
     "user_tz": -120,
     "elapsed": 51,
     "user": {
      "displayName": "Polina Danilovskaia",
      "userId": "10456728383422716320"
     }
    },
    "colab": {
     "base_uri": "https://localhost:8080/",
     "height": 433
    },
    "outputId": "5a6bfc04-53f2-4adc-c683-7e4b39f22561"
   },
   "cell_type": "code",
   "outputs": [
    {
     "output_type": "display_data",
     "data": {
      "text/plain": [
       "<Figure size 1000x500 with 1 Axes>"
      ],
      "image/png": "[encoded data removed]"
     },
     "metadata": {}
    }
   ],
   "execution_count": 22,
   "source": [
    "plt.figure(figsize=(10, 5))\n",
    "plt.plot(train_losses, label='Train Loss')\n",
    "plt.plot(valid_losses, label='Validation Loss')\n",
    "plt.xlabel('Epochs')\n",
    "plt.ylabel('Loss')\n",
    "plt.title('Training and Validation Loss')\n",
    "plt.legend()\n",
    "plt.show()"
   ],
   "id": "1e61bd3aa73c9b5b"
  },
  {
   "metadata": {},
   "cell_type": "markdown",
   "source": "Computing test loss:",
   "id": "825731b98b625508"
  },
  {
   "metadata": {
    "id": "efdcd1a03e480ad8",
    "executionInfo": {
     "status": "ok",
     "timestamp": 1723633578045,
     "user_tz": -120,
     "elapsed": 1715,
     "user": {
      "displayName": "Polina Danilovskaia",
      "userId": "10456728383422716320"
     }
    },
    "colab": {
     "base_uri": "https://localhost:8080/"
    },
    "outputId": "4e5d612e-26cc-4128-817c-94a028b8d5eb"
   },
   "cell_type": "code",
   "outputs": [
    {
     "output_type": "stream",
     "name": "stdout",
     "text": [
      "| Test Loss: 5.396 | Test PPL: 220.524 |\n"
     ]
    }
   ],
   "execution_count": 23,
   "source": [
    "model.load_state_dict(torch.load(output_model))\n",
    "\n",
    "test_loss = evaluate_fn(model, test_data_loader, criterion, device)\n",
    "\n",
    "print(f\"| Test Loss: {test_loss:.3f} | Test PPL: {np.exp(test_loss):7.3f} |\")"
   ],
   "id": "efdcd1a03e480ad8"
  },
  {
   "metadata": {},
   "cell_type": "markdown",
   "source": "At last, we can see how our model makes corrections to three sentences in practice.",
   "id": "935ffc02d449ec00"
  },
  {
   "cell_type": "code",
   "source": [
    "def correct_sentence(\n",
    "    sentence,\n",
    "    model,\n",
    "    sp,\n",
    "    sos_token,\n",
    "    eos_token,\n",
    "    device,\n",
    "    max_output_length=25,\n",
    "):\n",
    "    model.eval()\n",
    "    with torch.no_grad():\n",
    "        # Tokenize sentence with SentencePiece\n",
    "        tokens = sp.encode_as_pieces(sentence)\n",
    "        tokens = [sos_token] + tokens + [eos_token]  # Add SOS and EOS tokens\n",
    "\n",
    "        # Encode tokens to get IDs\n",
    "        ids = sp.encode_as_ids(sentence)\n",
    "        tensor = torch.LongTensor(ids).unsqueeze(-1).to(device)\n",
    "\n",
    "        hidden, cell = model.encoder(tensor)\n",
    "\n",
    "        inputs = [sp.bos_id()]  # Use BOS token ID\n",
    "        for _ in range(max_output_length):\n",
    "            inputs_tensor = torch.LongTensor([inputs[-1]]).to(device)\n",
    "            output, hidden, cell = model.decoder(inputs_tensor, hidden, cell)\n",
    "            predicted_token_id = output.argmax(-1).item()\n",
    "            inputs.append(predicted_token_id)\n",
    "            if predicted_token_id == sp.eos_id():\n",
    "                break\n",
    "\n",
    "        # Decode predicted token IDs to tokens\n",
    "        predicted_tokens = sp.decode_ids(inputs)\n",
    "\n",
    "    return predicted_tokens"
   ],
   "metadata": {
    "id": "3eWS_vbeBMjB",
    "executionInfo": {
     "status": "ok",
     "timestamp": 1723633578046,
     "user_tz": -120,
     "elapsed": 77,
     "user": {
      "displayName": "Polina Danilovskaia",
      "userId": "10456728383422716320"
     }
    }
   },
   "id": "3eWS_vbeBMjB",
   "execution_count": 24,
   "outputs": []
  },
  {
   "metadata": {},
   "cell_type": "markdown",
   "source": "First example",
   "id": "74cc78c1207a8ec2"
  },
  {
   "cell_type": "code",
   "source": [
    "sentence = test_data[17][\"src\"]\n",
    "expected_correction = test_data[17][\"tgt\"]\n",
    "sentence, expected_correction"
   ],
   "metadata": {
    "id": "1dm_CfSGB50_",
    "executionInfo": {
     "status": "ok",
     "timestamp": 1723633578047,
     "user_tz": -120,
     "elapsed": 76,
     "user": {
      "displayName": "Polina Danilovskaia",
      "userId": "10456728383422716320"
     }
    },
    "colab": {
     "base_uri": "https://localhost:8080/"
    },
    "outputId": "2763d79c-dc25-4459-d4b7-a8a9462cb880"
   },
   "id": "1dm_CfSGB50_",
   "execution_count": 25,
   "outputs": [
    {
     "output_type": "execute_result",
     "data": {
      "text/plain": [
       "(\"Although such a show of strength by these works ' characters is sometimes viewed as a violent and therefore negative contribution to the otherwise insightful thought of the author , it is this conflict upon which many stories of ethnic American literature are based .\",\n",
       " \"Although such a show of strength by these works ' characters is sometimes viewed as a violent and therefore negative contribution to the otherwise insightful thought of the author , it is this conflict upon which many stories of ethnic American literature are based .\")"
      ]
     },
     "metadata": {},
     "execution_count": 25
    }
   ]
  },
  {
   "cell_type": "code",
   "source": [
    "correction = correct_sentence(\n",
    "    sentence,\n",
    "    model,\n",
    "    sp,\n",
    "    'BOS',\n",
    "    'EOS',\n",
    "    'cuda'\n",
    ")"
   ],
   "metadata": {
    "id": "IE96PTZGBepU",
    "executionInfo": {
     "status": "ok",
     "timestamp": 1723633578047,
     "user_tz": -120,
     "elapsed": 62,
     "user": {
      "displayName": "Polina Danilovskaia",
      "userId": "10456728383422716320"
     }
    }
   },
   "id": "IE96PTZGBepU",
   "execution_count": 26,
   "outputs": []
  },
  {
   "cell_type": "code",
   "source": [
    "correction"
   ],
   "metadata": {
    "id": "NMtswIM0Blu4",
    "executionInfo": {
     "status": "ok",
     "timestamp": 1723633578047,
     "user_tz": -120,
     "elapsed": 61,
     "user": {
      "displayName": "Polina Danilovskaia",
      "userId": "10456728383422716320"
     }
    },
    "colab": {
     "base_uri": "https://localhost:8080/",
     "height": 56
    },
    "outputId": "60593f32-6f8f-43f8-f7fb-12d641494149"
   },
   "id": "NMtswIM0Blu4",
   "execution_count": 27,
   "outputs": [
    {
     "output_type": "execute_result",
     "data": {
      "text/plain": [
       "'If thaty has a a of ofs ,ingingsss , , , , , , , , ,'"
      ],
      "application/vnd.google.colaboratory.intrinsic+json": {
       "type": "string"
      }
     },
     "metadata": {},
     "execution_count": 27
    }
   ]
  },
  {
   "metadata": {},
   "cell_type": "markdown",
   "source": "Second example",
   "id": "8c713d10cfcf1326"
  },
  {
   "cell_type": "code",
   "source": [
    "sentence = test_data[34][\"src\"]\n",
    "expected_correction = test_data[34][\"tgt\"]\n",
    "sentence, expected_correction"
   ],
   "metadata": {
    "id": "x2FzxDUnCIVt",
    "executionInfo": {
     "status": "ok",
     "timestamp": 1723633578048,
     "user_tz": -120,
     "elapsed": 59,
     "user": {
      "displayName": "Polina Danilovskaia",
      "userId": "10456728383422716320"
     }
    },
    "colab": {
     "base_uri": "https://localhost:8080/"
    },
    "outputId": "afb6171f-084e-40a5-c477-939d0dab354a"
   },
   "id": "x2FzxDUnCIVt",
   "execution_count": 28,
   "outputs": [
    {
     "output_type": "execute_result",
     "data": {
      "text/plain": [
       "('On arrival they see starvation and death .',\n",
       " 'On arrival they see starvation and death .')"
      ]
     },
     "metadata": {},
     "execution_count": 28
    }
   ]
  },
  {
   "cell_type": "code",
   "source": [
    "correction = correct_sentence(\n",
    "    sentence,\n",
    "    model,\n",
    "    sp,\n",
    "    'BOS',\n",
    "    'EOS',\n",
    "    'cuda'\n",
    ")\n",
    "correction"
   ],
   "metadata": {
    "id": "_-iwHjwbCMUm",
    "executionInfo": {
     "status": "ok",
     "timestamp": 1723633578048,
     "user_tz": -120,
     "elapsed": 45,
     "user": {
      "displayName": "Polina Danilovskaia",
      "userId": "10456728383422716320"
     }
    },
    "colab": {
     "base_uri": "https://localhost:8080/",
     "height": 56
    },
    "outputId": "4ecd611b-f8eb-4ca4-d387-c1ae8d86cea1"
   },
   "id": "_-iwHjwbCMUm",
   "execution_count": 29,
   "outputs": [
    {
     "output_type": "execute_result",
     "data": {
      "text/plain": [
       "'In this , , thesss .'"
      ],
      "application/vnd.google.colaboratory.intrinsic+json": {
       "type": "string"
      }
     },
     "metadata": {},
     "execution_count": 29
    }
   ]
  },
  {
   "metadata": {},
   "cell_type": "markdown",
   "source": "Third example",
   "id": "8a0bf7fe39abc739"
  },
  {
   "cell_type": "code",
   "source": [
    "sentence = 'Two cats is catching a butterfly.'\n",
    "correction = correct_sentence(\n",
    "    sentence,\n",
    "    model,\n",
    "    sp,\n",
    "    'BOS',\n",
    "    'EOS',\n",
    "    'cuda'\n",
    ")\n",
    "correction"
   ],
   "metadata": {
    "id": "EaQYWcNqcYaM",
    "executionInfo": {
     "status": "ok",
     "timestamp": 1723633578049,
     "user_tz": -120,
     "elapsed": 44,
     "user": {
      "displayName": "Polina Danilovskaia",
      "userId": "10456728383422716320"
     }
    },
    "colab": {
     "base_uri": "https://localhost:8080/",
     "height": 56
    },
    "outputId": "f7864bc5-8af7-4477-b405-d6a60eca5814"
   },
   "id": "EaQYWcNqcYaM",
   "execution_count": 30,
   "outputs": [
    {
     "output_type": "execute_result",
     "data": {
      "text/plain": [
       "'After ainginging ase . .'"
      ],
      "application/vnd.google.colaboratory.intrinsic+json": {
       "type": "string"
      }
     },
     "metadata": {},
     "execution_count": 30
    }
   ]
  }
 ],
 "metadata": {
  "kernelspec": {
   "display_name": "Python 3",
   "name": "python3"
  },
  "language_info": {
   "codemirror_mode": {
    "name": "ipython",
    "version": 2
   },
   "file_extension": ".py",
   "mimetype": "text/x-python",
   "name": "python",
   "nbconvert_exporter": "python",
   "pygments_lexer": "ipython2",
   "version": "2.7.6"
  },
  "colab": {
   "provenance": [],
   "gpuType": "A100"
  },
  "accelerator": "GPU"
 },
 "nbformat": 4,
 "nbformat_minor": 5
}
