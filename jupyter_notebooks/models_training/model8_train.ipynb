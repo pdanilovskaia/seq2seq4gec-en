{
 "cells": [
  {
   "metadata": {
    "id": "1cfec7ae913db671"
   },
   "cell_type": "markdown",
   "source": [
    "## Seq2Seq Model\n",
    "\n",
    "In this notebook, we finally construct our an encoder-decoder model for Grammatical Error Correction, modifying the hyperparameters, visualising the training and validation processes, and examining a selection of examples from the test data.\n",
    "\n",
    " The following notebook was developed based on the teaching unit at the University of Potsdam of Meng Li, which in turn was inspired by  [Ben Trevett's Seq2seq tutorial](https://github.com/bentrevett/pytorch-seq2seq/). "
   ],
   "id": "1cfec7ae913db671"
  },
  {
   "cell_type": "code",
   "source": [
    "from google.colab import drive\n",
    "drive.mount('/content/gdrive')"
   ],
   "metadata": {
    "colab": {
     "base_uri": "https://localhost:8080/"
    },
    "id": "Sy-rLnJCyBR7",
    "executionInfo": {
     "status": "ok",
     "timestamp": 1723708915180,
     "user_tz": -120,
     "elapsed": 29924,
     "user": {
      "displayName": "Polina Danilovskaia",
      "userId": "10456728383422716320"
     }
    },
    "outputId": "42b16272-fd5b-441e-a73d-a96d2165d044"
   },
   "id": "Sy-rLnJCyBR7",
   "execution_count": 1,
   "outputs": [
    {
     "output_type": "stream",
     "name": "stdout",
     "text": [
      "Mounted at /content/gdrive\n"
     ]
    }
   ]
  },
  {
   "cell_type": "code",
   "source": [
    "import os\n",
    "PATH = r\"/content/gdrive/My Drive/Colab Notebooks/gec24\"\n",
    "os.chdir(PATH)"
   ],
   "metadata": {
    "id": "kT-XG_oRyE7x",
    "executionInfo": {
     "status": "ok",
     "timestamp": 1723708930130,
     "user_tz": -120,
     "elapsed": 13,
     "user": {
      "displayName": "Polina Danilovskaia",
      "userId": "10456728383422716320"
     }
    }
   },
   "id": "kT-XG_oRyE7x",
   "execution_count": 5,
   "outputs": []
  },
  {
   "metadata": {
    "id": "d916dd2b9945a8a0",
    "executionInfo": {
     "status": "ok",
     "timestamp": 1723708933800,
     "user_tz": -120,
     "elapsed": 3676,
     "user": {
      "displayName": "Polina Danilovskaia",
      "userId": "10456728383422716320"
     }
    }
   },
   "cell_type": "code",
   "outputs": [],
   "execution_count": 6,
   "source": [
    "import torch\n",
    "import torch.nn as nn\n",
    "import matplotlib.pyplot as plt\n",
    "import random\n",
    "import tqdm\n",
    "import numpy as np\n",
    "import sentencepiece as spm"
   ],
   "id": "d916dd2b9945a8a0"
  },
  {
   "metadata": {
    "id": "742bb89b218ce013"
   },
   "cell_type": "markdown",
   "source": "Let's start by creating a function that will pad our sequences to the desired length.",
   "id": "742bb89b218ce013"
  },
  {
   "metadata": {
    "id": "77f82a4c70b6f8ba",
    "executionInfo": {
     "status": "ok",
     "timestamp": 1723708933800,
     "user_tz": -120,
     "elapsed": 9,
     "user": {
      "displayName": "Polina Danilovskaia",
      "userId": "10456728383422716320"
     }
    }
   },
   "cell_type": "code",
   "outputs": [],
   "execution_count": 7,
   "source": [
    "def get_collate_fn(pad_index):\n",
    "    def collate_fn(batch):\n",
    "        batch_src_ids = [example[\"src_ids\"] for example in batch]\n",
    "        batch_tgt_ids = [example[\"tgt_ids\"] for example in batch]\n",
    "        batch_src_ids = nn.utils.rnn.pad_sequence(batch_src_ids, padding_value=pad_index)\n",
    "        batch_tgt_ids = nn.utils.rnn.pad_sequence(batch_tgt_ids, padding_value=pad_index)\n",
    "        batch = {\n",
    "            \"src_ids\": batch_src_ids,\n",
    "            \"tgt_ids\": batch_tgt_ids,\n",
    "        }\n",
    "        return batch\n",
    "\n",
    "    return collate_fn"
   ],
   "id": "77f82a4c70b6f8ba"
  },
  {
   "metadata": {
    "id": "1f5ee17c9da7b060"
   },
   "cell_type": "markdown",
   "source": [
    "Next, we write the functions which give us our data loaders creating using PyTorch's DataLoader class.\n",
    "get_data_loader is created using a Dataset, the batch size, the padding token index (which is used for creating the batches in the collate_fn, and a boolean deciding if the examples should be shuffled at the time the data loader is iterated over.\n",
    "The batch size defines the maximum amount of examples within a batch. If the length of the dataset is not evenly divisible by the batch size then the last batch will be smaller."
   ],
   "id": "1f5ee17c9da7b060"
  },
  {
   "metadata": {
    "id": "68f07d33bc08875f",
    "executionInfo": {
     "status": "ok",
     "timestamp": 1723708933800,
     "user_tz": -120,
     "elapsed": 8,
     "user": {
      "displayName": "Polina Danilovskaia",
      "userId": "10456728383422716320"
     }
    }
   },
   "cell_type": "code",
   "outputs": [],
   "execution_count": 8,
   "source": [
    "def get_data_loader(dataset, batch_size, pad_index, shuffle=False):\n",
    "    collate_fn = get_collate_fn(pad_index)\n",
    "    data_loader = torch.utils.data.DataLoader(\n",
    "        dataset=dataset,\n",
    "        batch_size=batch_size,\n",
    "        collate_fn=collate_fn,\n",
    "        shuffle=shuffle,\n",
    "    )\n",
    "    return data_loader"
   ],
   "id": "68f07d33bc08875f"
  },
  {
   "metadata": {
    "id": "cdccc46c1e8cd4dc",
    "executionInfo": {
     "status": "ok",
     "timestamp": 1723708933801,
     "user_tz": -120,
     "elapsed": 8,
     "user": {
      "displayName": "Polina Danilovskaia",
      "userId": "10456728383422716320"
     }
    }
   },
   "cell_type": "code",
   "outputs": [],
   "execution_count": 9,
   "source": [
    "model_name = 'unigram_16000'"
   ],
   "id": "cdccc46c1e8cd4dc"
  },
  {
   "cell_type": "markdown",
   "source": "Loading data:",
   "metadata": {
    "id": "yv0m433yyI3Y"
   },
   "id": "yv0m433yyI3Y"
  },
  {
   "metadata": {
    "id": "552f4b859db744f8",
    "executionInfo": {
     "status": "ok",
     "timestamp": 1723708945464,
     "user_tz": -120,
     "elapsed": 11671,
     "user": {
      "displayName": "Polina Danilovskaia",
      "userId": "10456728383422716320"
     }
    }
   },
   "cell_type": "code",
   "outputs": [],
   "execution_count": 10,
   "source": [
    "train_data = torch.load(\"/content/gdrive/My Drive/Colab Notebooks/gec24/data/tokenized_data/unigram_16000_train.pt\")\n",
    "dev_data = torch.load(\"/content/gdrive/My Drive/Colab Notebooks/gec24/data/tokenized_data/unigram_16000_dev.pt\")\n",
    "test_data = torch.load(\"/content/gdrive/My Drive/Colab Notebooks/gec24/data/tokenized_data/unigram_16000_test.pt\")"
   ],
   "id": "552f4b859db744f8"
  },
  {
   "metadata": {
    "id": "80decdf60398939",
    "executionInfo": {
     "status": "ok",
     "timestamp": 1723708946992,
     "user_tz": -120,
     "elapsed": 704,
     "user": {
      "displayName": "Polina Danilovskaia",
      "userId": "10456728383422716320"
     }
    }
   },
   "cell_type": "code",
   "outputs": [],
   "execution_count": 11,
   "source": [
    "model_filename = 'tokenizer_models/' + model_name + '.model'\n",
    "sp = spm.SentencePieceProcessor(model_file=model_filename)"
   ],
   "id": "80decdf60398939"
  },
  {
   "metadata": {
    "id": "acd0ea57630cad83"
   },
   "cell_type": "markdown",
   "source": [
    "Finally, we create our data loaders.\n",
    "\n",
    "Shuffling of data makes training more stable and potentially improves the final performance of the model, however only needs to be done on the training set."
   ],
   "id": "acd0ea57630cad83"
  },
  {
   "metadata": {
    "id": "9790cdc191017a0b",
    "executionInfo": {
     "status": "ok",
     "timestamp": 1723708946992,
     "user_tz": -120,
     "elapsed": 7,
     "user": {
      "displayName": "Polina Danilovskaia",
      "userId": "10456728383422716320"
     }
    }
   },
   "cell_type": "code",
   "outputs": [],
   "execution_count": 12,
   "source": [
    "batch_size = 256\n",
    "pad_index = 0\n",
    "\n",
    "train_data_loader = get_data_loader(train_data, batch_size, pad_index, shuffle=True)\n",
    "dev_data_loader = get_data_loader(dev_data, batch_size, pad_index)\n",
    "test_data_loader = get_data_loader(test_data, batch_size, pad_index)"
   ],
   "id": "9790cdc191017a0b"
  },
  {
   "metadata": {
    "id": "b452bafe84aa74b0"
   },
   "cell_type": "markdown",
   "source": "### Building  a model",
   "id": "b452bafe84aa74b0"
  },
  {
   "metadata": {
    "id": "333d2c5448e31110",
    "executionInfo": {
     "status": "ok",
     "timestamp": 1723708946992,
     "user_tz": -120,
     "elapsed": 6,
     "user": {
      "displayName": "Polina Danilovskaia",
      "userId": "10456728383422716320"
     }
    }
   },
   "cell_type": "code",
   "outputs": [],
   "execution_count": 13,
   "source": [
    "class Encoder(nn.Module):\n",
    "    def __init__(self, input_dim, embedding_dim, hidden_dim, n_layers, dropout):\n",
    "        super().__init__()\n",
    "        self.hidden_dim = hidden_dim\n",
    "        self.n_layers = n_layers\n",
    "        self.embedding = nn.Embedding(input_dim, embedding_dim)\n",
    "        self.rnn = nn.LSTM(embedding_dim, hidden_dim, n_layers, dropout=dropout)\n",
    "        self.dropout = nn.Dropout(dropout)\n",
    "\n",
    "    def forward(self, src):\n",
    "        # src = [src length, batch size]\n",
    "        embedded = self.dropout(self.embedding(src))\n",
    "        # embedded = [src length, batch size, embedding dim]\n",
    "        outputs, (hidden, cell) = self.rnn(embedded)\n",
    "        # outputs = [src length, batch size, hidden dim * n directions]\n",
    "        # hidden = [n layers * n directions, batch size, hidden dim]\n",
    "        # cell = [n layers * n directions, batch size, hidden dim]\n",
    "        # outputs are always from the top hidden layer\n",
    "        return hidden, cell"
   ],
   "id": "333d2c5448e31110"
  },
  {
   "metadata": {
    "id": "cbd807ef8a026cae",
    "executionInfo": {
     "status": "ok",
     "timestamp": 1723708946992,
     "user_tz": -120,
     "elapsed": 6,
     "user": {
      "displayName": "Polina Danilovskaia",
      "userId": "10456728383422716320"
     }
    }
   },
   "cell_type": "code",
   "outputs": [],
   "execution_count": 14,
   "source": [
    "class Decoder(nn.Module):\n",
    "    def __init__(self, output_dim, embedding_dim, hidden_dim, n_layers, dropout):\n",
    "        super().__init__()\n",
    "        self.output_dim = output_dim\n",
    "        self.hidden_dim = hidden_dim\n",
    "        self.n_layers = n_layers\n",
    "        self.embedding = nn.Embedding(output_dim, embedding_dim)\n",
    "        self.rnn = nn.LSTM(embedding_dim, hidden_dim, n_layers, dropout=dropout)\n",
    "        self.fc_out = nn.Linear(hidden_dim, output_dim)\n",
    "        self.dropout = nn.Dropout(dropout)\n",
    "\n",
    "    def forward(self, input, hidden, cell):\n",
    "        # input = [batch size]\n",
    "        # hidden = [n layers * n directions, batch size, hidden dim]\n",
    "        # cell = [n layers * n directions, batch size, hidden dim]\n",
    "        # n directions in the decoder will both always be 1, therefore:\n",
    "        # hidden = [n layers, batch size, hidden dim]\n",
    "        # context = [n layers, batch size, hidden dim]\n",
    "        input = input.unsqueeze(0)\n",
    "        # input = [1, batch size]\n",
    "        embedded = self.dropout(self.embedding(input))\n",
    "        # embedded = [1, batch size, embedding dim]\n",
    "        output, (hidden, cell) = self.rnn(embedded, (hidden, cell))\n",
    "        # output = [seq length, batch size, hidden dim * n directions]\n",
    "        # hidden = [n layers * n directions, batch size, hidden dim]\n",
    "        # cell = [n layers * n directions, batch size, hidden dim]\n",
    "        # seq length and n directions will always be 1 in this decoder, therefore:\n",
    "        # output = [1, batch size, hidden dim]\n",
    "        # hidden = [n layers, batch size, hidden dim]\n",
    "        # cell = [n layers, batch size, hidden dim]\n",
    "        prediction = self.fc_out(output.squeeze(0))\n",
    "        # prediction = [batch size, output dim]\n",
    "        return prediction, hidden, cell"
   ],
   "id": "cbd807ef8a026cae"
  },
  {
   "metadata": {
    "id": "94f8f70283fdfb6b",
    "executionInfo": {
     "status": "ok",
     "timestamp": 1723708946992,
     "user_tz": -120,
     "elapsed": 6,
     "user": {
      "displayName": "Polina Danilovskaia",
      "userId": "10456728383422716320"
     }
    }
   },
   "cell_type": "code",
   "outputs": [],
   "execution_count": 15,
   "source": [
    "class Seq2Seq(nn.Module):\n",
    "    def __init__(self, encoder, decoder, device):\n",
    "        super().__init__()\n",
    "        self.encoder = encoder\n",
    "        self.decoder = decoder\n",
    "        self.device = device\n",
    "        assert (\n",
    "            encoder.hidden_dim == decoder.hidden_dim\n",
    "        ), \"Hidden dimensions of encoder and decoder must be equal!\"\n",
    "        assert (\n",
    "            encoder.n_layers == decoder.n_layers\n",
    "        ), \"Encoder and decoder must have equal number of layers!\"\n",
    "\n",
    "    def forward(self, src, tgt, teacher_forcing_ratio):\n",
    "        # src = [src length, batch size]\n",
    "        # tgt = [tgt length, batch size]\n",
    "        # teacher_forcing_ratio is probability to use teacher forcing\n",
    "        # e.g. if teacher_forcing_ratio is 0.75 we use ground-truth inputs 75% of the time\n",
    "        batch_size = tgt.shape[1]\n",
    "        tgt_length = tgt.shape[0]\n",
    "        tgt_vocab_size = self.decoder.output_dim\n",
    "        # tensor to store decoder outputs\n",
    "        outputs = torch.zeros(tgt_length, batch_size, tgt_vocab_size).to(self.device)\n",
    "        # last hidden state of the encoder is used as the initial hidden state of the decoder\n",
    "        hidden, cell = self.encoder(src)\n",
    "        # hidden = [n layers * n directions, batch size, hidden dim]\n",
    "        # cell = [n layers * n directions, batch size, hidden dim]\n",
    "        # first input to the decoder is the <sos> tokens\n",
    "        input = tgt[0, :]\n",
    "        # input = [batch size]\n",
    "        for t in range(1, tgt_length):\n",
    "            # insert input token embedding, previous hidden and previous cell states\n",
    "            # receive output tensor (predictions) and new hidden and cell states\n",
    "            output, hidden, cell = self.decoder(input, hidden, cell)\n",
    "            # output = [batch size, output dim]\n",
    "            # hidden = [n layers, batch size, hidden dim]\n",
    "            # cell = [n layers, batch size, hidden dim]\n",
    "            # place predictions in a tensor holding predictions for each token\n",
    "            outputs[t] = output\n",
    "            # decide if we are going to use teacher forcing or not\n",
    "            teacher_force = random.random() < teacher_forcing_ratio\n",
    "            # get the highest predicted token from our predictions\n",
    "            top1 = output.argmax(1)\n",
    "            # if teacher forcing, use actual next token as next input\n",
    "            # if not, use predicted token\n",
    "            input = tgt[t] if teacher_force else top1\n",
    "            # input = [batch size]\n",
    "        return outputs"
   ],
   "id": "94f8f70283fdfb6b"
  },
  {
   "metadata": {},
   "cell_type": "markdown",
   "source": "Setting up the model",
   "id": "732f0de100f892db"
  },
  {
   "metadata": {
    "id": "6aeb28606ff0c91d",
    "executionInfo": {
     "status": "ok",
     "timestamp": 1723708947555,
     "user_tz": -120,
     "elapsed": 568,
     "user": {
      "displayName": "Polina Danilovskaia",
      "userId": "10456728383422716320"
     }
    }
   },
   "cell_type": "code",
   "outputs": [],
   "execution_count": 16,
   "source": [
    "input_dim = sp.get_piece_size()\n",
    "output_dim = sp.get_piece_size()\n",
    "encoder_embedding_dim = 512\n",
    "decoder_embedding_dim = 512\n",
    "hidden_dim = 512\n",
    "n_layers = 4\n",
    "encoder_dropout = 0.5\n",
    "decoder_dropout = 0.5\n",
    "torch.cuda.empty_cache()\n",
    "device = torch.device(\"cuda\" if torch.cuda.is_available() else \"cpu\")\n",
    "\n",
    "encoder = Encoder(\n",
    "    input_dim,\n",
    "    encoder_embedding_dim,\n",
    "    hidden_dim,\n",
    "    n_layers,\n",
    "    encoder_dropout,\n",
    ")\n",
    "\n",
    "decoder = Decoder(\n",
    "    output_dim,\n",
    "    decoder_embedding_dim,\n",
    "    hidden_dim,\n",
    "    n_layers,\n",
    "    decoder_dropout,\n",
    ")\n",
    "\n",
    "model = Seq2Seq(encoder, decoder, device).to(device)"
   ],
   "id": "6aeb28606ff0c91d"
  },
  {
   "metadata": {
    "colab": {
     "base_uri": "https://localhost:8080/"
    },
    "id": "55d985b695967ac3",
    "executionInfo": {
     "status": "ok",
     "timestamp": 1723708947556,
     "user_tz": -120,
     "elapsed": 11,
     "user": {
      "displayName": "Polina Danilovskaia",
      "userId": "10456728383422716320"
     }
    },
    "outputId": "e3942979-1bca-44be-d018-d17b7a1cbd13"
   },
   "cell_type": "code",
   "outputs": [
    {
     "output_type": "execute_result",
     "data": {
      "text/plain": [
       "Seq2Seq(\n",
       "  (encoder): Encoder(\n",
       "    (embedding): Embedding(16000, 512)\n",
       "    (rnn): LSTM(512, 512, num_layers=4, dropout=0.5)\n",
       "    (dropout): Dropout(p=0.5, inplace=False)\n",
       "  )\n",
       "  (decoder): Decoder(\n",
       "    (embedding): Embedding(16000, 512)\n",
       "    (rnn): LSTM(512, 512, num_layers=4, dropout=0.5)\n",
       "    (fc_out): Linear(in_features=512, out_features=16000, bias=True)\n",
       "    (dropout): Dropout(p=0.5, inplace=False)\n",
       "  )\n",
       ")"
      ]
     },
     "metadata": {},
     "execution_count": 17
    }
   ],
   "execution_count": 17,
   "source": [
    "def init_weights(m):\n",
    "    for name, param in m.named_parameters():\n",
    "        nn.init.uniform_(param.data, -0.08, 0.08)\n",
    "\n",
    "\n",
    "model.apply(init_weights)"
   ],
   "id": "55d985b695967ac3"
  },
  {
   "metadata": {
    "colab": {
     "base_uri": "https://localhost:8080/"
    },
    "id": "13ae498d465b850d",
    "executionInfo": {
     "status": "ok",
     "timestamp": 1723708947556,
     "user_tz": -120,
     "elapsed": 10,
     "user": {
      "displayName": "Polina Danilovskaia",
      "userId": "10456728383422716320"
     }
    },
    "outputId": "e7054a22-c0d3-4f71-d1d9-cadd882dd76a"
   },
   "cell_type": "code",
   "outputs": [
    {
     "output_type": "stream",
     "name": "stdout",
     "text": [
      "The model has 41,401,984 trainable parameters\n"
     ]
    }
   ],
   "execution_count": 18,
   "source": [
    "def count_parameters(model):\n",
    "    return sum(p.numel() for p in model.parameters() if p.requires_grad)\n",
    "\n",
    "\n",
    "print(f\"The model has {count_parameters(model):,} trainable parameters\")"
   ],
   "id": "13ae498d465b850d"
  },
  {
   "metadata": {
    "id": "a4262b5d61db250",
    "executionInfo": {
     "status": "ok",
     "timestamp": 1723708949477,
     "user_tz": -120,
     "elapsed": 1928,
     "user": {
      "displayName": "Polina Danilovskaia",
      "userId": "10456728383422716320"
     }
    }
   },
   "cell_type": "code",
   "outputs": [],
   "execution_count": 19,
   "source": [
    "import torch.optim as optim\n",
    "optimizer = optim.Adam(model.parameters())"
   ],
   "id": "a4262b5d61db250"
  },
  {
   "metadata": {
    "id": "16716a9bb375c138",
    "executionInfo": {
     "status": "ok",
     "timestamp": 1723708949477,
     "user_tz": -120,
     "elapsed": 14,
     "user": {
      "displayName": "Polina Danilovskaia",
      "userId": "10456728383422716320"
     }
    }
   },
   "cell_type": "code",
   "outputs": [],
   "execution_count": 20,
   "source": [
    "import torch.nn as nn\n",
    "criterion = nn.CrossEntropyLoss(ignore_index=pad_index)"
   ],
   "id": "16716a9bb375c138"
  },
  {
   "metadata": {
    "id": "33656d484447460f",
    "executionInfo": {
     "status": "ok",
     "timestamp": 1723708949477,
     "user_tz": -120,
     "elapsed": 7,
     "user": {
      "displayName": "Polina Danilovskaia",
      "userId": "10456728383422716320"
     }
    }
   },
   "cell_type": "code",
   "outputs": [],
   "execution_count": 21,
   "source": [
    "def train_fn(\n",
    "    model, data_loader, optimizer, criterion, clip, teacher_forcing_ratio, device\n",
    "):\n",
    "    model.train()\n",
    "    epoch_loss = 0\n",
    "    for i, batch in enumerate(data_loader):\n",
    "        src = batch[\"src_ids\"].to(device)\n",
    "        tgt = batch[\"tgt_ids\"].to(device)\n",
    "        # src = [src length, batch size]\n",
    "        # tgt = [tgt length, batch size]\n",
    "        optimizer.zero_grad()\n",
    "        output = model(src, tgt, teacher_forcing_ratio)\n",
    "        # output = [tgt length, batch size, tgt vocab size]\n",
    "        output_dim = output.shape[-1]\n",
    "        output = output[1:].view(-1, output_dim)\n",
    "        # output = [(tgt length - 1) * batch size, tgt vocab size]\n",
    "        tgt = tgt[1:].view(-1)\n",
    "        # tgt = [(tgt length - 1) * batch size]\n",
    "        loss = criterion(output, tgt)\n",
    "        loss.backward()\n",
    "        torch.nn.utils.clip_grad_norm_(model.parameters(), clip)\n",
    "        optimizer.step()\n",
    "        epoch_loss += loss.item()\n",
    "    return epoch_loss / len(data_loader)"
   ],
   "id": "33656d484447460f"
  },
  {
   "metadata": {
    "id": "d808dc880d30b239",
    "executionInfo": {
     "status": "ok",
     "timestamp": 1723708949477,
     "user_tz": -120,
     "elapsed": 7,
     "user": {
      "displayName": "Polina Danilovskaia",
      "userId": "10456728383422716320"
     }
    }
   },
   "cell_type": "code",
   "outputs": [],
   "execution_count": 22,
   "source": [
    "def evaluate_fn(model, data_loader, criterion, device):\n",
    "    model.eval()\n",
    "    epoch_loss = 0\n",
    "    with torch.no_grad():\n",
    "        for i, batch in enumerate(data_loader):\n",
    "            src = batch[\"src_ids\"].to(device)\n",
    "            tgt = batch[\"tgt_ids\"].to(device)\n",
    "            # src = [src length, batch size]\n",
    "            # tgt = [tgt length, batch size]\n",
    "            output = model(src, tgt, 0)  # turn off teacher forcing\n",
    "            # output = [tgt length, batch size, tgt vocab size]\n",
    "            output_dim = output.shape[-1]\n",
    "            output = output[1:].view(-1, output_dim)\n",
    "            # output = [(tgt length - 1) * batch size, tgt vocab size]\n",
    "            tgt = tgt[1:].view(-1)\n",
    "            # tgt = [(tgt length - 1) * batch size]\n",
    "            loss = criterion(output, tgt)\n",
    "            epoch_loss += loss.item()\n",
    "    return epoch_loss / len(data_loader)"
   ],
   "id": "d808dc880d30b239"
  },
  {
   "metadata": {
    "colab": {
     "base_uri": "https://localhost:8080/"
    },
    "id": "10b0d46e3397edb4",
    "outputId": "7c3357fe-d66d-497a-f6b8-004ac608028d",
    "executionInfo": {
     "status": "ok",
     "timestamp": 1723714676902,
     "user_tz": -120,
     "elapsed": 1037593,
     "user": {
      "displayName": "Polina Danilovskaia",
      "userId": "10456728383422716320"
     }
    }
   },
   "cell_type": "code",
   "outputs": [
    {
     "metadata": {
      "tags": null
     },
     "name": "stderr",
     "output_type": "stream",
     "text": [
      "  3%|▎         | 1/30 [03:13<1:33:28, 193.41s/it]"
     ]
    },
    {
     "metadata": {
      "tags": null
     },
     "name": "stdout",
     "output_type": "stream",
     "text": [
      "\tTrain Loss:   6.308 | Train PPL: 549.185\n",
      "\tValid Loss:   6.119 | Valid PPL: 454.302\n"
     ]
    },
    {
     "metadata": {
      "tags": null
     },
     "name": "stderr",
     "output_type": "stream",
     "text": [
      "\r  7%|▋         | 2/30 [06:21<1:28:45, 190.19s/it]"
     ]
    },
    {
     "metadata": {
      "tags": null
     },
     "name": "stdout",
     "output_type": "stream",
     "text": [
      "\tTrain Loss:   6.094 | Train PPL: 443.145\n",
      "\tValid Loss:   6.102 | Valid PPL: 446.772\n"
     ]
    },
    {
     "metadata": {
      "tags": null
     },
     "name": "stderr",
     "output_type": "stream",
     "text": [
      "\r 10%|█         | 3/30 [09:28<1:25:03, 189.02s/it]"
     ]
    },
    {
     "metadata": {
      "tags": null
     },
     "name": "stdout",
     "output_type": "stream",
     "text": [
      "\tTrain Loss:   6.030 | Train PPL: 415.517\n",
      "\tValid Loss:   6.151 | Valid PPL: 469.368\n"
     ]
    },
    {
     "metadata": {
      "tags": null
     },
     "name": "stderr",
     "output_type": "stream",
     "text": [
      "\r 13%|█▎        | 4/30 [12:40<1:22:22, 190.09s/it]"
     ]
    },
    {
     "metadata": {
      "tags": null
     },
     "name": "stdout",
     "output_type": "stream",
     "text": [
      "\tTrain Loss:   5.826 | Train PPL: 338.840\n",
      "\tValid Loss:   6.427 | Valid PPL: 618.577\n"
     ]
    },
    {
     "metadata": {
      "tags": null
     },
     "name": "stderr",
     "output_type": "stream",
     "text": [
      "\r 17%|█▋        | 5/30 [15:50<1:19:11, 190.06s/it]"
     ]
    },
    {
     "metadata": {
      "tags": null
     },
     "name": "stdout",
     "output_type": "stream",
     "text": [
      "\tTrain Loss:   5.701 | Train PPL: 299.302\n",
      "\tValid Loss:   6.169 | Valid PPL: 477.494\n"
     ]
    },
    {
     "metadata": {
      "tags": null
     },
     "name": "stderr",
     "output_type": "stream",
     "text": [
      "\r 20%|██        | 6/30 [18:59<1:15:51, 189.66s/it]"
     ]
    },
    {
     "metadata": {
      "tags": null
     },
     "name": "stdout",
     "output_type": "stream",
     "text": [
      "\tTrain Loss:   5.546 | Train PPL: 256.319\n",
      "\tValid Loss:   6.289 | Valid PPL: 538.399\n"
     ]
    },
    {
     "metadata": {
      "tags": null
     },
     "name": "stderr",
     "output_type": "stream",
     "text": [
      "\r 23%|██▎       | 7/30 [22:09<1:12:44, 189.78s/it]"
     ]
    },
    {
     "metadata": {
      "tags": null
     },
     "name": "stdout",
     "output_type": "stream",
     "text": [
      "\tTrain Loss:   5.403 | Train PPL: 222.109\n",
      "\tValid Loss:   6.141 | Valid PPL: 464.704\n"
     ]
    },
    {
     "metadata": {
      "tags": null
     },
     "name": "stderr",
     "output_type": "stream",
     "text": [
      "\r 27%|██▋       | 8/30 [25:17<1:09:25, 189.33s/it]"
     ]
    },
    {
     "metadata": {
      "tags": null
     },
     "name": "stdout",
     "output_type": "stream",
     "text": [
      "\tTrain Loss:   5.305 | Train PPL: 201.403\n",
      "\tValid Loss:   6.150 | Valid PPL: 468.698\n"
     ]
    },
    {
     "metadata": {
      "tags": null
     },
     "name": "stderr",
     "output_type": "stream",
     "text": [
      "\r 30%|███       | 9/30 [28:30<1:06:34, 190.23s/it]"
     ]
    },
    {
     "metadata": {
      "tags": null
     },
     "name": "stdout",
     "output_type": "stream",
     "text": [
      "\tTrain Loss:   5.203 | Train PPL: 181.792\n",
      "\tValid Loss:   6.079 | Valid PPL: 436.742\n"
     ]
    },
    {
     "metadata": {
      "tags": null
     },
     "name": "stderr",
     "output_type": "stream",
     "text": [
      "\r 33%|███▎      | 10/30 [31:44<1:03:50, 191.53s/it]"
     ]
    },
    {
     "metadata": {
      "tags": null
     },
     "name": "stdout",
     "output_type": "stream",
     "text": [
      "\tTrain Loss:   5.158 | Train PPL: 173.792\n",
      "\tValid Loss:   6.057 | Valid PPL: 427.045\n"
     ]
    },
    {
     "metadata": {
      "tags": null
     },
     "name": "stderr",
     "output_type": "stream",
     "text": [
      "\r 37%|███▋      | 11/30 [34:56<1:00:42, 191.73s/it]"
     ]
    },
    {
     "metadata": {
      "tags": null
     },
     "name": "stdout",
     "output_type": "stream",
     "text": [
      "\tTrain Loss:   5.076 | Train PPL: 160.097\n",
      "\tValid Loss:   6.055 | Valid PPL: 426.358\n"
     ]
    },
    {
     "metadata": {
      "tags": null
     },
     "name": "stderr",
     "output_type": "stream",
     "text": [
      "\r 40%|████      | 12/30 [38:06<57:18, 191.02s/it]  "
     ]
    },
    {
     "metadata": {
      "tags": null
     },
     "name": "stdout",
     "output_type": "stream",
     "text": [
      "\tTrain Loss:   5.020 | Train PPL: 151.370\n",
      "\tValid Loss:   6.021 | Valid PPL: 411.926\n"
     ]
    },
    {
     "metadata": {
      "tags": null
     },
     "name": "stderr",
     "output_type": "stream",
     "text": [
      "\r 43%|████▎     | 13/30 [41:20<54:25, 192.09s/it]"
     ]
    },
    {
     "metadata": {
      "tags": null
     },
     "name": "stdout",
     "output_type": "stream",
     "text": [
      "\tTrain Loss:   4.900 | Train PPL: 134.267\n",
      "\tValid Loss:   5.857 | Valid PPL: 349.733\n"
     ]
    },
    {
     "metadata": {
      "tags": null
     },
     "name": "stderr",
     "output_type": "stream",
     "text": [
      "\r 47%|████▋     | 14/30 [44:34<51:23, 192.70s/it]"
     ]
    },
    {
     "metadata": {
      "tags": null
     },
     "name": "stdout",
     "output_type": "stream",
     "text": [
      "\tTrain Loss:   4.780 | Train PPL: 119.047\n",
      "\tValid Loss:   5.778 | Valid PPL: 322.985\n"
     ]
    },
    {
     "metadata": {
      "tags": null
     },
     "name": "stderr",
     "output_type": "stream",
     "text": [
      "\r 50%|█████     | 15/30 [47:46<48:03, 192.25s/it]"
     ]
    },
    {
     "metadata": {
      "tags": null
     },
     "name": "stdout",
     "output_type": "stream",
     "text": [
      "\tTrain Loss:   4.681 | Train PPL: 107.829\n",
      "\tValid Loss:   5.865 | Valid PPL: 352.409\n"
     ]
    },
    {
     "metadata": {
      "tags": null
     },
     "name": "stderr",
     "output_type": "stream",
     "text": [
      "\r 53%|█████▎    | 16/30 [50:57<44:49, 192.13s/it]"
     ]
    },
    {
     "metadata": {
      "tags": null
     },
     "name": "stdout",
     "output_type": "stream",
     "text": [
      "\tTrain Loss:   4.625 | Train PPL: 101.958\n",
      "\tValid Loss:   5.733 | Valid PPL: 308.958\n"
     ]
    },
    {
     "metadata": {
      "tags": null
     },
     "name": "stderr",
     "output_type": "stream",
     "text": [
      "\r 57%|█████▋    | 17/30 [54:10<41:39, 192.28s/it]"
     ]
    },
    {
     "metadata": {
      "tags": null
     },
     "name": "stdout",
     "output_type": "stream",
     "text": [
      "\tTrain Loss:   4.545 | Train PPL:  94.173\n",
      "\tValid Loss:   5.727 | Valid PPL: 306.996\n"
     ]
    },
    {
     "metadata": {
      "tags": null
     },
     "name": "stderr",
     "output_type": "stream",
     "text": [
      "\r 60%|██████    | 18/30 [57:22<38:27, 192.25s/it]"
     ]
    },
    {
     "metadata": {
      "tags": null
     },
     "name": "stdout",
     "output_type": "stream",
     "text": [
      "\tTrain Loss:   4.492 | Train PPL:  89.268\n",
      "\tValid Loss:   5.722 | Valid PPL: 305.508\n"
     ]
    },
    {
     "metadata": {
      "tags": null
     },
     "name": "stderr",
     "output_type": "stream",
     "text": [
      "\r 63%|██████▎   | 19/30 [1:00:33<35:11, 191.93s/it]"
     ]
    },
    {
     "metadata": {
      "tags": null
     },
     "name": "stdout",
     "output_type": "stream",
     "text": [
      "\tTrain Loss:   4.446 | Train PPL:  85.258\n",
      "\tValid Loss:   5.675 | Valid PPL: 291.595\n"
     ]
    },
    {
     "metadata": {
      "tags": null
     },
     "name": "stderr",
     "output_type": "stream",
     "text": [
      "\r 67%|██████▋   | 20/30 [1:03:43<31:51, 191.20s/it]"
     ]
    },
    {
     "metadata": {
      "tags": null
     },
     "name": "stdout",
     "output_type": "stream",
     "text": [
      "\tTrain Loss:   4.414 | Train PPL:  82.605\n",
      "\tValid Loss:   5.649 | Valid PPL: 284.083\n"
     ]
    },
    {
     "metadata": {
      "tags": null
     },
     "name": "stderr",
     "output_type": "stream",
     "text": [
      "\r 70%|███████   | 21/30 [1:06:50<28:28, 189.85s/it]"
     ]
    },
    {
     "metadata": {
      "tags": null
     },
     "name": "stdout",
     "output_type": "stream",
     "text": [
      "\tTrain Loss:   4.331 | Train PPL:  76.012\n",
      "\tValid Loss:   5.612 | Valid PPL: 273.781\n"
     ]
    },
    {
     "metadata": {
      "tags": null
     },
     "name": "stderr",
     "output_type": "stream",
     "text": [
      "\r 73%|███████▎  | 22/30 [1:10:01<25:21, 190.17s/it]"
     ]
    },
    {
     "metadata": {
      "tags": null
     },
     "name": "stdout",
     "output_type": "stream",
     "text": [
      "\tTrain Loss:   4.276 | Train PPL:  71.948\n",
      "\tValid Loss:   5.550 | Valid PPL: 257.299\n"
     ]
    },
    {
     "metadata": {
      "tags": null
     },
     "name": "stderr",
     "output_type": "stream",
     "text": [
      "\r 77%|███████▋  | 23/30 [1:13:14<22:17, 191.07s/it]"
     ]
    },
    {
     "metadata": {
      "tags": null
     },
     "name": "stdout",
     "output_type": "stream",
     "text": [
      "\tTrain Loss:   4.222 | Train PPL:  68.201\n",
      "\tValid Loss:   5.541 | Valid PPL: 254.897\n"
     ]
    },
    {
     "metadata": {
      "tags": null
     },
     "name": "stderr",
     "output_type": "stream",
     "text": [
      "\r 80%|████████  | 24/30 [1:16:26<19:08, 191.34s/it]"
     ]
    },
    {
     "metadata": {
      "tags": null
     },
     "name": "stdout",
     "output_type": "stream",
     "text": [
      "\tTrain Loss:   4.176 | Train PPL:  65.073\n",
      "\tValid Loss:   5.491 | Valid PPL: 242.387\n"
     ]
    },
    {
     "output_type": "stream",
     "name": "stderr",
     "text": [
      "\r 83%|████████▎ | 25/30 [1:19:37<15:56, 191.36s/it]"
     ]
    },
    {
     "output_type": "stream",
     "name": "stdout",
     "text": [
      "\tTrain Loss:   4.125 | Train PPL:  61.843\n",
      "\tValid Loss:   5.482 | Valid PPL: 240.304\n"
     ]
    },
    {
     "output_type": "stream",
     "name": "stderr",
     "text": [
      "\r 87%|████████▋ | 26/30 [1:22:43<12:38, 189.67s/it]"
     ]
    },
    {
     "output_type": "stream",
     "name": "stdout",
     "text": [
      "\tTrain Loss:   4.082 | Train PPL:  59.293\n",
      "\tValid Loss:   5.502 | Valid PPL: 245.065\n"
     ]
    },
    {
     "output_type": "stream",
     "name": "stderr",
     "text": [
      "\r 90%|█████████ | 27/30 [1:25:54<09:30, 190.06s/it]"
     ]
    },
    {
     "output_type": "stream",
     "name": "stdout",
     "text": [
      "\tTrain Loss:   4.030 | Train PPL:  56.235\n",
      "\tValid Loss:   5.480 | Valid PPL: 239.785\n"
     ]
    },
    {
     "output_type": "stream",
     "name": "stderr",
     "text": [
      "\r 93%|█████████▎| 28/30 [1:29:07<06:21, 190.87s/it]"
     ]
    },
    {
     "output_type": "stream",
     "name": "stdout",
     "text": [
      "\tTrain Loss:   4.002 | Train PPL:  54.700\n",
      "\tValid Loss:   5.490 | Valid PPL: 242.363\n"
     ]
    },
    {
     "output_type": "stream",
     "name": "stderr",
     "text": [
      "\r 97%|█████████▋| 29/30 [1:32:16<03:10, 190.43s/it]"
     ]
    },
    {
     "output_type": "stream",
     "name": "stdout",
     "text": [
      "\tTrain Loss:   3.989 | Train PPL:  53.989\n",
      "\tValid Loss:   5.428 | Valid PPL: 227.786\n"
     ]
    },
    {
     "output_type": "stream",
     "name": "stderr",
     "text": [
      "100%|██████████| 30/30 [1:35:27<00:00, 190.91s/it]"
     ]
    },
    {
     "output_type": "stream",
     "name": "stdout",
     "text": [
      "\tTrain Loss:   3.927 | Train PPL:  50.734\n",
      "\tValid Loss:   5.437 | Valid PPL: 229.666\n"
     ]
    },
    {
     "output_type": "stream",
     "name": "stderr",
     "text": [
      "\n"
     ]
    }
   ],
   "execution_count": 23,
   "source": [
    "n_epochs = 30\n",
    "clip = 1.0\n",
    "teacher_forcing_ratio = 0.6\n",
    "output_model = '/content/gdrive/My Drive/Colab Notebooks/gec24/models/model8.pt'\n",
    "\n",
    "best_valid_loss = float(\"inf\")\n",
    "train_losses = []\n",
    "valid_losses = []\n",
    "\n",
    "for epoch in tqdm.tqdm(range(n_epochs)):\n",
    "    train_loss = train_fn(\n",
    "        model,\n",
    "        train_data_loader,\n",
    "        optimizer,\n",
    "        criterion,\n",
    "        clip,\n",
    "        teacher_forcing_ratio,\n",
    "        device,\n",
    "    )\n",
    "    valid_loss = evaluate_fn(\n",
    "        model,\n",
    "        dev_data_loader,\n",
    "        criterion,\n",
    "        device,\n",
    "    )\n",
    "\n",
    "    train_losses.append(train_loss)\n",
    "    valid_losses.append(valid_loss)\n",
    "\n",
    "    if valid_loss < best_valid_loss:\n",
    "        best_valid_loss = valid_loss\n",
    "        torch.save(model.state_dict(), output_model)\n",
    "    print(f\"\\tTrain Loss: {train_loss:7.3f} | Train PPL: {np.exp(train_loss):7.3f}\")\n",
    "    print(f\"\\tValid Loss: {valid_loss:7.3f} | Valid PPL: {np.exp(valid_loss):7.3f}\")"
   ],
   "id": "10b0d46e3397edb4"
  },
  {
   "metadata": {},
   "cell_type": "markdown",
   "source": "Visualizing the training:",
   "id": "446a2653b9368b68"
  },
  {
   "metadata": {
    "id": "1e61bd3aa73c9b5b",
    "executionInfo": {
     "status": "ok",
     "timestamp": 1723714676904,
     "user_tz": -120,
     "elapsed": 7,
     "user": {
      "displayName": "Polina Danilovskaia",
      "userId": "10456728383422716320"
     }
    },
    "colab": {
     "base_uri": "https://localhost:8080/",
     "height": 438
    },
    "outputId": "bede8ce5-b28a-4699-ce4d-a02ed5f37895"
   },
   "cell_type": "code",
   "outputs": [
    {
     "output_type": "display_data",
     "data": {
      "text/plain": [
       "<Figure size 1000x500 with 1 Axes>"
      ],
      "image/png": "[encoded data removed]"
     },
     "metadata": {}
    }
   ],
   "execution_count": 24,
   "source": [
    "plt.figure(figsize=(10, 5))\n",
    "plt.plot(train_losses, label='Train Loss')\n",
    "plt.plot(valid_losses, label='Validation Loss')\n",
    "plt.xlabel('Epochs')\n",
    "plt.ylabel('Loss')\n",
    "plt.title('Training and Validation Loss')\n",
    "plt.legend()\n",
    "plt.show()"
   ],
   "id": "1e61bd3aa73c9b5b"
  },
  {
   "metadata": {},
   "cell_type": "markdown",
   "source": "Computing test loss:",
   "id": "d2856d1bf9ebda9a"
  },
  {
   "metadata": {
    "id": "efdcd1a03e480ad8",
    "executionInfo": {
     "status": "ok",
     "timestamp": 1723714679997,
     "user_tz": -120,
     "elapsed": 3099,
     "user": {
      "displayName": "Polina Danilovskaia",
      "userId": "10456728383422716320"
     }
    },
    "colab": {
     "base_uri": "https://localhost:8080/"
    },
    "outputId": "b2022c97-c04c-4e82-8df5-ec82c329d12c"
   },
   "cell_type": "code",
   "outputs": [
    {
     "output_type": "stream",
     "name": "stdout",
     "text": [
      "| Test Loss: 6.152 | Test PPL: 469.835 |\n"
     ]
    }
   ],
   "execution_count": 25,
   "source": [
    "model.load_state_dict(torch.load(output_model))\n",
    "\n",
    "test_loss = evaluate_fn(model, test_data_loader, criterion, device)\n",
    "\n",
    "print(f\"| Test Loss: {test_loss:.3f} | Test PPL: {np.exp(test_loss):7.3f} |\")"
   ],
   "id": "efdcd1a03e480ad8"
  },
  {
   "metadata": {},
   "cell_type": "markdown",
   "source": "At last, we can see how our model makes corrections to three sentences in practice.",
   "id": "f73559a5500155c4"
  },
  {
   "cell_type": "code",
   "source": [
    "def correct_sentence(\n",
    "    sentence,\n",
    "    model,\n",
    "    sp,\n",
    "    sos_token,\n",
    "    eos_token,\n",
    "    device,\n",
    "    max_output_length=25,\n",
    "):\n",
    "    model.eval()\n",
    "    with torch.no_grad():\n",
    "        # Tokenize sentence with SentencePiece\n",
    "        tokens = sp.encode_as_pieces(sentence)\n",
    "        tokens = [sos_token] + tokens + [eos_token]  # Add SOS and EOS tokens\n",
    "\n",
    "        # Encode tokens to get IDs\n",
    "        ids = sp.encode_as_ids(sentence)\n",
    "        tensor = torch.LongTensor(ids).unsqueeze(-1).to(device)\n",
    "\n",
    "        hidden, cell = model.encoder(tensor)\n",
    "\n",
    "        inputs = [sp.bos_id()]  # Use BOS token ID\n",
    "        for _ in range(max_output_length):\n",
    "            inputs_tensor = torch.LongTensor([inputs[-1]]).to(device)\n",
    "            output, hidden, cell = model.decoder(inputs_tensor, hidden, cell)\n",
    "            predicted_token_id = output.argmax(-1).item()\n",
    "            inputs.append(predicted_token_id)\n",
    "            if predicted_token_id == sp.eos_id():\n",
    "                break\n",
    "\n",
    "        # Decode predicted token IDs to tokens\n",
    "        predicted_tokens = sp.decode_ids(inputs)\n",
    "\n",
    "    return predicted_tokens"
   ],
   "metadata": {
    "id": "3eWS_vbeBMjB",
    "executionInfo": {
     "status": "ok",
     "timestamp": 1723714679998,
     "user_tz": -120,
     "elapsed": 14,
     "user": {
      "displayName": "Polina Danilovskaia",
      "userId": "10456728383422716320"
     }
    }
   },
   "id": "3eWS_vbeBMjB",
   "execution_count": 26,
   "outputs": []
  },
  {
   "metadata": {},
   "cell_type": "markdown",
   "source": "First example",
   "id": "7f1d1f03c4f754e9"
  },
  {
   "cell_type": "code",
   "source": [
    "sentence = test_data[17][\"src\"]\n",
    "expected_correction = test_data[17][\"tgt\"]\n",
    "sentence, expected_correction"
   ],
   "metadata": {
    "id": "1dm_CfSGB50_",
    "executionInfo": {
     "status": "ok",
     "timestamp": 1723714679998,
     "user_tz": -120,
     "elapsed": 13,
     "user": {
      "displayName": "Polina Danilovskaia",
      "userId": "10456728383422716320"
     }
    },
    "colab": {
     "base_uri": "https://localhost:8080/"
    },
    "outputId": "1af87426-4b9e-454a-a3ac-078cbae1b3cc"
   },
   "id": "1dm_CfSGB50_",
   "execution_count": 27,
   "outputs": [
    {
     "output_type": "execute_result",
     "data": {
      "text/plain": [
       "(\"Although such a show of strength by these works ' characters is sometimes viewed as a violent and therefore negative contribution to the otherwise insightful thought of the author , it is this conflict upon which many stories of ethnic American literature are based .\",\n",
       " \"Although such a show of strength by these works ' characters is sometimes viewed as a violent and therefore negative contribution to the otherwise insightful thought of the author , it is this conflict upon which many stories of ethnic American literature are based .\")"
      ]
     },
     "metadata": {},
     "execution_count": 27
    }
   ]
  },
  {
   "cell_type": "code",
   "source": [
    "correction = correct_sentence(\n",
    "    sentence,\n",
    "    model,\n",
    "    sp,\n",
    "    'BOS',\n",
    "    'EOS',\n",
    "    'cuda'\n",
    ")"
   ],
   "metadata": {
    "id": "IE96PTZGBepU",
    "executionInfo": {
     "status": "ok",
     "timestamp": 1723714679998,
     "user_tz": -120,
     "elapsed": 10,
     "user": {
      "displayName": "Polina Danilovskaia",
      "userId": "10456728383422716320"
     }
    }
   },
   "id": "IE96PTZGBepU",
   "execution_count": 28,
   "outputs": []
  },
  {
   "cell_type": "code",
   "source": [
    "correction"
   ],
   "metadata": {
    "id": "NMtswIM0Blu4",
    "executionInfo": {
     "status": "ok",
     "timestamp": 1723714679999,
     "user_tz": -120,
     "elapsed": 11,
     "user": {
      "displayName": "Polina Danilovskaia",
      "userId": "10456728383422716320"
     }
    },
    "colab": {
     "base_uri": "https://localhost:8080/",
     "height": 73
    },
    "outputId": "49c756d7-0e88-49a2-8bb4-e27c37946599"
   },
   "id": "NMtswIM0Blu4",
   "execution_count": 29,
   "outputs": [
    {
     "output_type": "execute_result",
     "data": {
      "text/plain": [
       "'In the beginning of the questionnaire , they of thess , thes , thes and thes and thes'"
      ],
      "application/vnd.google.colaboratory.intrinsic+json": {
       "type": "string"
      }
     },
     "metadata": {},
     "execution_count": 29
    }
   ]
  },
  {
   "metadata": {},
   "cell_type": "markdown",
   "source": "Second example",
   "id": "fb695435b4e4227"
  },
  {
   "cell_type": "code",
   "source": [
    "sentence = test_data[34][\"src\"]\n",
    "expected_correction = test_data[34][\"tgt\"]\n",
    "sentence, expected_correction"
   ],
   "metadata": {
    "id": "x2FzxDUnCIVt",
    "executionInfo": {
     "status": "ok",
     "timestamp": 1723714679999,
     "user_tz": -120,
     "elapsed": 10,
     "user": {
      "displayName": "Polina Danilovskaia",
      "userId": "10456728383422716320"
     }
    },
    "colab": {
     "base_uri": "https://localhost:8080/"
    },
    "outputId": "362735bf-49bf-4aee-fab9-85df7d3d84d0"
   },
   "id": "x2FzxDUnCIVt",
   "execution_count": 30,
   "outputs": [
    {
     "output_type": "execute_result",
     "data": {
      "text/plain": [
       "('On arrival they see starvation and death .',\n",
       " 'On arrival they see starvation and death .')"
      ]
     },
     "metadata": {},
     "execution_count": 30
    }
   ]
  },
  {
   "cell_type": "code",
   "source": [
    "correction = correct_sentence(\n",
    "    sentence,\n",
    "    model,\n",
    "    sp,\n",
    "    'BOS',\n",
    "    'EOS',\n",
    "    'cuda'\n",
    ")\n",
    "correction"
   ],
   "metadata": {
    "id": "_-iwHjwbCMUm",
    "executionInfo": {
     "status": "ok",
     "timestamp": 1723714679999,
     "user_tz": -120,
     "elapsed": 6,
     "user": {
      "displayName": "Polina Danilovskaia",
      "userId": "10456728383422716320"
     }
    },
    "colab": {
     "base_uri": "https://localhost:8080/",
     "height": 56
    },
    "outputId": "d2c7fe2e-b48c-45d8-b4ad-b3963ff2afaa"
   },
   "id": "_-iwHjwbCMUm",
   "execution_count": 31,
   "outputs": [
    {
     "output_type": "execute_result",
     "data": {
      "text/plain": [
       "'In addition , there are a lots .'"
      ],
      "application/vnd.google.colaboratory.intrinsic+json": {
       "type": "string"
      }
     },
     "metadata": {},
     "execution_count": 31
    }
   ]
  },
  {
   "metadata": {},
   "cell_type": "markdown",
   "source": "Third example",
   "id": "58ccf556166ec40c"
  },
  {
   "cell_type": "code",
   "source": [
    "sentence = 'Two cats is catching a butterfly.'\n",
    "correction = correct_sentence(\n",
    "    sentence,\n",
    "    model,\n",
    "    sp,\n",
    "    'BOS',\n",
    "    'EOS',\n",
    "    'cuda'\n",
    ")\n",
    "correction"
   ],
   "metadata": {
    "id": "EaQYWcNqcYaM",
    "executionInfo": {
     "status": "ok",
     "timestamp": 1723714680000,
     "user_tz": -120,
     "elapsed": 7,
     "user": {
      "displayName": "Polina Danilovskaia",
      "userId": "10456728383422716320"
     }
    },
    "colab": {
     "base_uri": "https://localhost:8080/",
     "height": 56
    },
    "outputId": "8ecf0ca1-1736-46b3-a53a-5485adffc4c9"
   },
   "id": "EaQYWcNqcYaM",
   "execution_count": 32,
   "outputs": [
    {
     "output_type": "execute_result",
     "data": {
      "text/plain": [
       "'and verymental and , and a very .'"
      ],
      "application/vnd.google.colaboratory.intrinsic+json": {
       "type": "string"
      }
     },
     "metadata": {},
     "execution_count": 32
    }
   ]
  }
 ],
 "metadata": {
  "kernelspec": {
   "display_name": "Python 3",
   "name": "python3"
  },
  "language_info": {
   "codemirror_mode": {
    "name": "ipython",
    "version": 2
   },
   "file_extension": ".py",
   "mimetype": "text/x-python",
   "name": "python",
   "nbconvert_exporter": "python",
   "pygments_lexer": "ipython2",
   "version": "2.7.6"
  },
  "colab": {
   "provenance": [],
   "gpuType": "A100"
  },
  "accelerator": "GPU"
 },
 "nbformat": 4,
 "nbformat_minor": 5
}
